{
 "cells": [
  {
   "cell_type": "markdown",
   "metadata": {},
   "source": [
    "### Fitting Logistic Regression\n",
    "\n",
    "In this first notebook, you will be fitting a logistic regression model to a dataset where we would like to predict if a transaction is fraud or not.\n",
    "\n",
    "To get started let's read in the libraries and take a quick look at the dataset."
   ]
  },
  {
   "cell_type": "code",
   "execution_count": 5,
   "metadata": {},
   "outputs": [],
   "source": [
    "import numpy as np\n",
    "import pandas as pd\n",
    "import statsmodels.api as sm\n",
    "from sklearn.linear_model import LogisticRegression\n",
    "import matplotlib.pyplot as plt\n",
    "import array"
   ]
  },
  {
   "cell_type": "code",
   "execution_count": 104,
   "metadata": {},
   "outputs": [
    {
     "data": {
      "text/plain": [
       "Index(['placement', 'position', 'browser', 'carrier', 'domain', 'supply_type',\n",
       "       'language', 'region', 'os_extended', 'publisher', 'device_model',\n",
       "       'device_type', 'user_day', 'user_hour', 'size', 'response'],\n",
       "      dtype='object')"
      ]
     },
     "execution_count": 104,
     "metadata": {},
     "output_type": "execute_result"
    }
   ],
   "source": [
    "df = pd.read_csv('./data/xaxis/train.csv')\n",
    "df_test = pd.read_csv('./data/xaxis/test.csv')\n",
    "\n",
    "df2 = df.drop(['publisher','placement','device_model','response'],1)\n",
    "\n",
    "#Some websites are NaN but do have a response of 1 so replacing them with unknown\n",
    "#df.dropna(inplace=True)\n",
    "df['domain'].fillna('Unknown',inplace=True)\n",
    "df[(df['domain']=='Unknown') & (df['response']==1)].head()\n",
    "df.columns"
   ]
  },
  {
   "cell_type": "code",
   "execution_count": 90,
   "metadata": {
    "scrolled": true
   },
   "outputs": [
    {
     "name": "stdout",
     "output_type": "stream",
     "text": [
      "[0 1 2 3 4 5]\n",
      "   position  browser  carrier         domain  supply_type  language  region  \\\n",
      "0         0       18      283   dramacity.se            1         1       0   \n",
      "1         0        8        1   dramacity.se            1         1       0   \n",
      "2         0        8        1  kissasian.com            1         1       0   \n",
      "3         0        9        1     icdrama.se            1         2       0   \n",
      "4         0       21        1  kissasian.com            1         1       0   \n",
      "\n",
      "   os_extended  user_day  user_hour     size  device0  device1  device2  \\\n",
      "0          137         2         14  300x250        0        1        0   \n",
      "1           92         6         13  300x250        0        1        0   \n",
      "2          141         4         11  300x250        0        0        1   \n",
      "3           80         2         11  300x250        0        0        0   \n",
      "4          155         6         11  300x250        0        1        0   \n",
      "\n",
      "   device3  device4  device5  \n",
      "0        0        0        0  \n",
      "1        0        0        0  \n",
      "2        0        0        0  \n",
      "3        0        1        0  \n",
      "4        0        0        0  \n",
      "[0 1 2 3 4]\n",
      "position [0 1 2]\n",
      "browser [18  8  9 21 26  0 14 10  7 19 24 22  5  4 16 17 13 28 11 25  6 29  1 20 27]\n",
      "carrier [283   1 282 284  60]\n",
      "domain ['dramacity.se' 'kissasian.com' 'icdrama.se' ..., 'collider.com'\n",
      " 'craftsy.com' 'uwasakijo.net']\n",
      "supply_type [1 0 2]\n",
      "language [ 1  2  0 36 32 11 10  4  5  7 23  9  3  8 18 19  6 37 34 14 12 33 15 38 26\n",
      " 35 40 20 29 27 17 25 16]\n",
      "region [0 4 2 1 5]\n",
      "os_extended [137  92 141  80 155 130 156 150 166 113 114 125  46   0  45 167 157 136\n",
      " 142  83  99 119 161  69 124 135 138  93 147 143 101 154 160 162 140  41\n",
      " 129  90  40 139  97 144  94 151  55 152 128 168 169  39  43 158  72  71\n",
      " 148  75  78 153  52 100 164 163  91  25  19 108  22 134  68  70  81  73\n",
      "  82  28  77  37  95  42  36 159  65  30  44  29  84  67  38  24  61  88\n",
      "  74  64  16  15]\n",
      "user_day [2 6 4 3 1 0 5]\n",
      "user_hour [14 13 11 16  8  2  0 15 12  1 18 10  4  3  6  7  9  5 17 19 20]\n",
      "device0 [0 1]\n",
      "device1 [1 0]\n",
      "device2 [0 1]\n",
      "device3 [0 1]\n",
      "device4 [0 1]\n",
      "device5 [0 1]\n",
      "size0 [0 1]\n",
      "size1 [1 0]\n",
      "size2 [0 1]\n",
      "size3 [0 1]\n",
      "size4 [0 1]\n"
     ]
    },
    {
     "data": {
      "text/plain": [
       "Index(['position', 'browser', 'carrier', 'domain', 'supply_type', 'language',\n",
       "       'region', 'os_extended', 'user_day', 'user_hour', 'device0', 'device1',\n",
       "       'device2', 'device3', 'device4', 'device5', 'size0', 'size1', 'size2',\n",
       "       'size3', 'size4'],\n",
       "      dtype='object')"
      ]
     },
     "execution_count": 90,
     "metadata": {},
     "output_type": "execute_result"
    }
   ],
   "source": [
    "#Response\n",
    "dfy=df['response']\n",
    "\n",
    "#Features, create dummies for categorical variables\n",
    "myarr=df2['device_type'].unique()\n",
    "newarr=np.arange(len(myarr))\n",
    "print(newarr)\n",
    "for i in newarr:\n",
    "    myarr[i]='device{}'.format(i)\n",
    "df2[myarr]=pd.get_dummies(df['device_type'])\n",
    "df2.drop('device_type',axis=1,inplace=True)\n",
    "print(df2.head())\n",
    "\n",
    "myarr=df2['size'].unique()\n",
    "newarr=np.arange(len(myarr))\n",
    "print(newarr)\n",
    "for i in newarr:\n",
    "    myarr[i]='size{}'.format(i)\n",
    "df2[myarr]=pd.get_dummies(df['size'])\n",
    "df2.drop('size',axis=1,inplace=True)\n",
    "df2.head()\n",
    "\n",
    "for col in df2.columns:\n",
    "    print(col,df2[col].unique())\n",
    "#    print(df2[col].isnull().values.any())\n",
    "\n",
    "df2.columns"
   ]
  },
  {
   "cell_type": "code",
   "execution_count": 10,
   "metadata": {},
   "outputs": [
    {
     "data": {
      "image/png": "[encoded data removed]",
      "text/plain": [
       "<matplotlib.figure.Figure at 0x2dfca48fcf8>"
      ]
     },
     "metadata": {},
     "output_type": "display_data"
    },
    {
     "data": {
      "image/png": "[encoded data removed]",
      "text/plain": [
       "<matplotlib.figure.Figure at 0x2dfca3ff048>"
      ]
     },
     "metadata": {},
     "output_type": "display_data"
    },
    {
     "name": "stdout",
     "output_type": "stream",
     "text": [
      "3.0 4.0\n"
     ]
    },
    {
     "data": {
      "image/png": "[encoded data removed]",
      "text/plain": [
       "<matplotlib.figure.Figure at 0x2dfca6429b0>"
      ]
     },
     "metadata": {},
     "output_type": "display_data"
    },
    {
     "data": {
      "image/png": "[encoded data removed]",
      "text/plain": [
       "<matplotlib.figure.Figure at 0x2dfcaddbb00>"
      ]
     },
     "metadata": {},
     "output_type": "display_data"
    },
    {
     "name": "stdout",
     "output_type": "stream",
     "text": [
      "10.54341683932944 10.90633608815427\n"
     ]
    },
    {
     "data": {
      "image/png": "[encoded data removed]",
      "text/plain": [
       "<matplotlib.figure.Figure at 0x2dfca417630>"
      ]
     },
     "metadata": {},
     "output_type": "display_data"
    },
    {
     "data": {
      "image/png": "[encoded data removed]",
      "text/plain": [
       "<matplotlib.figure.Figure at 0x2dfca919128>"
      ]
     },
     "metadata": {},
     "output_type": "display_data"
    },
    {
     "name": "stdout",
     "output_type": "stream",
     "text": [
      "12638.705701010862 17053.600550964187\n"
     ]
    }
   ],
   "source": [
    "bkg= df[(df.response==0)]\n",
    "sig= df[(df.response==1)]\n",
    "\n",
    "var='user_day'\n",
    "plt.hist(bkg[var])\n",
    "plt.show()\n",
    "plt.hist(sig[var])\n",
    "plt.show()\n",
    "print(np.median(bkg[var]),np.median(sig[var]))\n",
    "\n",
    "var='user_hour'\n",
    "plt.hist(bkg[var])\n",
    "plt.show()\n",
    "plt.hist(sig[var])\n",
    "plt.show()\n",
    "print(np.mean(bkg[var]),np.mean(sig[var]))\n",
    "\n",
    "var='device_model'\n",
    "plt.hist(bkg[var])\n",
    "plt.show()\n",
    "plt.hist(sig[var])\n",
    "plt.show()\n",
    "print(np.mean(bkg[var]),np.mean(sig[var]))"
   ]
  },
  {
   "cell_type": "code",
   "execution_count": 3,
   "metadata": {},
   "outputs": [
    {
     "data": {
      "text/plain": [
       "region\n",
       "0    153266\n",
       "1       616\n",
       "2      1435\n",
       "4      4622\n",
       "5        57\n",
       "dtype: int64"
      ]
     },
     "execution_count": 3,
     "metadata": {},
     "output_type": "execute_result"
    }
   ],
   "source": [
    "df.groupby(['region']).size()"
   ]
  },
  {
   "cell_type": "code",
   "execution_count": 4,
   "metadata": {},
   "outputs": [
    {
     "data": {
      "text/plain": [
       "carrier\n",
       "1      127984\n",
       "60         57\n",
       "282     13168\n",
       "283     11664\n",
       "284      7123\n",
       "dtype: int64"
      ]
     },
     "execution_count": 4,
     "metadata": {},
     "output_type": "execute_result"
    }
   ],
   "source": [
    "df.groupby(['carrier']).size()"
   ]
  },
  {
   "cell_type": "code",
   "execution_count": 38,
   "metadata": {},
   "outputs": [
    {
     "data": {
      "text/plain": [
       "633687     78391\n",
       "995228     22326\n",
       "760478      7973\n",
       "999999      6587\n",
       "476215      5652\n",
       "293282      3695\n",
       "664349      3176\n",
       "820132      2723\n",
       "592198      2379\n",
       "451274      1787\n",
       "991633      1124\n",
       "949105       891\n",
       "367049       857\n",
       "887014       799\n",
       "860041       741\n",
       "665640       689\n",
       "860040       591\n",
       "767135       587\n",
       "665210       547\n",
       "667657       543\n",
       "931175       508\n",
       "760748       485\n",
       "448198       453\n",
       "922476       424\n",
       "991188       411\n",
       "286640       389\n",
       "694930       367\n",
       "994925       355\n",
       "537015       343\n",
       "66177        321\n",
       "           ...  \n",
       "540861         1\n",
       "991358         1\n",
       "451270         1\n",
       "807952         1\n",
       "765637         1\n",
       "1018945        1\n",
       "763881         1\n",
       "764606         1\n",
       "762601         1\n",
       "591804         1\n",
       "761283         1\n",
       "1028493        1\n",
       "189864         1\n",
       "478453         1\n",
       "521896         1\n",
       "1034469        1\n",
       "1054514        1\n",
       "68598          1\n",
       "888953         1\n",
       "1011446        1\n",
       "1031101        1\n",
       "582279         1\n",
       "301657         1\n",
       "970344         1\n",
       "765628         1\n",
       "563780         1\n",
       "762438         1\n",
       "838736         1\n",
       "835085         1\n",
       "761168         1\n",
       "Name: publisher, Length: 823, dtype: int64"
      ]
     },
     "execution_count": 38,
     "metadata": {},
     "output_type": "execute_result"
    }
   ],
   "source": [
    "df['publisher'].value_counts()"
   ]
  },
  {
   "cell_type": "markdown",
   "metadata": {},
   "source": [
    "There are 823 Unique Publisher values"
   ]
  },
  {
   "cell_type": "code",
   "execution_count": 10,
   "metadata": {},
   "outputs": [
    {
     "name": "stdout",
     "output_type": "stream",
     "text": [
      "[0, 1, 4, 5, 6, 7, 8, 9, 10, 11, 13, 14, 16, 17, 18, 19, 20, 21, 22, 24, 25, 26, 27, 28, 29]\n",
      "[0, 1, 2, 3, 4, 5, 6, 7, 8, 9, 10, 11, 12, 13, 14, 15, 16, 17, 18, 19, 20]\n"
     ]
    }
   ],
   "source": [
    "print(sorted(df['browser'].unique()))\n",
    "len(df['browser'].unique())\n",
    "\n",
    "print(sorted(df['user_hour'].unique()))"
   ]
  },
  {
   "cell_type": "code",
   "execution_count": 102,
   "metadata": {},
   "outputs": [
    {
     "data": {
      "text/plain": [
       "57.305332633315835"
      ]
     },
     "execution_count": 102,
     "metadata": {},
     "output_type": "execute_result"
    }
   ],
   "source": [
    "from sklearn import preprocessing\n",
    "np.mean(df['carrier'])\n",
    "#preprocessing.normalize(df['carrier'])"
   ]
  },
  {
   "cell_type": "code",
   "execution_count": 91,
   "metadata": {},
   "outputs": [
    {
     "name": "stdout",
     "output_type": "stream",
     "text": [
      "2699\n",
      "             domain  count\n",
      "2694        msn.com   6123\n",
      "2695     icdrama.se  10212\n",
      "2696   dramacity.se  14134\n",
      "2697        Unknown  20692\n",
      "2698  kissasian.com  37601\n",
      "0           1\n",
      "1           1\n",
      "2           1\n",
      "3           1\n",
      "4           1\n",
      "5           1\n",
      "6           1\n",
      "7           1\n",
      "8           1\n",
      "9           1\n",
      "10          1\n",
      "11          1\n",
      "12          1\n",
      "13          1\n",
      "14          1\n",
      "15          1\n",
      "16          1\n",
      "17          1\n",
      "18          1\n",
      "19          1\n",
      "20          1\n",
      "21          1\n",
      "22          1\n",
      "23          1\n",
      "24          1\n",
      "25          1\n",
      "26          1\n",
      "27          1\n",
      "28          1\n",
      "29          1\n",
      "        ...  \n",
      "2669      551\n",
      "2670      577\n",
      "2671      583\n",
      "2672      587\n",
      "2673      720\n",
      "2674      756\n",
      "2675      799\n",
      "2676      826\n",
      "2677      834\n",
      "2678      844\n",
      "2679      847\n",
      "2680      891\n",
      "2681      926\n",
      "2682     1071\n",
      "2683     1124\n",
      "2684     1185\n",
      "2685     1283\n",
      "2686     1858\n",
      "2687     1875\n",
      "2688     2379\n",
      "2689     2579\n",
      "2690     2723\n",
      "2691     3350\n",
      "2692     3357\n",
      "2693     3390\n",
      "2694     6123\n",
      "2695    10212\n",
      "2696    14134\n",
      "2697    20692\n",
      "2698    37601\n",
      "Name: count, Length: 2699, dtype: int64\n"
     ]
    },
    {
     "name": "stderr",
     "output_type": "stream",
     "text": [
      "C:\\ProgramData\\Anaconda3\\lib\\site-packages\\ipykernel_launcher.py:23: SettingWithCopyWarning: \n",
      "A value is trying to be set on a copy of a slice from a DataFrame\n",
      "\n",
      "See the caveats in the documentation: http://pandas.pydata.org/pandas-docs/stable/indexing.html#indexing-view-versus-copy\n"
     ]
    }
   ],
   "source": [
    "#Categorize the websites\n",
    "print(len(df['domain'].unique()))\n",
    "#print(df['domain'].sort_values().unique())\n",
    "\n",
    "df.groupby(['browser','domain']).size()\n",
    "\n",
    "df.groupby(['language','domain']).size()\n",
    "\n",
    "#newgroup = df.groupby(['domain','user_day','user_hour']).size()\n",
    "#print(newgroup)\n",
    "\n",
    "newgroup = pd.DataFrame({'count':df.groupby('domain')['user_hour'].size().sort_values()}).reset_index()\n",
    "print(newgroup.tail())\n",
    "domain_names = newgroup['domain']\n",
    "count_val = newgroup['count']\n",
    "#print(domain_names)\n",
    "print(count_val)\n",
    "#Lets make bins <5 <100 < 500 < 1000 < 3000 < 5000 < 10000 < 20000 > 20000\n",
    "#newgroup[newgroup['count']<=5] = 0\n",
    "minval=[0,   5,1000,2000, 5000,10000,15000,20000,30000,40000]\n",
    "maxval=[5,1000,2000,5000,10000,15000,20000,30000,40000,100000]\n",
    "for i in range(9):\n",
    "    newgroup['count'][(newgroup['count'] >= minval[i]) & (newgroup['count'] < maxval[i])] = i"
   ]
  },
  {
   "cell_type": "code",
   "execution_count": 92,
   "metadata": {},
   "outputs": [
    {
     "name": "stdout",
     "output_type": "stream",
     "text": [
      "{'landezine.com': 0, 'lincyscookart.com': 0, 'liketotally80s.com': 0, 'likelo.me': 0, 'lfg.co': 0, 'lexusownersclub.com': 0, 'legendaryfind.com': 0, 'lecturas.com': 0, 'lebahndut.net': 0, 'learnersdictionary.com': 0, 'learn-english-online.org': 0, 'lazygirls.info': 0, 'layersofhappiness.com': 0, 'latercera.com': 0, 'lankapropertyweb.com': 0, 'landwatch.com': 0, 'lance.com.br': 0, 'lancashiretelegraph.co.uk': 0, 'linuxandubuntu.com': 0, 'lalawin.com': 0, 'littlebitfunky.com': 0, 'littleoslo.com': 0, 'manjulaskitchen.com': 0, 'managerzone.com': 0, 'management-issues.com': 0, 'mamaktalk.com': 0, 'malaysiadreamnews.com': 0, 'magazinedee.com': 0, 'mackolik.com': 0, 'macdailynews.com': 0, 'lyngsat-maps.com': 0, 'ludlowadvertiser.co.uk': 0, 'loveradio.com.ph': 0, 'lovelifepoems.net': 0, 'loseweightbyeating.com': 0, 'los40.com': 0, 'lm-us.com': 0, 'llifle.com': 0, 'livingincebuforums.com': 0, 'littlejapanmama.com': 0, 'lakshmipur24.com': 0, 'ladyissue.com': 0, 'kugli.com': 0, 'justanimestream.me': 0, 'jugem.jp': 0, 'jprail.com': 0, 'joybauer.com': 0, 'journeyofparenthood.com': 0, 'journaldugeek.com': 0, 'jollynotes.com': 0, 'jocksandstilettojill.com': 0, 'jensfavoritecookies.com': 0, 'japan-zone.com': 0, 'jaguarownersclub.com': 0, 'j-total.net': 0, 'j-lyric.net': 0, 'ivoox.com': 0, 'itoldyouiwassick.info': 0, 'italianfoodforever.com': 0, 'itaishinja.com': 0, 'justapinch.com': 0, 'k-vid.net': 0, 'kabarbisnis.com': 0, 'kaijeaw.com': 0, 'kugeln.io': 0, 'kron4.com': 0, 'kriminalitas.com': 0, 'koreafree.co.kr': 0, 'koreaboo.com': 0, 'kookje.co.kr': 0, 'knittingpatternsgalore.com': 0, 'kneeguru.co.uk': 0, 'manoramaonline.com': 0, 'kisslog2.com': 0, 'kinderart.com': 0, 'kijonotakuhaibin.com': 0, 'khaosod.co.th': 0, 'khaberni.com': 0, 'kezj.com': 0, 'ketemulagi.com': 0, 'karinto.in': 0, 'kalenderbali.org': 0, 'kindergartenworksheets.net': 0, 'manualslib.com': 0, 'mapleleafshotstove.com': 0, 'mapletip.com': 0, 'news39.net': 0, 'newparent.com': 0, 'newasiantv.me': 0, 'neotokyo.org': 0, 'neguzelsozler.com': 0, 'nc700-forum.com': 0, 'naturallivingideas.com': 0, 'nationalnewswatch.com': 0, 'names4muslims.com': 0, 'nabinagar24.com': 0, 'myshopping.com.au': 0, 'myschoolchildren.com': 0, 'myrapname.com': 0, 'mypnu.net': 0, 'myplaycity.com': 0, 'myphilippinelife.com': 0, 'myjoyfilledlife.com': 0, 'news71online.com': 0, 'newsonjapan.com': 0, 'newvision.co.ug': 0, 'nextgen-auto.com': 0, 'oantagonista.com': 0, 'oakleyforum.com': 0, 'oakdome.com': 0, 'nseguide.com': 0, 'nownews.com': 0, 'notable-quotes.com': 0, 'noshon.it': 0, 'normannorman.com': 0, 'myfridgefood.com': 0, 'nontonanime.id': 0, 'noisetrade.com': 0, 'nocowanie.pl': 0, 'nnews1.com': 0, 'nkfu.com': 0, 'niusnews.com': 0, 'nineanime.com': 0, 'nihonjinnanmin.com': 0, 'nfscars.net': 0, 'nolanfans.com': 0, 'issuu.com': 0, 'my-gti.com': 0, 'munchkintime.com': 0, 'mgonline.com': 0, 'mfmradio.fr': 0, 'merschat.com': 0, 'merdeka.com': 0, 'mental-arithmetic.co.uk': 0, 'memurlar.net': 0, 'memes.com': 0, 'megajobs.com': 0, 'mediaite.com': 0, 'mccall.com': 0, 'mayakitchenette.com': 0, 'maxmanroe.com': 0, 'maxgyan.com': 0, 'mattersofthebelly.com': 0, 'marthastewartweddings.com': 0, 'marthastewart.com': 0, 'mapsofindia.com': 0, 'mind-over-batter.com': 0, 'minecrafttexturepacks.com': 0, 'mingpao.com': 0, 'ministrytodaymag.com': 0, 'mtv.com.au': 0, 'mstaml.com': 0, 'mp3wifi.com': 0, 'movilcelular.es': 0, 'moviequotes.com': 0, 'moviemistakes.com': 0, 'mots-croises.ch': 0, 'motoringalliance.com': 0, 'mundoprimaria.com': 0, 'mora.jp': 0, 'momentumsports.co.uk': 0, 'moencode.club': 0, 'modifikasi.com': 0, 'mobilbekas.co.id': 0, 'mnet.com': 0, 'mmominds.com': 0, 'mkyong.com': 0, 'mix-and-stir.com': 0, 'mondinion.com': 0, 'onecall2ch.com': 0, 'islampos.com': 0, 'iplay.my': 0, 'forsal.pl': 0, 'forestforum.co.uk': 0, 'footwearnews.com': 0, 'footballwhispers.com': 0, 'football365.com': 0, 'football.co.uk': 0, 'foodpleasureandhealth.com': 0, 'foodiebaker.com': 0, 'fontsaddict.com': 0, 'fomos.kr': 0, 'fly4free.pl': 0, 'fllwrs.com': 0, 'flightstats.com': 0, 'flagworld.com': 0, 'firstshowing.net': 0, 'filmvorfuehrer.de': 0, 'file-minecraft.com': 0, 'fotosidan.se': 0, 'fifauteam.com': 0, 'foxdeportes.com': 0, 'free-ebooks.net': 0, 'fusuma444.com': 0, 'fussfreecooking.com': 0, 'furnituretoday.com': 0, 'funtrivia.com': 0, 'funkykit.com': 0, 'fun-stuff-to-do.com': 0, 'ftowngifts.com': 0, 'ft86club.com': 0, 'frugalfamilyfavorites.com': 0, 'freevitathemes.com': 0, 'freesoft-100.com': 0, 'freeformatter.com': 0, 'freechurchforms.com': 0, 'free.com.tw': 0, 'free-witchcraft-spells.com': 0, 'free-scores.com': 0, 'free-photos.biz': 0, 'frandroid.com': 0, 'fieggen.com': 0, 'ffdq.com': 0, 'feedreader.com': 0, 'eluniversal.com': 0, 'eltiempo.com': 0, 'elle.es': 0, 'elfagr.org': 0, 'electronicspoint.com': 0, 'electriciansforums.co.uk': 0, 'eleccionesvenezuela.com': 0, 'eiyoukeisan.com': 0, 'eigowithluke.com': 0, 'egpet.net': 0, 'edtguide.com': 0, 'easycounter.com': 0, 'easyanddelish.com': 0, 'eastcoastdaily.com': 0, 'e-reading.club': 0, 'e-grammar.org': 0, 'duniainformasikesehatan.com': 0, 'emergency-forum.de': 0, 'energyvoice.com': 0, 'enewsi.com': 0, 'englishcafe.jp': 0, 'feedingmykid.com': 0, 'favour.me': 0, 'farangdate.com': 0, 'faio.org': 0, 'eve-search.com': 0, 'eurolinguiste.com': 0, 'eurogamer.net': 0, 'eurobreeder.com': 0, 'fxcuisine.com': 0, 'etnews.com': 0, 'eslpuzzles.com': 0, 'eslflow.com': 0, 'escapehere.com': 0, 'epaperoheraldo.in': 0, 'enttrong.com': 0, 'entityframeworktutorial.net': 0, 'englishgrammarsecrets.com': 0, 'englishdaily626.com': 0, 'etiquettehell.com': 0, 'game-de.com': 0, 'gamebrott.com': 0, 'gamenaminator.com': 0, 'hotmovie21.com': 0, 'hotandflashy50.com': 0, 'hosuronline.com': 0, 'horoscopeastrologytarot.com': 0, 'homestylevegfood.com': 0, 'homemade-gifts-made-easy.com': 0, 'hollywood.com': 0, 'hoax-slayer.com': 0, 'highexistence.com': 0, 'hidefninja.com': 0, 'hidden247.com': 0, 'herinterest.com': 0, 'heraldcorp.com': 0, 'hebrides-news.com': 0, 'hebdotech.com': 0, 'heatst.com': 0, 'heatnation.com': 0, 'housebeautiful.co.uk': 0, 'hpplus.jp': 0, 'huffingtonpost.es': 0, 'hutong9.net': 0, 'invisiverse.com': 0, 'interfacelift.com': 0, 'intellectualtakeout.org': 0, 'inspiremore.com': 0, 'inspirationalarchive.com': 0, 'infoplease.com': 0, 'indobase.com': 0, 'indiewire.com': 0, 'hdwallpapers.net': 0, 'indiaresults.com': 0, 'indiabix.com': 0, 'ilacrehberi.com': 0, 'ifun.de': 0, 'ifanboy.com': 0, 'ieltsbuddy.com': 0, 'ideapit.net': 0, 'icancookthat.org': 0, 'hyperactivz.com': 0, 'indiamapped.com': 0, 'islamicboard.com': 0, 'hdesignideas.com': 0, 'hatland.com': 0, 'goliath.com': 0, 'goldderby.com': 0, 'goingawesomeplaces.com': 0, 'gods-and-monsters.com': 0, 'giveitlove.com': 0, 'gianlucadimarzio.com': 0, 'ggilbo.com': 0, 'germs.io': 0, 'geniusstuff.com': 0, 'gekisaka.jp': 0, 'geekalerts.com': 0, 'gazette-news.co.uk': 0, 'ganttproject.biz': 0, 'gamewith.jp': 0, 'gametop.com': 0, 'gamethemesongs.com': 0, 'gamepur.com': 0, 'goodhousekeeping.co.uk': 0, 'goodmanga.net': 0, 'googleusercontent.com': 0, 'gopetition.com': 0, 'hatla2ee.com': 0, 'harrypotterfanfiction.com': 0, 'hanginghyena.com': 0, 'handspeak.com': 0, 'handheld.com.vn': 0, 'gundammodelkits.com': 0, 'guitargaga.com': 0, 'guildwars2guru.com': 0, 'have8tv.com': 0, 'guesstheemoji-answers.com': 0, 'gsmchoice.com': 0, 'groupbuya.com': 0, 'grid.id': 0, 'greenocktelegraph.co.uk': 0, 'greekmythology.com': 0, 'greatschools.org': 0, 'gosugamers.net': 0, 'gossip1.net': 0, 'gta-sanandreas.com': 0, 'driversepson.com': 0, 'onepunchman.me': 0, 'onetimethrough.com': 0, 'thehathorlegacy.com': 0, 'thehansindia.com': 0, 'theglobalnews24.com': 0, 'theflamingvegan.com': 0, 'thefastlaneforum.com': 0, 'theconservativetreehouse.com': 0, 'thecentsiblelife.com': 0, 'theboltonnews.co.uk': 0, 'theastrologyroom.com': 0, 'the18.com': 0, 'thatanime.me': 0, 'thaitux.info': 0, 'thaitable.com': 0, 'thaigoodview.com': 0, 'tftcentral.co.uk': 0, 'testmy.net': 0, 'terraformars.org': 0, 'thehongkongcookery.com': 0, 'terra.com.br': 0, 'thehousebreakingbible.com': 0, 'thekitchn.com': 0, 'tofoodwithlove.com': 0, 'tiscali.it': 0, 'tinyurl.com': 0, 'tinyurbankitchen.com': 0, 'timesnewroman.ro': 0, 'thisrawsomeveganlife.com': 0, 'thickaccent.com': 0, 'thewindowsclub.com': 0, 'thetoptens.com': 0, 'thetimes.co.uk': 0, 'thesportsdaily.com': 0, 'theshiznit.co.uk': 0, 'thescottishsun.co.uk': 0, 'theoptionsinsider.com': 0, 'theodysseyonline.com': 0, 'themamasgirls.com': 0, 'thelocal.de': 0, 'thejoyfulfoodie.com': 0, 'telefonino.net': 0, 'technutty.co.uk': 0, 'technobuffalo.com': 0, 'studyhorror.com': 0, 'studiestoday.com': 0, 'studentdoctor.net': 0, 'streetmap.com': 0, 'strawberrysingh.com': 0, 'straightrazorplace.com': 0, 'stockbangladesh.com': 0, 'stealherstyle.net': 0, 'spursodyssey.com': 0, 'spritedatabase.net': 0, 'springmahjong.com': 0, 'spotthedifference.com': 0, 'sportsworldnews.com': 0, 'sportsmirchi.com': 0, 'sports.ru': 0, 'sportal.bg': 0, 'sport.co.uk': 0, 'stumingames.com': 0, 'stylecraze.com': 0, 'suaranews.co': 0, 'subbuskitchen.com': 0, 'technabob.com': 0, 'tbrfootball.com': 0, 'tamatalk.com': 0, 'tallpiscesgirl.com': 0, 'talkgp.com': 0, 'talkbass.com': 0, 'tagtele.com': 0, 'tabletitans.com': 0, 'tokyofashion.com': 0, 'synonyms.net': 0, 'swapnascuisine.com': 0, 'svenskdam.se': 0, 'sutekinakijo.com': 0, 'superwordsearchpuzzles.com': 0, 'superesportes.com.br': 0, 'sukattojapan.com': 0, 'sudantribune.com': 0, 'subeta.net': 0, 'sweetclipart.com': 0, 'tonesmobi.com': 0, 'tournamentsoftware.com': 0, 'trueandroid.com': 0, 'worldoflogs.com': 0, 'world-fusigi.net': 0, 'women.com': 0, 'womanista.com': 0, 'wokwithray.net': 0, 'wivb.com': 0, 'wiseshe.com': 0, 'wildtangent.ca': 0, 'whats-your-sign.com': 0, 'whatarethe7continents.com': 0, 'wewesell.com': 0, 'webqc.org': 0, 'webptt.com': 0, 'webpacman.com': 0, 'watchtvb.com': 0, 'watchonepiece.xyz': 0, 'watchitallabout.com': 0, 'worthingherald.co.uk': 0, 'wowkeren.com': 0, 'wpf-tutorial.com': 0, 'writerscafe.org': 0, 'zonakeren.com': 0, 'zodiac-astrology-horoscopes.com': 0, 'zerotohundred.com': 0, 'zastavki.com': 0, 'zamalekfans.com': 0, 'yourlifechoices.com.au': 0, 'yougetsignal.com': 0, 'yorkietalk.com': 0, 'watchfairytail.org': 0, 'yinyanghouse.com': 0, 'xt225.com': 0, 'xperteleven.com': 0, 'xpatjobs.com': 0, 'xn--12c8b3af2bzi5a4d.com': 0, 'xineurope.com': 0, 'wykop.pl': 0, 'wtnh.com': 0, 'wrongeverytime.com': 0, 'yeahthatskosher.com': 0, 'spoonfulofsugarfree.com': 0, 'watchdub.co': 0, 'watchballroom.info': 0, 'vector.co.jp': 0, 'vecchiasignora.com': 0, 'usacoinbook.com': 0, 'urbo.com': 0, 'urbanrail.net': 0, 'upi.com': 0, 'unicron.com': 0, 'udupi-recipes.com': 0, 'uae-shipping.net': 0, 'twtd.co.uk': 0, 'tvguide.co.uk': 0, 'turtella.ru': 0, 'tunisie-annonce.com': 0, 'tubecrush.net': 0, 'tstoaddicts.com': 0, 'truthstar.com': 0, 'truthaboutdeception.com': 0, 'vegtrends.com': 0, 'verastic.com': 0, 'vercapas.com': 0, 'veriads.com': 0, 'watchalyzer.com': 0, 'watch-series.co': 0, 'washingtonpost.com': 0, 'wardheernews.com': 0, 'wapsisquare.com': 0, 'wap.vn': 0, 'wallpapermania.eu': 0, 'vrheads.com': 0, 'watchcartoons.com': 0, 'vop.co.kr': 0, 'vocaroo.com': 0, 'vistoenlasredes.com': 0, 'vipkhan.org': 0, 'violet.vn': 0, 'vidstreaming.io': 0, 'videozoo.me': 0, 'videohelp.com': 0, 'vesseltracker.com': 0, 'volkswagenforum.com': 0, 'onesweetappetite.com': 0, 'spicetheplate.com': 0, 'sophia-it.com': 0, 'pressbd24.com': 0, 'pregnancy-info.net': 0, 'pregnancy-baby-care.com': 0, 'prachatai.com': 0, 'prabhatkhabar.com': 0, 'post76.com': 0, 'portstephensexaminer.com.au': 0, 'popworkouts.com': 0, 'popularmmos.com': 0, 'politico.com': 0, 'policeone.com': 0, 'pokemonbattlearena.net': 0, 'pokebeach.com': 0, 'playscarymazegame.net': 0, 'playpcesor.com': 0, 'playbb.me': 0, 'planetf1.com': 0, 'primalastrology.com': 0, 'planespotters.net': 0, 'printableinvitationkits.com': 0, 'prokal.co': 0, 'rakshaskitchen.com': 0, 'radiotimes.com': 0, 'radiosingapore.org': 0, 'racingweb.net': 0, 'quizly.co': 0, 'quizdelivery.com': 0, 'quizbox.com': 0, 'quickanddirtytips.com': 0, 'qualitytesting.info': 0, 'qrz.com': 0, 'puretyre.co.uk': 0, 'puppyweights.com': 0, 'puppyfinder.com': 0, 'punjabkesari.in': 0, 'publishersglobal.com': 0, 'pso-world.com': 0, 'psmag.com': 0, 'prohunters.info': 0, 'pixiz.com': 0, 'pitarau.com': 0, 'pinoypicks.com': 0, 'parenting.com': 0, 'paleohacks.com': 0, 'pakistan.web.pk': 0, 'pajakonline.com': 0, 'paisefilhos.com.br': 0, 'padhuskitchen.com': 0, 'packagingoftheworld.com': 0, 'owlstalk.co.uk': 0, 'overthrowmartha.com': 0, 'outdoorproject.com': 0, 'our-happy-cat.com': 0, 'otosia.com': 0, 'orlandosentinel.com': 0, 'origami-club.com': 0, 'openthetoy.com': 0, 'onlymelbourne.com.au': 0, 'onlinemathlearning.com': 0, 'parentsdome.com': 0, 'parentsociety.com': 0, 'parislogue.com': 0, 'passionford.com': 0, 'pinoyhapagkainan.com': 0, 'pinoycookingrecipes.com': 0, 'pinaycookingcorner.com': 0, 'pikiran-rakyat.com': 0, 'pik.bg': 0, 'picturecorrect.com': 0, 'phys.org': 0, 'phptester.net': 0, 'rakuya.com.tw': 0, 'photo.net': 0, 'pesdb.net': 0, 'periodni.com': 0, 'periodistadigital.com': 0, 'perfumemaster.org': 0, 'pepperplate.com': 0, 'pcsx2.net': 0, 'pcdvd.com.tw': 0, 'pausepeople.com': 0, 'petful.com': 0, 'rantsports.com': 0, 'rare.us': 0, 'raspberrypi-spy.co.uk': 0, 'simbonus.com': 0, 'silverstackers.com': 0, 'siftandwhisk.com': 0, 'si.com': 0, 'shwetainthekitchen.com': 0, 'shoutpedia.com': 0, 'shine.com': 0, 'shindanmaker.com': 0, 'shinailbo.co.kr': 0, 'shieldsgazette.com': 0, 'shesimmers.com': 0, 'shefinds.com': 0, 'shebudgets.com': 0, 'sharesinv.com': 0, 'shakespeare-navigators.com': 0, 'sgxniftydowfutureslive.com': 0, 'sffworld.com': 0, 'simplemost.com': 0, 'simplygloria.com': 0, 'simplyrecipes.com': 0, 'simplyscripts.com': 0, 'songmeanings.com': 0, 'sommer-sommer.com': 0, 'softwareandfinance.com': 0, 'soft4fun.net': 0, 'sobadsogood.com': 0, 'snesguide.com': 0, 'sneakerwatch.com': 0, 'snapptips.com': 0, 'sewmamasew.com': 0, 'smeaker.com': 0, 'smackjeeves.com': 0, 'slowcookergourmet.net': 0, 'slimegames.eu': 0, 'sleepfoundation.org': 0, 'slavistickenoviny.cz': 0, 'skillsyouneed.com': 0, 'sims4studio.com': 0, 'sims4hairs.com': 0, 'smartcanucks.ca': 0, 'sparkyfacts.co.uk': 0, 'setn.com': 0, 'securerr.com': 0, 'rideapart.com': 0, 'rickwells.us': 0, 'richard-seaman.com': 0, 'riaupos.co': 0, 'riaume.com': 0, 'rgagnon.com': 0, 'returnofthecaferacers.com': 0, 'retro-sanctuary.com': 0, 'reshkitchen.com': 0, 'reporter.gr': 0, 'removeandreplace.com': 0, 'reignofblood.net': 0, 'registerednursern.com': 0, 'readwestbrom.com': 0, 'readsouthampton.com': 0, 'rd.com': 0, 'rayur.com': 0, 'riffhold.com': 0, 'rikiya.com': 0, 'rpgfan.com': 0, 'rpgmaker.net': 0, 'sechigara.net': 0, 'seasky.org': 0, 'sealine.co.za': 0, 'scoobynet.com': 0, 'scitechdaily.com': 0, 'schoolvakanties-europa.nl': 0, 'satakore.com': 0, 'sat24.com': 0, 'sederet.com': 0, 'sanskritimagazine.com': 0, 'sandiegouniontribune.com': 0, 'sandayong.com': 0, 'saintsreport.com': 0, 'safefetus.com': 0, 'sacred-destinations.com': 0, 'saabnet.com': 0, 'rx8club.com': 0, 'russiadefence.net': 0, 'sankei.com': 0, 'dressupgames.com': 0, 'zsazsabellagio.com': 0, 'architectureideas.info': 0, 'audiforums.com': 0, 'animateit.net': 0, 'bseindia.com': 0, 'desmotivaciones.es': 0, 'cerpenmu.com': 0, 'cgarena.com': 0, 'designeddecor.com': 0, 'desigifs.com': 0, 'deshbandhu.co.in': 0, 'bt.com': 0, 'ahewar.org': 0, 'ahintofhoney.com': 0, 'ahmedhassan17.com': 0, 'audiosex.pro': 0, 'aupaathletic.com': 0, 'ausbt.com.au': 0, 'boredpanda.es': 0, 'australianuniversities.com.au': 0, 'challengethebrain.com': 0, 'cummingsstudyguides.net': 0, 'delscookingtwist.com': 0, 'bdsob.com': 0, 'della.ua': 0, 'deliciousmagazine.co.uk': 0, 'bdnewshour24.com': 0, 'charmsaddict.com': 0, 'dek-d.com': 0, 'bdkhobor24.com': 0, 'defence.pk': 0, 'beautyhealthtips.in': 0, 'chatib.us': 0, 'attackontitan.tv': 0, 'beautystat.com': 0, 'cavaliersnation.com': 0, 'collegesintamilnadu.com': 0, 'aspdotnet-suresh.com': 0, 'crosswordgiant.com': 0, 'codecall.net': 0, 'dishingouthealth.com': 0, 'beste-reisezeit.org': 0, 'cchere.com': 0, 'diretta.it': 0, 'ccna5.net': 0, 'directexpose.com': 0, 'cnn.gr': 0, 'chordvisa.com': 0, 'berserk2016.com': 0, 'crunchycreamysweet.com': 0, 'beremennost.net': 0, 'csmonitor.com': 0, 'digitalcomicmuseum.com': 0, 'digit.in': 0, 'boxing.com': 0, 'cmmedia.com.tw': 0, 'achanime.net': 0, 'celebritysizes.com': 0, 'cman.jp': 0, 'diffchecker.com': 0, 'becteroradio.com': 0, 'aek365.com': 0, 'deutschakademie.de': 0, 'becoolusers.com': 0, 'celloonline.com': 0, 'collider.com': 0, 'deccanchronicle.com': 0, 'airwise.com': 0, 'china101.com': 0, 'allbestsongs.com': 0, 'bordermail.com.au': 0, 'alldayidreamaboutfood.com': 0, 'allfreecrochet.com': 0, 'chinese-herbs.org': 0, 'bt.dk': 0, 'chinese-word.com': 0, 'bakingbites.com': 0, 'dangthatsdelicious.com': 0, 'baguiomidlandcourier.com.ph': 0, 'dailyadvertiser.com.au': 0, 'allfreeknitting.com': 0, 'cineringtones.com': 0, 'building-muscle101.com': 0, 'backpackerjobboard.com.au': 0, 'dailycannon.com': 0, 'allindiajobs.in': 0, 'baahrakhari.com': 0, 'cinemablend.com': 0, 'allnigeriasoccer.com': 0, 'allpianoscores.com': 0, 'chomanga.com': 0, 'babiesonline.com': 0, 'babycenter.com.my': 0, 'alwaysastrology.com': 0, 'babynamescountry.com': 0, 'dailytrust.com.ng': 0, 'babycenter.in': 0, 'allaboutwildlife.com': 0, 'autocentre.ua': 0, 'china-memo.com': 0, 'alicegrove.com': 0, 'cheapflightnow.com': 0, 'dcode.fr': 0, 'bd-chakri.com': 0, 'akb48mt.com': 0, 'bbsak.org': 0, 'battlefieldtracker.com': 0, 'cornerofberkshireandfairfax.ca': 0, 'baseball-freak.com': 0, 'autoportal.com': 0, 'cw39.com': 0, 'barossaherald.com.au': 0, 'boomerradio.com': 0, 'aktual.com': 0, 'boomsbeat.com': 0, 'androidcritics.com': 0, 'chemistryexplained.com': 0, 'banglatext.com': 0, 'al-habib.info': 0, 'autotraderuae.com': 0, 'anagrammer.com': 0, 'chestofbooks.com': 0, 'awaztoday.pk': 0, 'daughterofthelilies.com': 0, 'chibanippo.co.jp': 0, 'darkthread.net': 0, 'daftarpaketinternet.com': 0, 'dagelan.co': 0, 'amiannoying.com': 0, 'azgrabaplate.com': 0, 'azofreeware.com': 0, 'abarim-publications.com': 0, 'bestanimations.com': 0, 'cpuboss.com': 0, 'artofmtg.com': 0, 'cakecentral.com': 0, 'applealmond.com': 0, 'craftsy.com': 0, 'cafeastrology.com': 0, 'cancan.ro': 0, 'arynews.tv': 0, 'condosingapore.com': 0, 'as-web.jp': 0, 'cadre-dirigeant-magazine.com': 0, 'brainly.co.id': 0, '3orod.com': 0, 'bigsale.com.my': 0, 'armyrecognition.com': 0, 'canonrumors.com': 0, 'dodocook.com': 0, 'cosmopolitan-jp.com': 0, 'ascii-table.com': 0, 'car250.com': 0, 'blackberryos.com': 0, 'computer1001.com': 0, 'dn.se': 0, 'dmv.org': 0, 'colorwize.com': 0, 'buzzkenya.com': 0, 'camryforums.com': 0, 'draft-kaigi.jp': 0, '220triathlon.com': 0, 'apolo11.com': 0, 'cakesdecor.com': 0, 'coxsbazarnews.com': 0, 'calculatoredge.com': 0, 'cookclickndevour.com': 0, 'birdforum.net': 0, 'drama4u.us': 0, 'c4learn.com': 0, 'calcuworld.com': 0, 'biologyreference.com': 0, '29secrets.com': 0, 'antaranews.com': 0, 'cambridgeincolour.com': 0, 'drama3s.com': 0, '2chblog.jp': 0, 'dramaindo.org': 0, 'dragonvalebreedingguide.com': 0, 'courant.com': 0, 'armystudyguide.com': 0, 'bygosh.com': 0, 'arstechnica.com': 0, 'cakescottage.com': 0, '2ip.ru': 0, '4thofjulysolitaire.com': 0, 'bizarro.com': 0, 'asheepnomore.net': 0, 'caribbeannewsnow.com': 0, 'armchairgeneral.com': 0, '1cak.com': 0, 'beyondfirewall.com': 0, 'arcadespot.com': 0, 'djpunjab.me': 0, 'caricos.com': 0, 'crimeonline.com': 0, 'carrollcountytimes.com': 0, 'carsalesindia.com': 0, 'bricknerd.com': 0, 'askavetquestion.com': 0, 'diyadvice.com': 0, '981.jp': 0, 'boxun.com': 0, 'crosscards.com': 0, 'bestlittlebaby.com': 0, 'divinetaste.com': 0, '9pyinfo.com': 0, 'bogotobogo.com': 0, 'cartoontab.com': 0, 'cactus-mall.com': 0, '123bee.com': 0, '10minutemail.net': 0, 'aqworldswiki.com': 0, 'animetvn.com': 0, '6speedonline.com': 0, 'asiancorrespondent.com': 0, 'bible-prophecy.com': 0, 'aproverbs31wife.com': 0, '5series.net': 0, 'cardmakingandpapercraft.com': 0, 'dk101.com': 0, 'aquariumlife.com.au': 0, 'breezemasti.com': 0, 'breederkoi.com': 0, 'bhmpics.com': 0, 'asiafreechat.com': 0, 'combatace.com': 0, 'bradva.bg': 0, 'careerride.com': 0, 'kengsub.com': 0, 'ifate.com': 0, 'kompas.com': 0, 'nayadigantajobs.com': 0, 'mycbseguide.com': 0, 'inazumanews2.com': 0, 'seventhlifepath.com': 0, 'cineuropa.org': 0, 'khobor24ghonta.com.bd': 0, 'kokucheese.com': 0, 'boramanews.com': 0, 'stockpilingmoms.com': 0, 'starsunfolded.com': 0, 'cookiemadness.net': 0, 'iheartdrama.tv': 0, 'ilfattoquotidiano.it': 0, 'scmp.com': 0, 'kinofilms.ua': 0, 'argonathrpg.eu': 0, 'sermoncentral.com': 0, 'khwiki.com': 0, 'scometix.com': 0, 'kerala9.com': 0, 'streamanimetv.com': 0, 'searchina.net': 0, 'sekolahbahasainggris.com': 0, 'omgchocolatedesserts.com': 0, 'indgovtjobs.in': 0, 'intouchweekly.com': 0, 'somoynews.tv': 0, 'comedycentral.co.uk': 0, 'clubkatsudo.com': 0, 'simplecookingclub.com': 0, 'jonalisblog.com': 0, 'joins.com': 0, 'atlanteanconspiracy.com': 0, 'atlantareefclub.org': 0, 'asiandating.com': 0, 'compraensanjuan.com': 0, 'athome.lu': 0, 'sofeminine.co.uk': 0, 'irasutoya.com': 0, 'snapsort.com': 0, 'irisxi.com': 0, 'sizeguide.net': 0, 'jarno.web.id': 0, 'skyscrapercity.com': 0, 'onedio.com': 0, 'slsrecipes.com': 0, 'issuein.com': 0, 'jgto.org': 0, 'sparknotes.com': 0, 'computing.net': 0, 'inspectapedia.com': 0, 'awardsdaily.com': 0, 'ok.co.uk': 0, 'classicreader.com': 0, 'kaola.jp': 0, 'kangchin.com': 0, 'indiadivine.org': 0, 'kanal247.com': 0, 'cook1cook.com': 0, 'sheershasangbad.com': 0, 'indiangoldesigns.com': 0, 'indiaparenting.com': 0, 'sheknows.com': 0, 'classicshorts.com': 0, 'contextures.com': 0, 'naturalsociety.com': 0, 'kakuroconquest.com': 0, 'clicccar.com': 0, 'brickinstructions.com': 0, 'click108.com.tw': 0, 'speedway-forum.co.uk': 0, 'speedrun.com': 0, 'junkmail.co.za': 0, 'audioaficionado.org': 0, 'independent.co.uk': 0, 'scionlife.com': 0, 'infospesial.net': 0, 'korabelov.info': 0, 'pluska.sk': 0, 'buttalapasta.it': 0, 'playingcards.jp': 0, 'butterbaking.com': 0, 'planyourperfectwedding.com': 0, 'bigganpotrika.com': 0, 'military38.com': 0, 'plainchicken.com': 0, 'caramudahbelajarbahasainggris.net': 0, 'pixelpapercraft.com': 0, 'pissedconsumer.com': 0, 'mirraw.com': 0, 'mirrorlessrumors.com': 0, 'bikeadvice.in': 0, 'pinknews.co.uk': 0, 'menuism.com': 0, 'mixb.net': 0, 'careerindia.com': 0, 'politico.eu': 0, 'manutdtransfernews.com': 0, 'manybooks.net': 0, 'map-france.com': 0, 'pressherald.com': 0, 'preownedweddingdresses.com': 0, 'mariowiki.com': 0, 'catalog.md': 0, 'bestmuslim.com': 0, 'beyond.fr': 0, 'mathalino.com': 0, 'matichon.co.th': 0, 'carophile.com': 0, 'ppomppu.co.kr': 0, 'mdpr.jp': 0, 'bgmringtones.com': 0, 'memehk.com': 0, 'bikewale.com': 0, 'bildung-news.com': 0, 'bollywoodmantra.com': 0, 'caiman.us': 0, 'mozlumerkontha24.com': 0, 'mr-tip.com': 0, 'pbh2.com': 0, 'mtgprice.com': 0, 'pattayapropertyfinder.com': 0, 'cadceed.com': 0, 'parrotforums.com': 0, 'parents.com': 0, 'panamarealtor.com': 0, 'boattrader.com': 0, 'musicfeeds.com.au': 0, 'bodymeasurements.org': 0, 'my-easy-cooking.com': 0, 'painaidii.com': 0, 'pedestrian.tv': 0, 'movieinsider.com': 0, 'peekncook.com': 0, 'pendaftaranonline.web.id': 0, 'picdesi.com': 0, 'canadianlisted.com': 0, 'outerzone.co.uk': 0, 'bintang.com': 0, 'mobipicker.com': 0, 'mockupworld.co': 0, 'moddb.com': 0, 'prettysimplesweet.com': 0, 'modland.net': 0, 'bitesizedbiggie.com': 0, 'monzoo.net': 0, 'petenetlive.com': 0, 'bitrebels.com': 0, 'paadalvarigal.com': 0, 'motor1.com': 0, 'pendujatt.co.in': 0, 'ovulation-calculator.com': 0, 'priceza.com': 0, 'primagames.com': 0, 'primeportal.net': 0, 'languages-study.com': 0, 'rx7club.com': 0, 'runnersworld.co.uk': 0, 'rumahcitra.com': 0, 'banglanewstimes.com': 0, 'lbcgroup.tv': 0, 'rpg.net': 0, 'naivecookcooks.com': 0, 'naijagists.com': 0, 'roodo.com': 0, 'learnamericanenglishonline.com': 0, 'learncpp.com': 0, 'cherylist.com': 0, 'banglarkhobor24.com': 0, 'banglawashcricket.com.bd': 0, 'chinatimes.com': 0, 'landroverworkshop.com': 0, 'lamsao.com': 0, 'chinesetools.eu': 0, 'scaryforkids.com': 0, 'koreandrama.org': 0, 'babymed.com': 0, 'koreaportal.com': 0, 'kouryakuki.net': 0, 'kpopbehind.com': 0, 'kpopchart.net': 0, 'onlineslangdictionary.com': 0, 'chords-lanka.com': 0, 'kumpulanmisteri.com': 0, 'kurryleaves.net': 0, 'kzone.tv': 0, 'sangan.jp': 0, 'salecalc.com': 0, 'laineygossip.com': 0, 'badmintonfreak.com': 0, 'kstyle.com': 0, 'scifiideas.com': 0, 'lewatmana.com': 0, 'revistacuore.com': 0, 'lyngsat.com': 0, 'beetlebailey.com': 0, 'm3cutters.co.uk': 0, 'qatarliving.com': 0, 'mysai.org': 0, 'madeformums.com': 0, 'bellazon.com': 0, 'magicseaweed.com': 0, 'belloflostsouls.net': 0, 'mahjonggames.com': 0, 'punjabitribuneonline.com': 0, 'pronouncenames.com': 0, 'profightdb.com': 0, 'managerleague.com': 0, 'mangacanblog.com': 0, 'orcz.com': 0, 'radioguide.fm': 0, 'mysticscripts.com': 0, 'longhaircommunity.com': 0, 'oomph.co.id': 0, 'lifestyle.com.au': 0, 'redonline.co.uk': 0, 'reason.com': 0, 'readwestham.com': 0, 'bdjobstoday.com': 0, 'charismamag.com': 0, 'lexiconcordance.com': 0, 'ratemyjob.com': 0, 'bookoo.com': 0, 'loadingartist.com': 0, 'locservice.fr': 0, 'loker-kudus.com': 0, 'lokeroilgas.com': 0, 'lolzor.com': 0, 'longecity.org': 0, 'randomwok.com': 0, 'resepkuekeringku.com': 0, 'copytechnet.com': 0, 'nba-live.com': 0, 'fresheye.com': 0, 'airfleets.net': 0, 'airlinequality.com': 0, 'fumira.jp': 0, 'deliciousasianfood.com': 0, 'funblr.com': 0, 'funology.com': 0, 'defencenews.in': 0, 'uwasakijo.net': 0, 'fx-rate.net': 0, 'g-unleashed.com': 0, 'gaccom.jp': 0, 'akb48nensensou.net': 0, 'gag1gag.com': 0, 'game-cap.com': 0, 'freewebarcade.com': 0, 'universityprimetime.com': 0, 'vedicscholar.com': 0, 'depressionforums.org': 0, 'foodtravel.tv': 0, 'footballshirtculture.com': 0, 'digimonadventuretri.com': 0, 'vogue.fr': 0, 'vkmag.com': 0, 'vklasse.org': 0, 'foxsports.com': 0, 'vijisvirunthu.com': 0, 'africancichlidhub.com': 0, 'afspot.net': 0, 'vesti-ukr.com': 0, 'verygoodrecipes.com': 0, 'freemaptools.com': 0, 'newsflow.kr': 0, 'veggiebelly.com': 0, 'freestockcharts.com': 0, 'game-kouryaku.info': 0, 'unfollowed.me': 0, 'ummi-online.com': 0, 'getzips.com': 0, 'nourishinteractive.com': 0, 'allfreesewing.com': 0, 'tokyodeep.info': 0, 'goblinscomic.org': 0, 'newmyroyals.com': 0, 'godvine.com': 0, 'gogo-anime.us': 0, 'tiger800.co.uk': 0, 'gomolo.com': 0, 'alrage.net': 0, 'gonobiplob.com': 0, 'nowloading.co': 0, 'thetummytrain.com': 0, 'altpress.com': 0, 'getmypopcorn.co': 0, 'getanime4u.com': 0, 'tradingcarddb.com': 0, 'budgetyourtrip.com': 0, 'gameguardian.net': 0, 'uberpeople.net': 0, 'al-marsd.com': 0, 'games-kids.com': 0, 'games-post.com': 0, 'twstats.com': 0, 'twoplayergames.org': 0, 'dilbert.com': 0, 'tvdosti.me': 0, 'gazeteoku.com': 0, 'gearheads.org': 0, 'tureng.com': 0, 'gemintang.com': 0, 'trekbbs.com': 0, 'genieessp.com': 0, 'transum.org': 0, 'tuvisomenh.com': 0, 'walkingenglishman.com': 0, 'foodforbreastcancer.com': 0, 'food-4tots.com': 0, 'xaxis.com': 0, 'dramacools.to': 0, '24khobor.com': 0, 'elespectador.com': 0, 'elle.it': 0, 'ellenbailey.com': 0, 'elmostrador.cl': 0, 'nigella.com': 0, 'english-test.net': 0, 'doviz.com': 0, 'englishpage.com': 0, 'worldofwargraphs.com': 0, 'worldofsolitaire.com': 0, 'words3music.ph': 0, 'eprice.com.hk': 0, 'xskt.com.vn': 0, 'eiga.com': 0, 'ego4u.com': 0, 'nofrillsrecipes.com': 0, 'dreamscene.org': 0, '100479.net': 0, 'zfafna.com': 0, 'drstandley.com': 0, 'drugsupdate.com': 0, 'dswiipspwikips3.jp': 0, 'yowamushipedal3.com': 0, 'worcesternews.co.uk': 0, 'yourstory24.com': 0, '1classical.com': 0, 'yellowbridge.com': 0, '2048game.com': 0, 'eatwell101.com': 0, 'yakkun.com': 0, 'ebay.com.au': 0, 'yacrew.com': 0, 'youandyourwedding.co.uk': 0, 'theteatalk.com': 0, 'dolldivine.com': 0, 'wolfplaygame.com': 0, 'watchdb.net': 0, '9to5google.com': 0, 'washingtonexaminer.com': 0, 'financialexpress.com': 0, 'dishinwithdi.com': 0, 'warcraftrealms.com': 0, 'abiturients.info': 0, 'fitfulfocus.com': 0, 'accelerated-ideas.com': 0, 'flashscore.mobi': 0, 'wanista.com': 0, 'flexonline.com': 0, 'wameedh.com': 0, 'disboards.com': 0, 'wallpaperstock.net': 0, 'diytrade.com': 0, 'watchmha2.com': 0, 'watchsao.tv': 0, 'farnhamherald.com': 0, '49erswebzone.com': 0, 'wisdomjobsgulf.com': 0, 'willyoupressthebutton.com': 0, 'wildtangent.in': 0, 'eventseye.com': 0, 'evilshenanigans.com': 0, 'examiner.com.au': 0, 'woman.ru': 0, 'exblog.jp': 0, '5starmusiq.com': 0, 'wellandfull.com': 0, 'wegointer.com': 0, 'familyeducation.com': 0, 'familyfriendpoems.com': 0, 'familyhandyman.com': 0, 'fanchants.com': 0, 'whatismyipaddress.com': 0, 'thesurrealist.co.uk': 0, 'gamemoding.com': 0, 'mycdosale.com': 0, 'anime-sub.co': 0, 'anime-exceed.com': 0, 'cts.com.tw': 0, 'holiday-weather.com': 0, 'hamaraphotos.com': 0, 'cronachemaceratesi.it': 0, 'hackthemenu.com': 0, 'holmesdale.net': 0, 'homecooksrecipe.com': 0, 'gyazo.com': 0, 'the-gazette.co.uk': 0, 'aniroleplay.com': 0, 'guu.vn': 0, 'taipeitimes.com': 0, 'thedukandietsite.com': 0, 'homorazzi.com': 0, 'animaatjes.nl': 0, 'anispace.net': 0, 'guitarpatches.com': 0, 'custom-essays.org': 0, 'apolloduck.com': 0, 'cover-sd.com': 0, 'animalpetitions.org': 0, 'tamaratattles.com': 0, 'animedesu.us': 0, 'hardwarezone.com.sg': 0, 'tecmint.com': 0, 'techz.vn': 0, 'heraldscotland.com': 0, 'healthtime24.com': 0, 'telugumirchi.com': 0, 'he-man.org': 0, 'heysigmund.com': 0, 'tenki.jp': 0, 'tennisnow.com': 0, 'thesoundarchive.com': 0, 'hiconsumption.com': 0, 'crosswordnexus.com': 0, 'hdcarwallpapers.com': 0, 'hiddenobjectgames.com': 0, 'texturemate.com': 0, 'hihi2.com': 0, 'taskandpurpose.com': 0, 'ohdenny.com': 0, 'bossmobi.guru': 0, 'tamilsonline.com': 0, 'harrietemily.com': 0, 'harpersbazaar.co.uk': 0, 'animeindo.co': 0, 'anifans.net': 0, 'courses.com.ph': 0, 'thebrickfan.com': 0, 'criticalhit.net': 0, 'netralnews.com': 0, 'theshoegame.com': 0, 'i-gamer.net': 0, 'grandoldteam.com': 0, 'ojogo.pt': 0, 'hungryhuy.com': 0, 'nbcbayarea.com': 0, 'theshoesnobblog.com': 0, 'amardesh.com': 0, 'stylecaster.com': 0, 'huyenbi.net': 0, 'suggest.com': 0, 'govtjobsportal.in': 0, 'daily.co.jp': 0, 'appledaily.com': 0, 'sudoku9x9.com': 0, 'gozzip.id': 0, 'netdoktor.de': 0, 'gq.com': 0, 'archeagedatabase.net': 0, 'thehoroscopejunkie.ca': 0, 'ibelieve.com': 0, 'amarujala.com': 0, 'houseplantsguru.com': 0, 'amigurumitogo.com': 0, 'bunshun.jp': 0, 'bostonherald.com': 0, 'theskinnypot.com': 0, 'fictionpress.com': 0, 'dramazo.org': 0, 'fireboynwatergirl.com': 0, 'tastehongkong.com': 0, 'taste.com.au': 0, 'bloomberght.com': 0, 'soundbible.com': 0, 'extraprepare.com': 0, 'week.co.jp': 0, 'pagebook.co.kr': 0, 'poetryloverspage.com': 0, 'blogos.com': 0, 'insidethemagic.net': 0, 'dwarffortresswiki.org': 0, 'insanelymac.com': 0, 'hiphople.com': 0, 'whompcomic.com': 0, 'hiiraan.com': 0, 'caclubindia.com': 0, 'medhelp.org': 0, 'fantasicawiki.com': 0, 'heroesoforderandchaosforum.com': 0, 'zip-codes.com': 0, 'northamericanmotoring.com': 0, 'masteroverwatch.com': 0, 'fclorient.net': 0, 'tech-faq.com': 0, 'mathwarehouse.com': 0, 'hhlink.com': 0, 'britainexpress.com': 0, 'wartasolo.com': 0, 'ppsspp.org': 0, 'disneyscreencaps.com': 0, 'watchop.io': 0, 'fastmotoring.com': 0, 'strangebeaver.com': 0, 'tastyappetite.net': 0, 'wearesovegan.com': 0, 'financetwitter.com': 0, 'marcandangel.com': 0, 'blogmazeer.com': 0, 'dramaheaven.re': 0, 'eurobricks.com': 0, 'eclipse.org': 0, 'mobilesmspk.net': 0, 'ecomputernotes.com': 0, 'squashsite.co.uk': 0, 'edarabia.com': 0, 'dramainn.net': 0, 'dragoart.com': 0, 'dragonballpunch.me': 0, 'elpais.com.uy': 0, 'spottedfashion.com': 0, 'ellegirl.jp': 0, 'moencode.me': 0, '28bike.com': 0, 'egscomics.com': 0, 'tagaloglang.com': 0, 'oxfordmail.co.uk': 0, 'ozbargain.com.au': 0, 'petmaya.com': 0, 'sustainablesources.com': 0, 'surveee.org': 0, 'xboxclips.com': 0, 'ekikara.jp': 0, 'brasize.com': 0, 'ilbe.com': 0, 'indieshuffle.com': 0, 'doorblog.jp': 0, 'howtolearn.com': 0, 'tamilhoroscope.in': 0, 'igeeksblog.com': 0, 'pizap.com': 0, 'inherentlyfunny.com': 0, 'bleachget.co': 0, 'minecraftskins.net': 0, 'cadenaser.com': 0, 'willyweather.com.au': 0, 'biglobe.ne.jp': 0, 'hitched.co.uk': 0, 'esportswikis.com': 0, 'wildtangent.co.uk': 0, 'minyu-net.com': 0, 'informasicpnsbumn.com': 0, 'womenstennisblog.com': 0, 'pecintakomik.com': 0, 'spine-health.com': 0, 'bongda24h.vn': 0, 'inews24.com': 0, 'talkenglish.com': 0, 'workshop-manuals.com': 0, '3dinosaurs.com': 0, '38today.com': 0, 'iknowhair.com': 0, 'tamildict.com': 0, 'yomasti.co': 0, 'amadarshokal24.com': 0, 'telechargerunevideo.com': 0, 's2ki.com': 0, 'business-standard.com': 0, 'truyenyy.com': 0, 'cutestockfootage.com': 0, 'turkeytravelplanner.com': 0, 'rwg.cc': 0, 'online-dhaka.com': 0, 'tutsplus.com': 0, 'oac-head.com': 0, 'gardensillustrated.com': 0, 'thefinancialexpress-bd.com': 0, 'darkspyro.net': 0, 'thefilipinodoctor.com': 0, 'gensansale.com': 0, 'twoweekwait.com': 0, 'chess-results.com': 0, 'auto-data.net': 0, 'gamerant.com': 0, 'thefamouspeople.com': 0, 'leitesculinaria.com': 0, 'udn.com': 0, 'dawn.com': 0, 'icharts.in': 0, 'thecourier.com.au': 0, 'justinasgems.com': 0, 'akhbarelzamalek.com': 0, 'upyim.co': 0, 'jubed.com': 0, 'gamesp.net': 0, 'greatday.com': 0, 'toyotaownersclub.com': 0, 'classical-music.com': 0, 'klubok.com': 0, 'sebanewsbd.com': 0, 'newagebd.net': 0, 'nanowerk.com': 0, 'b-rhymes.com': 0, 'seeklogo.com': 0, 'good.is': 0, 'kontan.co.id': 0, 'segiempat.com': 0, 'babycentre.co.uk': 0, 'dailyprayer.us': 0, 'almountakhab.com': 0, 'kicksonfire.com': 0, 'tiggersound.com': 0, 'online-convert.com': 0, 'time.com': 0, 'newmediarockstars.com': 0, 'oneworlditaliano.com': 0, 'gogo-anime.asia': 0, 'gotlines.com': 0, 'babynamesdirect.com': 0, 'tips.net': 0, 'chocolateandconnie.com': 0, 'gizbot.com': 0, 'theramenrater.com': 0, 'kyounoryouri.jp': 0, 'gimmedelicious.com': 0, 'dancesportinfo.net': 0, 'chitramala.in': 0, 'teedin108.com': 0, 'usnews.com': 0, 'siamchart.com': 0, 'liputan6.com': 0, 'fuoriclasse2.com': 0, 'sirajganjkantho.com': 0, 'lunapic.com': 0, 'vinylcollective.com': 0, 'vinylengine.com': 0, 'hawamer.com': 0, 'lyrics.my': 0, 'skydoor.net': 0, 'queerty.com': 0, 'voicetv.co.th': 0, 'active.com': 0, 'jaguarforums.com': 0, 'madison.com': 0, 'lowkickmma.com': 0, 'footballleagueworld.co.uk': 0, 'vung.tv': 0, 'mah-jongg.ch': 0, 'bendigoadvertiser.com.au': 0, 'beritaislamterbaru.org': 0, 'cdict.info': 0, 'j-guitar.com': 0, 'cogly.net': 0, 'itsfoss.com': 0, 'flytrapcare.com': 0, 'bestarticles.me': 0, 'primerahora.com': 0, 'manatelugumovies.net': 0, 'color-hex.com': 0, 'footballinsider247.com': 0, 'vigattintrade.com': 0, 'foxyfolksy.com': 0, 'nationmultimedia.com': 0, 'theantimedia.org': 0, 'ratzillacosme.com': 0, 'listverse.com': 0, 'ratemyserver.net': 0, 'litscape.com': 0, 'chaptercheats.com': 0, 'journal.com.ph': 0, 'variety.com': 0, 'mywoklife.com': 0, 'vbaexpress.com': 0, 'raniskitchenmagic.com': 0, 'simpleindianrecipes.com': 0, 'rakhatechno.com': 0, 'radioformula.com.mx': 0, 'atmovies.com.tw': 0, 'w3toys.com': 0, 'loan-trading.net': 0, 'railenquiry.in': 0, 'lovegrowswild.com': 0, 'simviation.com': 0, 'logotypes101.com': 0, 'harptabs.com': 0, 'jobnorththailand.com': 0, 'chakriache.com': 0, 'csharp-station.com': 0, 'beartai.com': 0, 'sims4updates.net': 0, 'nothingbutnewcastle.com': 0, 'nu.nl': 0, 'origami-resource-center.com': 0, 'obooko.com': 0, 'bola.com': 0, 'boruto-tv.com': 0, 'okepi.net': 0, 'dreambible.com': 0, 'bitterempire.com': 0, 'tintuconline.com.vn': 0, 'allthingsceleb.com': 0, 'altin.in': 0, 'thestay-at-home-momsurvivalguide.com': 0, 'theproblemsite.com': 0, 'thepeerage.com': 0, 'thekushtiareport24.com': 0, 'theherald.com.au': 0, 'angsarap.net': 0, 'thefunnybeaver.com': 0, 'thaicarlover.com': 0, 'tasteofcountry.com': 0, 'tarot-live.com': 0, 'appinvasion.com': 0, 'sunghajung.com': 0, 'top100arena.com': 0, 'toptenreviews.com': 0, 'trainspnrstatus.com': 0, 'transfermarkt.it': 0, '10fastfingers.com': 0, 'yummly.uk': 0, 'youmaker.com': 0, 'xxlmag.com': 0, '21cineplex.com': 0, '2cpu.co.kr': 0, '3dtuning.com': 0, 'studential.com': 0, 'whattocooktoday.com': 0, 'watchgintama.com': 0, '9news.com.au': 0, 'vsetv.com': 0, 'vicky.in': 0, 'verifyemailaddress.org': 0, 'aiotestking.com': 0, 'upmedia.mg': 0, '7daydaily.com': 0, 'stickgames.com': 0, 'arsenalnews.net': 0, 'artv.info': 0, 'railf.jp': 0, 'beautezine.com': 0, 'quiznatic.com': 0, 'behindthename.com': 0, 'purrtacular.com': 0, 'biblegateway.com': 0, 'bicycling.com': 0, 'bdsaradin.com': 0, 'planetfigure.com': 0, 'pieandbovril.com': 0, 'pianochord.com': 0, 'phuot.vn': 0, 'photoblog.hk': 0, 'phobialist.com': 0, 'philmotors.com': 0, 'philippineconcerts.com': 0, 'pinkbike.com': 0, 'blendwithspices.com': 0, 'basket-infos.com': 0, 'barcaforum.com': 0, 'spellsofmagic.com': 0, 'askthepilot.com': 0, 'smalldogplace.com': 0, 'astro.com': 0, 'sina.com.tw': 0, 'auslandsvorwahlen.net': 0, 'serialgossip.com': 0, 'rhymezone.com': 0, 'selfgrowth.com': 0, 'screamandfly.com': 0, 'santeplusmag.com': 0, 'ryu-anime.me': 0, 'banglanews24.com': 0, 'rotowire.com': 0, 'roseindia.net': 0, 'banidea.com': 0, 'selebupdate.com': 0, 'nishinippon.co.jp': 0, 'nintendoenthusiast.com': 0, 'dream.co.id': 0, 'hani.co.kr': 0, 'cucudas.com': 0, 'gwentdb.com': 0, 'gunnersphere.com': 0, 'kiwireport.com': 0, 'guidegame.vn': 0, 'grist.org': 0, 'grecni.com': 0, 'mousebreaker.com': 0, 'google.com.sg': 0, 'cineforest.com': 0, 'goctruyen.com': 0, 'muaban.net': 0, 'khoahoc.tv': 0, 'dallasnews.com': 0, 'mulugu.com': 0, 'getreadyhk.com': 0, 'kooxda.com': 0, 'muslimnames.info': 0, 'gardeningknowhow.com': 0, 'mybangla24.com': 0, 'ltn.com.tw': 0, 'dateinasia.com': 0, 'gamespot.com': 0, 'gamek.vn': 0, 'gallifreybase.com': 0, 'mynhltraderumors.com': 0, 'gagadaily.com': 0, 'knowledgenuts.com': 0, 'civfanatics.com': 0, 'macrumors.com': 0, 'mocyc.com': 0, 'joomla24.com': 0, 'jobsid.co': 0, 'jgospel.net': 0, 'jeenmix.com': 0, 'cathinfo.com': 0, 'marvelousnews.com': 0, 'codingforums.com': 0, 'mediatoday.co.kr': 0, 'irr.ua': 0, 'irishtimes.com': 0, 'cleananddelicious.com': 0, 'iraqinews.com': 0, 'internetslang.com': 0, 'inspire21.com': 0, 'metacritic.com': 0, 'kamalkapoor.com': 0, 'kdramaz.com': 0, 'indianautosblog.com': 0, 'india-forums.com': 0, 'militarybases.com': 0, 'cookingandme.com': 0, 'ictv.ua': 0, 'howjsay.com': 0, 'cpubenchmark.net': 0, 'hkdramaon9.com': 0, 'hkcinemagic.com': 0, 'hipwee.com': 0, 'creators.com': 0, 'herozerogame.com': 0, 'buzzorange.com': 0, 'futbin.com': 0, 'jpeg-optimizer.com': 0, 'everydayhealth.com': 0, 'earlylearninghq.org.uk': 0, 'nichigopress.jp': 0, 'fauquierent.net': 0, 'echoloft.com': 0, 'destinyislands.com': 0, 'latest-hairstyles.com': 0, 'freejobalert.com': 0, 'languageguide.org': 0, 'listchallenges.com': 0, 'fashionwaltz.com': 0, 'eldergym.com': 0, 'fleetmon.com': 0, 'f1-fansite.com': 0, 'liquor.com': 0, 'freepik.com': 0, 'neoseeker.com': 0, 'navitime.co.jp': 0, 'chicitysports.com': 0, 'freeonlinemahjonggames.net': 0, 'eatbydate.com': 0, 'cooltext.com': 1, 'cooksinfo.com': 1, 'ieatandeat.com': 1, 'biggaponchannel.com': 1, 'rodalewellness.com': 1, 'impawards.com': 1, 'arch2o.com': 1, 'militarymodelling.com': 1, 'pinoykusinero.com': 1, 'suara.com': 1, 'kentchemistry.com': 1, 'sukupara.jp': 1, 'dogzonline.com.au': 1, 'mivo.com': 1, 'esohead.com': 1, 'tacocity.com.tw': 1, 'ldoceonline.com': 1, 'etnet.com.hk': 1, 'pinoyrecipe.net': 1, 'ntruyen.info': 1, 'hello-pet.com': 1, 'worldtimeserver.com': 1, 'simpleorganiclife.org': 1, 'jualo.com': 1, 'driverguide.com': 1, 'nikkei225jp.com': 1, 'singapore-companies-directory.com': 1, 'bestfeed.co.kr': 1, 'javabeat.net': 1, 'bayvoice.net': 1, 'astrologizeme.com': 1, 'astrojyoti.com': 1, 'powerpyx.com': 1, 'yummytoddlerfood.com': 1, 'bdlatestnews.com': 1, 'colorpalettes.net': 1, 'smashboards.com': 1, 'malaysianchinesekitchen.com': 1, 'juventus.kr': 1, 'beritabaru24.com': 1, 'kamalascorner.com': 1, 'southperry.net': 1, 'malayali.me': 1, 'lequipe.fr': 1, 'hindunames.net': 1, 'articlesphere.com': 1, 'kdramax.com': 1, 'sportszone24.com': 1, 'baomoi.com': 1, 'lekhaporabd.com': 1, 'spoj.com': 1, 'timeanddate.com': 1, 'orangefreesounds.com': 1, 'vkeong.com': 1, 'eugeniekitchen.com': 1, 'christianity.com': 1, 'dandwiki.com': 1, 'cad-comic.com': 1, 'nano-reef.com': 1, 'track-trace.com': 1, 'translationnations.com': 1, 'vimmysrecipeworld.com': 1, 'onlinechristiansongs.com': 1, 'danviet.vn': 1, 'vidbaba.com': 1, 'gmauthority.com': 1, 'albumoftheyear.org': 1, 'twittascope.com': 1, 'oocities.org': 1, 'typingtest.com': 1, 'koreantvshows.com': 1, 'ukulele-tabs.com': 1, 'upfile.mobi': 1, 'openculture.com': 1, 'vegrecipesofindia.com': 1, 'celticquicknews.co.uk': 1, 'opensooq.com': 1, 'sailinganarchy.com': 1, 'cerpen.co.id': 1, 'agar.io': 1, 'onelook.com': 1, 'vivaah.com': 1, 'dakkadakka.com': 1, 'evolutionm.net': 1, 'teropongsenayan.com': 1, 'tfu.info': 1, 'animeindo.net': 1, 'facade.com': 1, 'hallyukstar.com': 1, 'petrescue.com.au': 1, 'thecatsite.com': 1, 'monsterparent.com': 1, 'fauziaskitchenfun.com': 1, 'knights-magic.info': 1, 'motoroids.com': 1, 'rumandmonkey.com': 1, 'themilitarydiet.com': 1, 'babycenter.com.au': 1, 'clublexus.com': 1, 'dailyhoroscope.com': 1, 'filmschoolrejects.com': 1, 'dailyhoroscopes.net': 1, 'baltimoresun.com': 1, 'blog.jp': 1, 'disp.cc': 1, 'thinkpool.com': 1, 'rebloggy.com': 1, 'ldblog.jp': 1, 'siakapkeli.my': 1, 'recipenijuan.com': 1, 'babypips.com': 1, 'safehavenscomic.com': 1, 'sdamned.com': 1, 'showfree.co.kr': 1, 'justsomething.co': 1, 'kienthuc.net.vn': 1, 'avtobazar.ua': 1, 'runnersworld.com': 1, 'baseball-reference.com': 1, 'sandesh.com': 1, 'animeonlinehere.net': 1, 'cnn.com': 1, 'urimaeum.com': 1, 'valuebuddies.com': 1, 'vecteezy.com': 1, 'friendship-bracelets.net': 1, 'foxestalk.co.uk': 1, 'fitfreak.net': 1, 'watchboruto.tv': 1, 'watchborutoepisodes.com': 1, 'divyabhaskar.co.in': 1, 'watchopnow.com': 1, 'whats-theword.com': 1, 'akinator.com': 1, '4tests.com': 1, 'epochtimes.com': 1, 'worldlifestyle.com': 1, 'wow-petopia.com': 1, 'xemtuong.net': 1, '247sudoku.com': 1, 'dramamee.com': 1, '17track.net': 1, 'zayzay.com': 1, 'drollmotion.net': 1, 'dramawaw.com': 1, 'driveat.com': 1, 'wokandskillet.com': 1, 'davidlebovitz.com': 1, 'tvweb.com': 1, 'truyencuatui.net': 1, 'jisho.org': 1, 'astrologyzone.com': 1, 'cnnphilippines.com': 1, 'smmsport.com': 1, 'smogon.com': 1, 'askamanager.org': 1, 'songfacts.com': 1, 'inspiredtaste.net': 1, 'sparkpeople.com': 1, 'inkedmag.com': 1, 'consolegameswiki.com': 1, 'sportschatplace.com': 1, 'sportzwiki.com': 1, 'hunterxhunter.me': 1, 'tekkenzaibatsu.com': 1, 'really-learn-english.com': 1, 'hankyung.com': 1, 'animalslook.com': 1, 'guitarbackingtrack.com': 1, 'theguardian.com': 1, 'americanthinker.com': 1, 'gonews24.com': 1, 'gogy.com': 1, 'gigazine.net': 1, 'giavang.net': 1, 'clipd.com': 1, 'realclearscience.com': 1, 'spot.ph': 1, 'blu-ray.com': 1, 'moonastro.com': 1, 'calciomercato.com': 1, 'nationalreview.com': 1, 'nationsonline.org': 1, 'live4d2u.com': 1, 'blizzardwatch.com': 1, 'pinkvilla.com': 1, 'mtgdecks.net': 1, 'oola.com': 1, 'canucksarmy.com': 1, 'mic.com': 1, 'mywomenstuff.com': 1, 'bonikbarta.net': 1, 'bigbangreviews.com': 1, 'mufclatest.com': 1, 'ninjakiwi.com': 1, 'mashable.com': 1, 'nowrunning.com': 1, 'bournemouthecho.co.uk': 1, 'blogtalkradio.com': 1, 'manuals365.com': 1, 'pro-football-reference.com': 1, 'mtv.co.uk': 1, 'geology.com': 1, 'celebuzz.com': 1, 'moralnews24.com': 1, 'tokyoghoul2.com': 1, 'greatist.com': 1, 'tineye.com': 1, 'pdamobiz.com': 1, 'tokyo-sports.co.jp': 1, 'radaronline.com': 1, 'theargus.co.uk': 1, 'themag.co.uk': 1, 'happyhomefairy.com': 1, 'tasteofhome.com': 1, 'quien.com': 1, 'shoryuken.com': 1, 'audiworld.com': 1, 'siamfishing.com': 1, 'sisterclaire.com': 1, 'astrology-zodiac-signs.com': 1, 'smithakalluraya.com': 1, 'sosmath.com': 1, 'pokecommunity.com': 1, 'space.com': 1, 'knowing-jesus.com': 1, 'civilservicereview.com': 1, 'ibtimes.com': 1, 'apikepol.com': 1, 'candymag.com': 1, 'aninesia.com': 1, 'tanoshikoto.com': 1, 'traileraddict.com': 1, 'hearthhead.com': 1, 'telme-bg.com': 1, 'telpon.info': 1, 'pivottrading.co.in': 1, 'genderdreaming.com': 1, 'guitartabs.cc': 1, 'prokerala.com': 1, 'fanpiece.com': 1, '7deadlysins.tv': 1, 'lesfan.com': 1, 'paintball-players.org': 1, 'discoverwildlife.com': 1, 'foodviva.com': 1, 'digg.com': 1, 'foreign-trade.com': 1, 'name104.com': 1, 'whatmobile.com.pk': 1, 'epapr.in': 1, 'donga.com': 1, 'dorama.info': 1, 'world-airport-codes.com': 1, 'banglanewslive.com': 1, 'gearnuke.com': 1, 'drikpanchang.com': 1, 'enggcyclopedia.com': 1, '247solitaire.com': 1, 'dcfever.com': 1, 'literary-devices.com': 1, 'bolor-toli.com': 1, 'southindiafashion.com': 1, 'caricalon.com': 1, 'netdoctor.co.uk': 1, 'docbao.vn': 1, 'zangsisi.net': 1, 'cliffsnotes.com': 1, 'wired.com': 1, 'nekonime.com': 1, 'carandclassic.co.uk': 1, 'signingsavvy.com': 1, 'neobuggy.net': 1, 'investopedia.com': 1, 'catracalivre.com.br': 1, 'noticias24.com': 1, 'connectingsingles.com': 1, 'nusanews.net': 1, 'ygunited.com': 1, 'sportsgamersonline.com': 1, 'turistipercaso.it': 1, 'what-character-are-you.com': 1, 'gayathriscookspot.com': 1, 'munshiganjtimes.com': 1, 'justinguitar.com': 1, 'tvline.com': 1, 'mycutegames.com': 1, 'bola.net': 1, 'gadgetreview.com': 1, 'businessnewsdaily.com': 1, 'goodinfo.tw': 1, 'n4g.com': 1, 'thestar.com': 1, 'free-anatomy-quiz.com': 1, 'gopherhole.com': 1, 'vietbao.vn': 1, 'vietnamnews.vn': 1, 'viki.com': 1, 'diezminutos.es': 1, 'adintrend.com': 1, 'adhqmedia.com': 1, 'footballtransfertavern.com': 1, 'animecenter.tv': 1, 'fisheaters.com': 1, 'modojo.com': 1, 'watch-dbz.tv': 1, 'hometalk.com': 1, 'streetdirectory.com': 1, 'diyaudio.com': 1, 'linuxforums.org': 1, 'sgxin.com': 1, 'chordfrenzy.com': 1, 'chauxuannguyen.org': 1, 'rdasia.com': 1, 'lemonidolshow.com': 1, 'seasaltwithfood.com': 1, 'chicagotribune.com': 1, 'likeafool.com': 1, 'leagueofgraphs.com': 1, 'liquiddota.com': 1, 'rishikajain.com': 1, 'banglapoint.com': 1, 'rightthisminute.com': 1, 'werecipes.com': 1, 'cruisecritic.com': 1, 'hariangadget.com': 1, 'slidescarnival.com': 1, 'thefreshloaf.com': 1, 'whiskaffair.com': 1, 'obsev.com': 1, 'historyextra.com': 1, 'eatthis.com': 1, 'betches.com': 1, 'animewow.org': 1, 'wonderwall.com': 1, 'newsarama.com': 1, 'huffingtonpost.com': 1, 'remate.ph': 1, 'segmentnext.com': 1, 'ifitweremyhome.com': 1, 'songsforteaching.com': 1, 'econet.ru': 1, 'infonet.vn': 1, 'hipenpal.com': 1, 'guide4gamers.com': 1, 'cardgamespidersolitaire.com': 1, 'androidpolice.com': 1, 'bragmybag.com': 1, 'toyokeizai.net': 1, 'mtgvault.com': 1, 'thichtruyentranh.com': 1, 'paketblackberry.com': 1, 'malayalivartha.com': 1, 'shermanslagoon.com': 1, 'tripstodiscover.com': 1, 'babygaga.com': 1, 'leesharing.com': 1, 'rsvp.com.au': 1, 'thepeoplesperson.com': 1, 'allbanaadir.net': 1, 'realclearmarkets.com': 1, 'lockerroomvip.com': 1, 'watchac2.com': 1, 'filipino-food-recipes.com': 1, 'starwarsnewsnet.com': 1, 'afamily.vn': 1, 'stockq.org': 1, 'strategywiki.org': 1, 'elleuk.com': 1, 'lifestylefood.com.au': 1, 'di.se': 1, 'hungzai.com': 1, 'girlgeniusonline.com': 1, 'cinema.com.my': 1, 'susutin.com': 1, 'chordtabs.in.th': 1, 'ffxivguild.com': 1, 'daijiworld.com': 1, 'informer.com': 1, 'mongabay.com': 1, '90min.com': 1, 'webaslan.com': 1, 'roojingsingapore.com': 1, 'executivestyle.com.au': 1, 'thisisfutbol.com': 1, 'tigerdroppings.com': 1, 'tamilmp3plus.com': 1, 'prothom-alo.com': 1, 'mlssoccer.com': 1, 'sanjeevkapoor.com': 1, 'wittyfeed.me': 1, 'criccrazy.com': 1, 'moonbbs.com': 1, 'clickthecity.com': 1, 'solitairetime.com': 1, 'mangatraders.biz': 1, 'cdict.net': 1, 'ygosu.com': 1, 'break.com': 1, 'iplocation.net': 1, 'sohu.com': 1, 'mahq.net': 1, 'poetrysoup.com': 1, 'franchiseindia.com': 1, 'dodgerblue.com': 1, 'tora-news.com': 1, 'cebuclassifieds.com': 1, 'stheadline.com': 1, 'philly.com': 1, 'straitstimes.com': 1, 'yeah1.com': 1, 'truyencv.com': 1, 'foxsports.com.au': 1, 'cntraveler.com': 1, 'newyorker.com': 1, 'canberratimes.com.au': 1, 'reportbangla.com': 1, 'dogtime.com': 1, 'seibertron.com': 1, 'kdramawave.net': 1, 'moneydj.com': 1, 'el-nacional.com': 1, 'lunarium.co.uk': 1, 'koreandrama.tv': 1, 'windada.com': 1, 'lemonidol.com': 1, 'arsenalnewsreview.co.uk': 1, 'foreverwestham.com': 1, 'thestandard.com.hk': 1, 'moviepilot.com': 1, 'purpleclover.com': 1, 'overclockzone.com': 1, 'onefivenine.com': 1, 'mydailymoment.com': 1, 'epicnpc.com': 1, 'havefunteaching.com': 1, 'weddingbee.com': 1, 'webtruyen.com': 1, 'allthetests.com': 1, 'chinesemov.com': 1, 'veganbaking.net': 1, 'cbs.com': 1, 'shingekinokyojin.tv': 1, 'fascans.com': 1, 'livedoor.jp': 1, 'urbanfonts.com': 1, 'watchanime.me': 1, 'thejakartapost.com': 1, 'purseblog.com': 1, 'lamchame.com': 1, 'teachertube.com': 1, 'greetingsisland.com': 1, 'nicklee.tw': 1, 'armorgames.com': 1, 'ipeen.com.tw': 1, 'pitchfork.com': 1, 'tubidy.mobi': 1, 'theshedend.com': 1, 'gameranx.com': 1, 'espncricinfo.com': 1, 'programering.com': 1, 'hidden-street.net': 1, 'doctorslounge.com': 1, 'sparklermonthly.com': 1, 'realclearpolitics.com': 1, 'excite.co.jp': 1, 'fusionbd.com': 1, 'videocelts.com': 1, 'lonny.com': 1, 'mom.me': 1, 'watoday.com.au': 1, 'panlasangpinoymeatrecipes.com': 1, 'thediplomat.com': 1, 'skynews.com.au': 1, '9to5mac.com': 1, 'lachainemeteo.com': 1, 'kapanlagi.com': 1, 'bharatiyamobile.com': 1, 'shichengbbs.com': 1, 'teamfortress.tv': 1, 'footyheadlines.com': 1, 'apost.com': 1, 'ukutabs.com': 1, 'claretandhugh.info': 1, 'bollywoodhungama.com': 1, 'indianhindunames.com': 1, 'starbounder.org': 1, 'pixnet.net': 1, 'minitoon.net': 1, 'bearnakedfood.com': 1, 'speckyboy.com': 1, 'archive3d.net': 1, 'pokemonepisodes.net': 1, 'hymnary.org': 1, 'photozone.de': 1, 'happylilac.net': 1, 'viewasian.com': 1, 'dumbingofage.com': 1, 'ekusherbangladesh.com.bd': 1, 'hdforums.com': 1, 'sbdbforums.com': 1, 'vanityfair.com': 1, 'onelittleproject.com': 1, 'realliving.com.ph': 1, 'goodreturns.in': 1, 'koreastardaily.com': 1, 'gogoanimeonline.to': 1, 'tiin.vn': 1, 'paultan.org': 1, 'youtubeinmp3.com': 1, 'trend-chaser.com': 1, 'moomoo.io': 1, 'myanmarmp3.net': 1, 'deluxemall.com': 1, 'nzdating.com': 1, 'konosubaepisodes.com': 1, 'cutepetname.com': 1, 'topgear.com.ph': 1, 'gimyong.com': 1, 'puzzledragonx.com': 1, 'dapurlezatid.com': 1, 'theatlantic.com': 1, '911tabs.com': 1, 'komikid.com': 1, 'dafont.com': 1, 'omgbeaupeep.com': 1, 'ultimateknicks.com': 1, 'fifaaddict.com': 1, 'venturebeat.com': 1, 'behindwoods.com': 1, 'garfield.com': 1, 'cbsnews.com': 1, 'animeultima.io': 1, 'fixya.com': 1, 'inhabitat.com': 1, 'f4wonline.com': 1, 'inilah.com': 1, 'hotforfoodblog.com': 1, 'askmefast.com': 1, 'rakskitchen.net': 1, 'arrse.co.uk': 1, 'truyenfull.vn': 1, 'wareable.com': 1, 'tommyooi.com': 1, 'game-debate.com': 1, 'jorudan.co.jp': 1, 'aol.com': 1, 'horoworld.com': 1, 'mob.org': 1, 'creaders.net': 1, 'tvguide.com': 1, 'att.net': 1, 'rctech.net': 1, 'zing.vn': 1, 'strawpoll.me': 1, 'mycollection.net': 1, 'frommers.com': 1, 'vice.com': 1, 'thecelticblog.com': 1, 'animerush.tv': 1, 'workabroad.ph': 1, 'hooch.net': 1, 'politifact.com': 1, 'activebeat.com': 1, 'dinarrecaps.com': 1, '7aumsuvai.com': 1, 'essentialbaby.com.au': 1, 'keeprecipes.com': 1, '123freecell.com': 1, 'mynavi.jp': 1, 'worldfootball.net': 1, 'gpupdate.net': 1, 'footmercato.net': 1, 'metromasti.com': 1, 'sstruyen.com': 1, 'activebeat.co': 1, 'channelate.com': 1, 'dramalike.tv': 1, 'asianwiki.com': 1, 'generasia.com': 1, 'businessinsider.com': 1, 'business-articles.net': 1, 'temptalia.com': 1, 'fujirumors.com': 1, 'blogspot.sg': 1, 'toynewsi.com': 1, 'danielfooddiary.com': 1, 'tribuneindia.com': 1, 'motorsport.com': 1, 'glamour.com': 1, 'spurscommunity.co.uk': 1, 'be.com': 1, 'sinodefenceforum.com': 1, 'healthstatus.com': 1, 'sharmispassions.com': 1, 'craftpassion.com': 1, 'cartoonextra.com': 1, 'eprice.com.tw': 1, 'sportskeeda.com': 1, 'gamersheroes.com': 1, 'zaobao.com.sg': 1, 'freekigames.com': 1, 'gangzabaaball.com': 1, 'geeksforgeeks.org': 1, 'gamebanana.com': 1, 'debatewise.org': 1, 'hdwallpapers.in': 1, 'countdowntopregnancy.com': 1, 'y8.com': 1, 'yodrama.com': 1, 'sneakernews.com': 1, 'shareably.co': 1, 'kompasiana.com': 1, 'readarsenal.com': 1, '8notes.com': 1, 'kiss-anime.me': 1, 'lyrics.com': 1, 'huvle.com': 1, 'asianpopnews.com': 1, 'laptopmag.com': 1, 'cosmicbooknews.com': 1, 'animetv.to': 1, 'sltrib.com': 1, 'loveawake.com': 1, 'allbanglanewspaperlist24.com': 1, 'diply.com': 1, 'cbsinteractive.com': 1, 'pinoyadventurista.com': 1, 'sports.fr': 1, 'attackontitanepisodes.com': 1, 'websosanh.vn': 1, 'freerice.com': 1, 'scribol.com': 1, 'radiomirchi.com': 1, 'bangkokbiznews.com': 1, 'imore.com': 1, 'sharetify.com': 1, 'overwatchtracker.com': 1, 'yayabay.com': 1, 'esoui.com': 1, 'tomshardware.com': 1, 'comicbook.com': 1, 'geektyrant.com': 1, 'arofanatics.com': 1, 'miniclip.com': 1, 'republika.co.id': 1, '1layanon9.net': 1, 'bikeradar.com': 1, 'mythicspoiler.com': 1, 'washingtontimes.com': 1, 'astrosage.com': 1, 'bukancincai.org': 1, 'cheatsguru.com': 1, 'anilinkz.to': 1, 'dulfy.net': 1, 'dotesports.com': 1, 'metrolyrics.com': 1, 'mallikamanivannan.com': 1, 'lovetoknow.com': 1, 'vidstatsx.com': 1, 'idws.id': 1, 'yipee.sg': 1, 'genius.com': 1, 'animepill.com': 1, 'anandtech.com': 1, 'roleplayrepublic.com': 1, 'realgm.com': 1, 'latimes.com': 1, 'malaysiastylonews.com': 1, 'hoofoot.com': 1, 'ieatishootipost.sg': 1, 'babycenter.com': 1, 'cardgames.io': 1, 'mydramalist.com': 1, 'teambrg.com': 1, 'mumsnet.com': 1, 'wetpaint.com': 1, 'livechennai.com': 1, 'cosdna.com': 1, 'livedoor.com': 1, 'smartparenting.com.ph': 1, 'jeyashriskitchen.com': 1, 'bhorerkagoj.net': 1, 'timeout.com': 1, 'popsugar.com': 1, 'pbh-network.com': 1, 'sgdriving.net': 1, 'okezone.com': 1, 'nextmedia.com': 1, 'sanfoundry.com': 1, 'thehindu.com': 1, 'androidcentral.com': 1, 'guitaretab.com': 1, 'tradecardsonline.com': 1, 'crosswalk.com': 1, 'pokernews.com': 1, 'sinchew.com.my': 1, 'managementstudyguide.com': 1, 'accuweather.com': 1, 'dramafans.org': 1, 'uesp.net': 1, 'goodfood.com.au': 1, 'live4liverpool.com': 1, 'desirulez.me': 1, 'tsikot.com': 1, 'biblestudytools.com': 1, 'football-transfer-rumours.com': 1, '1001freefonts.com': 1, 'photographylife.com': 1, 'hotslogs.com': 1, 'stuff.co.nz': 1, 'famousbirthdays.com': 1, 'borutoget.info': 1, 'howstuffworks.com': 1, 'toonget.net': 1, 'vidzi.cc': 1, 'business-solution.us': 1, 'primbon.com': 1, 'gulte.com': 1, 'dramanice.es': 1, 'mensfitness.com': 1, 'marunadanmalayali.com': 1, 'dramacool.info': 1, 'mlb.com': 1, 'onlinefanatic.com': 1, 'trickbd.com': 1, 'soompi.se': 1, 'narutoget.xyz': 1, 'revitcity.com': 1, 'citethisforme.com': 1, 'realoem.com': 1, 'nintendoeverything.com': 1, 'watchnaruto.tv': 1, 'toffeeweb.com': 1, 'mzamin.com': 1, 'boston.com': 1, 'ffonts.net': 1, 'life.tw': 1, 'animeseason.com': 1, 'pasted.co': 1, 'thethings.com': 1, 'jamieoliver.com': 1, 'tenplay.com.au': 1, 'sitescout.us': 1, 'memecenter.com': 1, 'anncoojournal.com': 1, 'footyroom.com': 1, 'epapervijayavani.in': 1, 'metro.co.uk': 1, 'aastocks.com': 1, 'nationstates.net': 1, 'myfreepost.com': 1, '411mania.com': 1, 'traveller.com.au': 1, 'dittotv.com': 1, 'windowscentral.com': 1, 'sgcafe.com': 1, 'tempostorm.com': 1, 'bomboradyo.com': 1, 'livingly.com': 1, 'fstoppers.com': 1, 'binbox.io': 1, 'cyber-breeze.com': 1, 'bible-knowledge.com': 1, 'w3schools.com': 1, 'smaato.net': 1, 'lefigaro.fr': 1, 'calculatorsoup.com': 1, 'allrecipes.com': 1, 'nikkansports.com': 1, 'bikeforums.net': 1, 'indianexpress.com': 1, 'cheezburger.com': 1, 'xivdb.com': 1, 'cricbuzz.com': 1, 'openload.cc': 1, 'saoworld.com': 1, 'jaynestars.com': 1, 'shockwave.com': 1, 'samakal.net': 1, 'livescience.com': 1, 'inoreader.com': 1, 'magiquiz.com': 1, 'weatherzone.com.au': 1, 'hssszn.com': 1, 'malaysianreview.com': 1, 'mojim.com': 1, 'gamepress.gg': 1, 'dramaload.se': 1, 'maangchi.com': 1, 'golfwrx.com': 1, 'clien.net': 1, 'overstock.com': 1, 'lyricsfreak.com': 1, 'nativeplanet.com': 1, 'bhaskar.com': 1, 'gsmarena.com': 1, 'animetoon.org': 1, 'nine.com.au': 1, 'kiasuparents.com': 1, 'business-solutions.us': 1, 'dcinside.com': 1, 'cyclingnews.com': 1, 'zoombangla.com': 1, 'theqoo.net': 1, 'brisbanetimes.com.au': 1, 'tribunnews.com': 1, 'mcfcwatch.com': 1, 'coindesk.com': 1, 'gumtree.com.au': 1, 'royalroadl.com': 1, 'thesimsresource.com': 1, 'vppgamingnetwork.com': 1, 'theage.com.au': 1, 'ebay.co.uk': 1, 'gadgethacks.com': 1, 'business-article.me': 1, 'beliefnet.com': 1, 'goodmenproject.com': 1, 'yummytummyaarthi.com': 1, 'crazygames.com': 1, 'amadershomoy.biz': 1, 'surrenderat20.net': 1, 'genyoutube.net': 1, 'everydayfeminism.com': 1, 'hotcopper.com.au': 1, 'leaguelane.com': 1, 'smh.com.au': 1, 'britannica.com': 1, 'sporcle.com': 1, 'dantri.com.vn': 1, 'therepublikofmancunia.com': 1, 'nationalgeographic.com': 1, 'statcounter.com': 1, 'drama365.se': 1, 'business-tv.me': 1, 'ladyironchef.com': 1, 'singaporebikes.com': 1, 'cbr.com': 1, 'destructoid.com': 1, 'dramameong.com': 1, 'csnbayarea.com': 1, 'moneycontrol.com': 1, 'telegraph.co.uk': 1, 'rousingthekop.com': 1, 'weekender.com.sg': 1, 'animeshow.tv': 1, 'animenova.org': 1, 'hearthstonetopdecks.com': 1, 'gossiplankanews.com': 1, 'ndtv.com': 1, 'xda-developers.com': 1, 'lady-first.net': 1, '24h.com.vn': 1, 'planetromeo.com': 1, 'ittefaq.com.bd': 1, 'mmo-champion.com': 1, 'thesun.co.uk': 1, 'dramagalaxy.tv': 1, 'siliconera.com': 1, 'goodanime.co': 1, 'gogoanime.to': 1, 'thisisinsider.com': 1, 'screenrant.com': 1, 'timesofindia.com': 1, 'layanon9.biz': 1, 'genfb.com': 1, 'gravitytales.com': 1, 'dailymail.co.uk': 1, 'check4d.com': 1, 'singaporeexpats.com': 1, 'on9drama.com': 1, 'mio.to': 1, 'ikshow.net': 1, 'mitbbs.com': 1, 'newnation.sg': 1, 'dramatvb.se': 1, 'toonova.net': 1, 'appunwrapper.com': 1, 'oneindia.com': 1, 'thoughtcatalog.com': 1, 'bd-pratidin.com': 1, 'pep.ph': 1, 'bodybuilding.com': 1, 'wattpad.com': 1, 'woaikanxi.net': 1, 'tvarticles.me': 1, 'desitvbox.net': 1, 'saavn.com': 1, 'express.co.uk': 1, 'lyricsmode.com': 1, 'ondramacool.com': 1, 'readcomiconline.to': 1, 'mobile01.com': 1, 'kalerkantho.com': 1, 'gooddrama.to': 1, 'lifebuzz.com': 1, '24livenewspaper.com': 1, 'yahoo.com': 1, 'tribalfootball.com': 1, 'youdao.com': 1, 'dailysuperheroes.com': 1, 'freemalaysiatoday.com': 1, 'mp4upload.com': 2, 'lifedaily.com': 2, 'ondramanice.com': 2, 'lakersnation.com': 2, 'ask.fm': 2, 'mopub.com': 2, 'myanimelist.net': 3, 'kissanime.ru': 3, 'cari.com.my': 3, 'google.com': 3, 'wuxiaworld.com': 3, 'malaysia-chronicle.com': 3, 'msn.com': 4, 'icdrama.se': 5, 'dramacity.se': 5, 'Unknown': 7, 'kissasian.com': 8}\n"
     ]
    },
    {
     "name": "stdout",
     "output_type": "stream",
     "text": [
      "   placement  position  browser  carrier         domain  supply_type  \\\n",
      "0    6360701         0       18      283   dramacity.se            1   \n",
      "1    6360701         0        8        1   dramacity.se            1   \n",
      "2    6360701         0        8        1  kissasian.com            1   \n",
      "3    6360701         0        9        1     icdrama.se            1   \n",
      "4    6360701         0       21        1  kissasian.com            1   \n",
      "\n",
      "   language  region  os_extended  publisher  device_model         device_type  \\\n",
      "0         1       0          137     633687             0  pc & other devices   \n",
      "1         1       0           92     633687             0  pc & other devices   \n",
      "2         1       0          141     633687         11995               phone   \n",
      "3         2       0           80     633687           300              tablet   \n",
      "4         1       0          155     633687             0  pc & other devices   \n",
      "\n",
      "   user_day  user_hour     size  response  domgrps  \n",
      "0         2         14  300x250         0        5  \n",
      "1         6         13  300x250         0        5  \n",
      "2         4         11  300x250         0        8  \n",
      "3         2         11  300x250         0        5  \n",
      "4         6         11  300x250         0        8  \n"
     ]
    },
    {
     "name": "stderr",
     "output_type": "stream",
     "text": [
      "C:\\ProgramData\\Anaconda3\\lib\\site-packages\\ipykernel_launcher.py:6: SettingWithCopyWarning: \n",
      "A value is trying to be set on a copy of a slice from a DataFrame.\n",
      "Try using .loc[row_indexer,col_indexer] = value instead\n",
      "\n",
      "See the caveats in the documentation: http://pandas.pydata.org/pandas-docs/stable/indexing.html#indexing-view-versus-copy\n",
      "  \n"
     ]
    }
   ],
   "source": [
    "mydict = newgroup.set_index('domain').to_dict()['count']\n",
    "\n",
    "print(mydict)\n",
    "\n",
    "dfsmall = df.head(100)\n",
    "dfsmall['domgrps'] = dfsmall['domain'].replace(mydict)\n",
    "print(dfsmall.head())\n",
    "#df['domgrps'] = df['domain'].replace(mydict)\n",
    "#grouped = df.groupby(['domain'],as_index=False).agg({'user_hour':np.sum,'response':np.sum}).sort_values(by='user_hour')\n",
    "#print(grouped)\n",
    "#df.head()"
   ]
  },
  {
   "cell_type": "code",
   "execution_count": 93,
   "metadata": {},
   "outputs": [
    {
     "data": {
      "text/html": [
       "<div>\n",
       "<style>\n",
       "    .dataframe thead tr:only-child th {\n",
       "        text-align: right;\n",
       "    }\n",
       "\n",
       "    .dataframe thead th {\n",
       "        text-align: left;\n",
       "    }\n",
       "\n",
       "    .dataframe tbody tr th {\n",
       "        vertical-align: top;\n",
       "    }\n",
       "</style>\n",
       "<table border=\"1\" class=\"dataframe\">\n",
       "  <thead>\n",
       "    <tr style=\"text-align: right;\">\n",
       "      <th></th>\n",
       "      <th>domain</th>\n",
       "      <th>domgrps</th>\n",
       "      <th>response</th>\n",
       "    </tr>\n",
       "  </thead>\n",
       "  <tbody>\n",
       "    <tr>\n",
       "      <th>0</th>\n",
       "      <td>dramacity.se</td>\n",
       "      <td>5</td>\n",
       "      <td>0</td>\n",
       "    </tr>\n",
       "    <tr>\n",
       "      <th>1</th>\n",
       "      <td>dramacity.se</td>\n",
       "      <td>5</td>\n",
       "      <td>0</td>\n",
       "    </tr>\n",
       "    <tr>\n",
       "      <th>2</th>\n",
       "      <td>kissasian.com</td>\n",
       "      <td>8</td>\n",
       "      <td>0</td>\n",
       "    </tr>\n",
       "    <tr>\n",
       "      <th>3</th>\n",
       "      <td>icdrama.se</td>\n",
       "      <td>5</td>\n",
       "      <td>0</td>\n",
       "    </tr>\n",
       "    <tr>\n",
       "      <th>4</th>\n",
       "      <td>kissasian.com</td>\n",
       "      <td>8</td>\n",
       "      <td>0</td>\n",
       "    </tr>\n",
       "    <tr>\n",
       "      <th>5</th>\n",
       "      <td>24livenewspaper.com</td>\n",
       "      <td>1</td>\n",
       "      <td>0</td>\n",
       "    </tr>\n",
       "    <tr>\n",
       "      <th>6</th>\n",
       "      <td>ndtv.com</td>\n",
       "      <td>1</td>\n",
       "      <td>0</td>\n",
       "    </tr>\n",
       "    <tr>\n",
       "      <th>7</th>\n",
       "      <td>msn.com</td>\n",
       "      <td>4</td>\n",
       "      <td>0</td>\n",
       "    </tr>\n",
       "    <tr>\n",
       "      <th>8</th>\n",
       "      <td>dramacity.se</td>\n",
       "      <td>5</td>\n",
       "      <td>0</td>\n",
       "    </tr>\n",
       "    <tr>\n",
       "      <th>9</th>\n",
       "      <td>Unknown</td>\n",
       "      <td>7</td>\n",
       "      <td>0</td>\n",
       "    </tr>\n",
       "    <tr>\n",
       "      <th>10</th>\n",
       "      <td>gsmarena.com</td>\n",
       "      <td>1</td>\n",
       "      <td>0</td>\n",
       "    </tr>\n",
       "    <tr>\n",
       "      <th>11</th>\n",
       "      <td>google.com</td>\n",
       "      <td>3</td>\n",
       "      <td>0</td>\n",
       "    </tr>\n",
       "    <tr>\n",
       "      <th>12</th>\n",
       "      <td>kissasian.com</td>\n",
       "      <td>8</td>\n",
       "      <td>0</td>\n",
       "    </tr>\n",
       "    <tr>\n",
       "      <th>13</th>\n",
       "      <td>kissasian.com</td>\n",
       "      <td>8</td>\n",
       "      <td>0</td>\n",
       "    </tr>\n",
       "    <tr>\n",
       "      <th>14</th>\n",
       "      <td>90min.com</td>\n",
       "      <td>1</td>\n",
       "      <td>0</td>\n",
       "    </tr>\n",
       "    <tr>\n",
       "      <th>15</th>\n",
       "      <td>toonova.net</td>\n",
       "      <td>1</td>\n",
       "      <td>0</td>\n",
       "    </tr>\n",
       "    <tr>\n",
       "      <th>16</th>\n",
       "      <td>weekender.com.sg</td>\n",
       "      <td>1</td>\n",
       "      <td>0</td>\n",
       "    </tr>\n",
       "    <tr>\n",
       "      <th>17</th>\n",
       "      <td>kissasian.com</td>\n",
       "      <td>8</td>\n",
       "      <td>0</td>\n",
       "    </tr>\n",
       "    <tr>\n",
       "      <th>18</th>\n",
       "      <td>nzdating.com</td>\n",
       "      <td>1</td>\n",
       "      <td>0</td>\n",
       "    </tr>\n",
       "    <tr>\n",
       "      <th>19</th>\n",
       "      <td>toonova.net</td>\n",
       "      <td>1</td>\n",
       "      <td>0</td>\n",
       "    </tr>\n",
       "    <tr>\n",
       "      <th>20</th>\n",
       "      <td>kissasian.com</td>\n",
       "      <td>8</td>\n",
       "      <td>0</td>\n",
       "    </tr>\n",
       "    <tr>\n",
       "      <th>21</th>\n",
       "      <td>icdrama.se</td>\n",
       "      <td>5</td>\n",
       "      <td>0</td>\n",
       "    </tr>\n",
       "    <tr>\n",
       "      <th>22</th>\n",
       "      <td>hssszn.com</td>\n",
       "      <td>1</td>\n",
       "      <td>0</td>\n",
       "    </tr>\n",
       "    <tr>\n",
       "      <th>23</th>\n",
       "      <td>Unknown</td>\n",
       "      <td>7</td>\n",
       "      <td>0</td>\n",
       "    </tr>\n",
       "    <tr>\n",
       "      <th>24</th>\n",
       "      <td>kissanime.ru</td>\n",
       "      <td>3</td>\n",
       "      <td>0</td>\n",
       "    </tr>\n",
       "    <tr>\n",
       "      <th>25</th>\n",
       "      <td>Unknown</td>\n",
       "      <td>7</td>\n",
       "      <td>0</td>\n",
       "    </tr>\n",
       "    <tr>\n",
       "      <th>26</th>\n",
       "      <td>Unknown</td>\n",
       "      <td>7</td>\n",
       "      <td>0</td>\n",
       "    </tr>\n",
       "    <tr>\n",
       "      <th>27</th>\n",
       "      <td>dramacity.se</td>\n",
       "      <td>5</td>\n",
       "      <td>0</td>\n",
       "    </tr>\n",
       "    <tr>\n",
       "      <th>28</th>\n",
       "      <td>Unknown</td>\n",
       "      <td>7</td>\n",
       "      <td>0</td>\n",
       "    </tr>\n",
       "    <tr>\n",
       "      <th>29</th>\n",
       "      <td>kissasian.com</td>\n",
       "      <td>8</td>\n",
       "      <td>0</td>\n",
       "    </tr>\n",
       "    <tr>\n",
       "      <th>...</th>\n",
       "      <td>...</td>\n",
       "      <td>...</td>\n",
       "      <td>...</td>\n",
       "    </tr>\n",
       "    <tr>\n",
       "      <th>70</th>\n",
       "      <td>wuxiaworld.com</td>\n",
       "      <td>3</td>\n",
       "      <td>0</td>\n",
       "    </tr>\n",
       "    <tr>\n",
       "      <th>71</th>\n",
       "      <td>yahoo.com</td>\n",
       "      <td>1</td>\n",
       "      <td>0</td>\n",
       "    </tr>\n",
       "    <tr>\n",
       "      <th>72</th>\n",
       "      <td>ask.fm</td>\n",
       "      <td>2</td>\n",
       "      <td>0</td>\n",
       "    </tr>\n",
       "    <tr>\n",
       "      <th>73</th>\n",
       "      <td>kissasian.com</td>\n",
       "      <td>8</td>\n",
       "      <td>0</td>\n",
       "    </tr>\n",
       "    <tr>\n",
       "      <th>74</th>\n",
       "      <td>tribalfootball.com</td>\n",
       "      <td>1</td>\n",
       "      <td>0</td>\n",
       "    </tr>\n",
       "    <tr>\n",
       "      <th>75</th>\n",
       "      <td>wattpad.com</td>\n",
       "      <td>1</td>\n",
       "      <td>0</td>\n",
       "    </tr>\n",
       "    <tr>\n",
       "      <th>76</th>\n",
       "      <td>msn.com</td>\n",
       "      <td>4</td>\n",
       "      <td>0</td>\n",
       "    </tr>\n",
       "    <tr>\n",
       "      <th>77</th>\n",
       "      <td>Unknown</td>\n",
       "      <td>7</td>\n",
       "      <td>0</td>\n",
       "    </tr>\n",
       "    <tr>\n",
       "      <th>78</th>\n",
       "      <td>kissasian.com</td>\n",
       "      <td>8</td>\n",
       "      <td>0</td>\n",
       "    </tr>\n",
       "    <tr>\n",
       "      <th>79</th>\n",
       "      <td>kissasian.com</td>\n",
       "      <td>8</td>\n",
       "      <td>0</td>\n",
       "    </tr>\n",
       "    <tr>\n",
       "      <th>80</th>\n",
       "      <td>kissasian.com</td>\n",
       "      <td>8</td>\n",
       "      <td>0</td>\n",
       "    </tr>\n",
       "    <tr>\n",
       "      <th>81</th>\n",
       "      <td>kissasian.com</td>\n",
       "      <td>8</td>\n",
       "      <td>0</td>\n",
       "    </tr>\n",
       "    <tr>\n",
       "      <th>82</th>\n",
       "      <td>icdrama.se</td>\n",
       "      <td>5</td>\n",
       "      <td>0</td>\n",
       "    </tr>\n",
       "    <tr>\n",
       "      <th>83</th>\n",
       "      <td>express.co.uk</td>\n",
       "      <td>1</td>\n",
       "      <td>0</td>\n",
       "    </tr>\n",
       "    <tr>\n",
       "      <th>84</th>\n",
       "      <td>gooddrama.to</td>\n",
       "      <td>1</td>\n",
       "      <td>0</td>\n",
       "    </tr>\n",
       "    <tr>\n",
       "      <th>85</th>\n",
       "      <td>dramacity.se</td>\n",
       "      <td>5</td>\n",
       "      <td>0</td>\n",
       "    </tr>\n",
       "    <tr>\n",
       "      <th>86</th>\n",
       "      <td>youdao.com</td>\n",
       "      <td>1</td>\n",
       "      <td>0</td>\n",
       "    </tr>\n",
       "    <tr>\n",
       "      <th>87</th>\n",
       "      <td>icdrama.se</td>\n",
       "      <td>5</td>\n",
       "      <td>0</td>\n",
       "    </tr>\n",
       "    <tr>\n",
       "      <th>88</th>\n",
       "      <td>mp4upload.com</td>\n",
       "      <td>2</td>\n",
       "      <td>0</td>\n",
       "    </tr>\n",
       "    <tr>\n",
       "      <th>89</th>\n",
       "      <td>ask.fm</td>\n",
       "      <td>2</td>\n",
       "      <td>0</td>\n",
       "    </tr>\n",
       "    <tr>\n",
       "      <th>90</th>\n",
       "      <td>cari.com.my</td>\n",
       "      <td>3</td>\n",
       "      <td>0</td>\n",
       "    </tr>\n",
       "    <tr>\n",
       "      <th>91</th>\n",
       "      <td>borutoget.info</td>\n",
       "      <td>1</td>\n",
       "      <td>0</td>\n",
       "    </tr>\n",
       "    <tr>\n",
       "      <th>92</th>\n",
       "      <td>Unknown</td>\n",
       "      <td>7</td>\n",
       "      <td>0</td>\n",
       "    </tr>\n",
       "    <tr>\n",
       "      <th>93</th>\n",
       "      <td>Unknown</td>\n",
       "      <td>7</td>\n",
       "      <td>0</td>\n",
       "    </tr>\n",
       "    <tr>\n",
       "      <th>94</th>\n",
       "      <td>dramacity.se</td>\n",
       "      <td>5</td>\n",
       "      <td>0</td>\n",
       "    </tr>\n",
       "    <tr>\n",
       "      <th>95</th>\n",
       "      <td>kissasian.com</td>\n",
       "      <td>8</td>\n",
       "      <td>0</td>\n",
       "    </tr>\n",
       "    <tr>\n",
       "      <th>96</th>\n",
       "      <td>icdrama.se</td>\n",
       "      <td>5</td>\n",
       "      <td>0</td>\n",
       "    </tr>\n",
       "    <tr>\n",
       "      <th>97</th>\n",
       "      <td>woaikanxi.net</td>\n",
       "      <td>1</td>\n",
       "      <td>0</td>\n",
       "    </tr>\n",
       "    <tr>\n",
       "      <th>98</th>\n",
       "      <td>msn.com</td>\n",
       "      <td>4</td>\n",
       "      <td>0</td>\n",
       "    </tr>\n",
       "    <tr>\n",
       "      <th>99</th>\n",
       "      <td>wuxiaworld.com</td>\n",
       "      <td>3</td>\n",
       "      <td>0</td>\n",
       "    </tr>\n",
       "  </tbody>\n",
       "</table>\n",
       "<p>100 rows × 3 columns</p>\n",
       "</div>"
      ],
      "text/plain": [
       "                 domain  domgrps  response\n",
       "0          dramacity.se        5         0\n",
       "1          dramacity.se        5         0\n",
       "2         kissasian.com        8         0\n",
       "3            icdrama.se        5         0\n",
       "4         kissasian.com        8         0\n",
       "5   24livenewspaper.com        1         0\n",
       "6              ndtv.com        1         0\n",
       "7               msn.com        4         0\n",
       "8          dramacity.se        5         0\n",
       "9               Unknown        7         0\n",
       "10         gsmarena.com        1         0\n",
       "11           google.com        3         0\n",
       "12        kissasian.com        8         0\n",
       "13        kissasian.com        8         0\n",
       "14            90min.com        1         0\n",
       "15          toonova.net        1         0\n",
       "16     weekender.com.sg        1         0\n",
       "17        kissasian.com        8         0\n",
       "18         nzdating.com        1         0\n",
       "19          toonova.net        1         0\n",
       "20        kissasian.com        8         0\n",
       "21           icdrama.se        5         0\n",
       "22           hssszn.com        1         0\n",
       "23              Unknown        7         0\n",
       "24         kissanime.ru        3         0\n",
       "25              Unknown        7         0\n",
       "26              Unknown        7         0\n",
       "27         dramacity.se        5         0\n",
       "28              Unknown        7         0\n",
       "29        kissasian.com        8         0\n",
       "..                  ...      ...       ...\n",
       "70       wuxiaworld.com        3         0\n",
       "71            yahoo.com        1         0\n",
       "72               ask.fm        2         0\n",
       "73        kissasian.com        8         0\n",
       "74   tribalfootball.com        1         0\n",
       "75          wattpad.com        1         0\n",
       "76              msn.com        4         0\n",
       "77              Unknown        7         0\n",
       "78        kissasian.com        8         0\n",
       "79        kissasian.com        8         0\n",
       "80        kissasian.com        8         0\n",
       "81        kissasian.com        8         0\n",
       "82           icdrama.se        5         0\n",
       "83        express.co.uk        1         0\n",
       "84         gooddrama.to        1         0\n",
       "85         dramacity.se        5         0\n",
       "86           youdao.com        1         0\n",
       "87           icdrama.se        5         0\n",
       "88        mp4upload.com        2         0\n",
       "89               ask.fm        2         0\n",
       "90          cari.com.my        3         0\n",
       "91       borutoget.info        1         0\n",
       "92              Unknown        7         0\n",
       "93              Unknown        7         0\n",
       "94         dramacity.se        5         0\n",
       "95        kissasian.com        8         0\n",
       "96           icdrama.se        5         0\n",
       "97        woaikanxi.net        1         0\n",
       "98              msn.com        4         0\n",
       "99       wuxiaworld.com        3         0\n",
       "\n",
       "[100 rows x 3 columns]"
      ]
     },
     "execution_count": 93,
     "metadata": {},
     "output_type": "execute_result"
    }
   ],
   "source": [
    "dfsmall[['domain','domgrps','response']]"
   ]
  },
  {
   "cell_type": "code",
   "execution_count": 75,
   "metadata": {},
   "outputs": [
    {
     "data": {
      "text/plain": [
       "array(['google.com', nan, 'kissasian.com', 'dramacity.se',\n",
       "       'vppgamingnetwork.com', 'dramatvb.se', 'icdrama.se',\n",
       "       'business-solutions.us', 'baomoi.com', 'ondramanice.com',\n",
       "       'kissanime.ru', 'desitvbox.net', 'ondramacool.com', 'w3schools.com',\n",
       "       'layanon9.biz', 'yahoo.com', '24h.com.vn', 'terra.com.br',\n",
       "       'afamily.vn', 'woaikanxi.net', 'ikshow.net', 'roleplayrepublic.com',\n",
       "       'business-articles.net', 'binbox.io', 'starbounder.org',\n",
       "       'dantri.com.vn', 'infonet.vn', 'okezone.com',\n",
       "       'consolegameswiki.com', 'hoofoot.com', 'drama365.se',\n",
       "       'business-article.me', 'tekkenzaibatsu.com', 'tvarticles.me',\n",
       "       'thewindowsclub.com', 'goodanime.co', 'check4d.com', 'esohead.com',\n",
       "       'thesimsresource.com', 'msn.com', 'gsmarena.com', 'on9drama.com',\n",
       "       'lamchame.com', 'dittotv.com', 'myanimelist.net',\n",
       "       'freemalaysiatoday.com', 'wattpad.com', 'genfb.com',\n",
       "       'antaranews.com', 'malaysia-chronicle.com', 'informer.com',\n",
       "       'cari.com.my', '1layanon9.net', 'soompi.se', 'hotcopper.com.au',\n",
       "       'zing.vn', 'pasted.co', 'planetromeo.com', 'manatelugumovies.net',\n",
       "       'freevitathemes.com', 'lemonidolshow.com', 'viki.com', 'lamsao.com',\n",
       "       'bukancincai.org'], dtype=object)"
      ]
     },
     "execution_count": 75,
     "metadata": {},
     "output_type": "execute_result"
    }
   ],
   "source": [
    "df1 = df[(df.browser==0)]\n",
    "df2 = df[(df.browser==4)]\n",
    "\n",
    "df1['domain'].unique()"
   ]
  },
  {
   "cell_type": "code",
   "execution_count": 76,
   "metadata": {},
   "outputs": [
    {
     "data": {
      "text/plain": [
       "array(['wuxiaworld.com', nan, 'business-solutions.us',\n",
       "       'malaysia-chronicle.com', 'kissasian.com', 'msn.com', 'check4d.com',\n",
       "       'dailymail.co.uk', 'nextmedia.com', 'express.co.uk', 'icdrama.se',\n",
       "       'yahoo.com', 'desitvbox.net', 'angsarap.net', 'famousbirthdays.com',\n",
       "       '24livenewspaper.com', 'mydramalist.com', 'dramacity.se',\n",
       "       'kissanime.ru', 'bd-pratidin.com', 'cari.com.my', 'desirulez.me',\n",
       "       'newnation.sg', 'freemalaysiatoday.com', 'bukancincai.org',\n",
       "       'metro.co.uk'], dtype=object)"
      ]
     },
     "execution_count": 76,
     "metadata": {},
     "output_type": "execute_result"
    }
   ],
   "source": [
    "df2['domain'].unique()"
   ]
  },
  {
   "cell_type": "markdown",
   "metadata": {},
   "source": [
    "Browser values are not unique groups as some domain names overlap between the two browser groups. So what else?"
   ]
  },
  {
   "cell_type": "code",
   "execution_count": 232,
   "metadata": {},
   "outputs": [
    {
     "data": {
      "text/plain": [
       "(array([ 12719.,   6708.,   4277.,  10568.,  21928.,  24075.,  29258.,\n",
       "         32370.,  15368.,   2725.]),\n",
       " array([  0.,   2.,   4.,   6.,   8.,  10.,  12.,  14.,  16.,  18.,  20.]),\n",
       " <a list of 10 Patch objects>)"
      ]
     },
     "execution_count": 232,
     "metadata": {},
     "output_type": "execute_result"
    },
    {
     "data": {
      "image/png": "[encoded data removed]",
      "text/plain": [
       "<matplotlib.figure.Figure at 0x2bb14bae470>"
      ]
     },
     "metadata": {},
     "output_type": "display_data"
    }
   ],
   "source": [
    "df['user_hour'].sort_values().unique()\n",
    "plt.hist(df['user_hour'])"
   ]
  },
  {
   "cell_type": "code",
   "execution_count": 110,
   "metadata": {
    "collapsed": true
   },
   "outputs": [],
   "source": [
    "bkg= df[(df.response==0)]\n",
    "sig= df[(df.response==1)]"
   ]
  },
  {
   "cell_type": "code",
   "execution_count": 8,
   "metadata": {
    "scrolled": true
   },
   "outputs": [
    {
     "data": {
      "image/png": "[encoded data removed]",
      "text/plain": [
       "<matplotlib.figure.Figure at 0x2dfcaa1c470>"
      ]
     },
     "metadata": {},
     "output_type": "display_data"
    },
    {
     "data": {
      "image/png": "[encoded data removed]",
      "text/plain": [
       "<matplotlib.figure.Figure at 0x2dfca906198>"
      ]
     },
     "metadata": {},
     "output_type": "display_data"
    }
   ],
   "source": [
    "bkg['device_type'].value_counts().plot(kind='bar')\n",
    "plt.show()\n",
    "\n",
    "sig['device_type'].value_counts().plot(kind='bar')\n",
    "plt.show()"
   ]
  },
  {
   "cell_type": "code",
   "execution_count": 8,
   "metadata": {},
   "outputs": [
    {
     "name": "stdout",
     "output_type": "stream",
     "text": [
      "                        domain  user_hour  response  cph\n",
      "2365        thesportsdaily.com   0.000000         0  NaN\n",
      "385                cadceed.com   0.000000         0  NaN\n",
      "1969          reignofblood.net   0.000000         0  NaN\n",
      "419          carsalesindia.com   0.000000         0  NaN\n",
      "1581         moviemistakes.com   0.000000         0  NaN\n",
      "1955          readwestbrom.com   0.000000         0  NaN\n",
      "1954       readsouthampton.com   0.000000         0  NaN\n",
      "1624             myrapname.com   0.000000         0  NaN\n",
      "1215               issuein.com   0.000000         0  NaN\n",
      "2137           smackjeeves.com   0.000000         0  NaN\n",
      "826              flagworld.com   0.000000         0  NaN\n",
      "47            abiturients.info   0.000000         0  NaN\n",
      "1900           prohunters.info   0.000000         0  NaN\n",
      "629           directexpose.com   0.000000         0  NaN\n",
      "890               ft86club.com   0.000000         0  NaN\n",
      "1403        littlebitfunky.com   0.000000         0  NaN\n",
      "1063               have8tv.com   0.000000         0  NaN\n",
      "305                bintang.com   0.000000         0  NaN\n",
      "2314      theastrologyroom.com   0.000000         0  NaN\n",
      "2184                sportal.bg   0.000000         0  NaN\n",
      "1272              kangchin.com   0.000000         0  NaN\n",
      "978      gods-and-monsters.com   0.000000         0  NaN\n",
      "1248         journaldugeek.com   0.000000         0  NaN\n",
      "1469         managerleague.com   0.000000         0  NaN\n",
      "152     architectureideas.info   0.000000         0  NaN\n",
      "2414    tournamentsoftware.com   0.000000         0  NaN\n",
      "988                goliath.com   0.000000         0  NaN\n",
      "882        freestockcharts.com   0.500000         0  0.0\n",
      "1361               lbcgroup.tv   0.500000         0  0.0\n",
      "2034              satakore.com   1.000000         0  0.0\n",
      "...                        ...        ...       ...  ...\n",
      "603                  dek-d.com  16.000000         0  0.0\n",
      "1971      removeandreplace.com  16.000000         0  0.0\n",
      "1719          oantagonista.com  16.000000         0  0.0\n",
      "684             dreamscene.org  16.000000         0  0.0\n",
      "1252                jprail.com  16.000000         0  0.0\n",
      "672              dramaindo.org  16.000000         0  0.0\n",
      "664                drama3s.com  16.000000         0  0.0\n",
      "1263                 k-vid.net  16.000000         0  0.0\n",
      "1704        notable-quotes.com  16.000000         0  0.0\n",
      "2462                twtd.co.uk  16.000000         0  0.0\n",
      "1973               reporter.gr  16.000000         0  0.0\n",
      "1700            nontonanime.id  16.000000         0  0.0\n",
      "1519               mfmradio.fr  16.000000         0  0.0\n",
      "2577              watchtvb.com  16.000000         0  0.0\n",
      "1944     raspberrypi-spy.co.uk  16.000000         0  0.0\n",
      "1044                 gyazo.com  16.500000         0  0.0\n",
      "237   banglawashcricket.com.bd  16.500000         0  0.0\n",
      "1776            pagebook.co.kr  16.666667         0  0.0\n",
      "231           banglanews24.com  16.750000         0  0.0\n",
      "109                anifans.net  17.000000         0  0.0\n",
      "1495     mattersofthebelly.com  17.000000         0  0.0\n",
      "2103              simbonus.com  17.000000         0  0.0\n",
      "1286             khaosod.co.th  17.000000         0  0.0\n",
      "1569             moonastro.com  17.333333         0  0.0\n",
      "1586               mp3wifi.com  18.000000         0  0.0\n",
      "1370             lebahndut.net  18.000000         0  0.0\n",
      "2548                    wap.vn  18.000000         0  0.0\n",
      "2631          world-fusigi.net  18.000000         0  0.0\n",
      "1406              live4d2u.com  19.000000         0  0.0\n",
      "1688             nineanime.com  19.000000         0  0.0\n",
      "\n",
      "[2698 rows x 4 columns]\n",
      "                      domain  user_hour  response        cph\n",
      "2392        timesofindia.com  13.945946         1   0.071705\n",
      "2469        ukulele-tabs.com  13.400000         1   0.074627\n",
      "269      belloflostsouls.net  13.000000         1   0.076923\n",
      "353                break.com  12.300000         1   0.081301\n",
      "901             fusionbd.com  12.076923         1   0.082803\n",
      "1463     malaysianreview.com  11.597222         1   0.086228\n",
      "909          gadgethacks.com  11.446602         1   0.087362\n",
      "1337          lady-first.net  11.422330         1   0.087548\n",
      "1473        mangatraders.biz  11.300000         1   0.088496\n",
      "1444          lyricsmode.com  11.165154         1   0.089564\n",
      "764     essentialbaby.com.au  11.058824         1   0.090426\n",
      "1793               pasted.co  11.000000         1   0.090909\n",
      "670           dramagalaxy.tv  10.157205         1   0.098452\n",
      "1856         planetromeo.com  10.145540         1   0.098565\n",
      "1642  nationalgeographic.com   9.738806         1   0.102682\n",
      "1277             kdramax.com   9.600000         1   0.104167\n",
      "127            animetoon.org   9.592593         1   0.104247\n",
      "2257         talkenglish.com   8.000000         1   0.125000\n",
      "541              craftsy.com   8.000000         1   0.125000\n",
      "1387           lifedaily.com  14.654804         2   0.136474\n",
      "1687             nine.com.au  13.827160         2   0.144643\n",
      "1026            gsmarena.com  12.784810         2   0.156436\n",
      "579     dailysuperheroes.com  11.735129         2   0.170428\n",
      "9              1layanon9.net  11.720000         2   0.170648\n",
      "1007     gossiplankanews.com  11.566845         2   0.172908\n",
      "675             dramaload.se  11.306667         2   0.176887\n",
      "2452           tvarticles.me  11.266811         2   0.177513\n",
      "783            express.co.uk  11.151013         2   0.179356\n",
      "1309             komikid.com  11.133333         2   0.179641\n",
      "2671             yodrama.com  10.600000         2   0.188679\n",
      "...                      ...        ...       ...        ...\n",
      "1731         ondramanice.com  10.594937        21   1.982079\n",
      "1460  malaysia-chronicle.com  12.279646        53   4.316085\n",
      "1299           kissasian.com   9.499907       117  12.315910\n",
      "2365      thesportsdaily.com   0.000000         0        NaN\n",
      "385              cadceed.com   0.000000         0        NaN\n",
      "1969        reignofblood.net   0.000000         0        NaN\n",
      "419        carsalesindia.com   0.000000         0        NaN\n",
      "1581       moviemistakes.com   0.000000         0        NaN\n",
      "1955        readwestbrom.com   0.000000         0        NaN\n",
      "1954     readsouthampton.com   0.000000         0        NaN\n",
      "1624           myrapname.com   0.000000         0        NaN\n",
      "1215             issuein.com   0.000000         0        NaN\n",
      "2137         smackjeeves.com   0.000000         0        NaN\n",
      "826            flagworld.com   0.000000         0        NaN\n",
      "47          abiturients.info   0.000000         0        NaN\n",
      "1900         prohunters.info   0.000000         0        NaN\n",
      "629         directexpose.com   0.000000         0        NaN\n",
      "890             ft86club.com   0.000000         0        NaN\n",
      "1403      littlebitfunky.com   0.000000         0        NaN\n",
      "1063             have8tv.com   0.000000         0        NaN\n",
      "305              bintang.com   0.000000         0        NaN\n",
      "2314    theastrologyroom.com   0.000000         0        NaN\n",
      "2184              sportal.bg   0.000000         0        NaN\n",
      "1272            kangchin.com   0.000000         0        NaN\n",
      "978    gods-and-monsters.com   0.000000         0        NaN\n",
      "1248       journaldugeek.com   0.000000         0        NaN\n",
      "1469       managerleague.com   0.000000         0        NaN\n",
      "152   architectureideas.info   0.000000         0        NaN\n",
      "2414  tournamentsoftware.com   0.000000         0        NaN\n",
      "988              goliath.com   0.000000         0        NaN\n",
      "\n",
      "[93 rows x 4 columns]\n"
     ]
    }
   ],
   "source": [
    "import matplotlib.pyplot as plt\n",
    "% matplotlib inline\n",
    "df1 = df[['domain','browser','device_type','device_model','user_hour','response']]\n",
    "\n",
    "grouped = df1.groupby(['domain'],as_index=False).agg({'user_hour':np.mean,'response':np.sum}).sort_values(by='user_hour')\n",
    "\n",
    "#Number of clicks per average user hour\n",
    "grouped2 = grouped.assign(cph=grouped['response']/grouped['user_hour'])\n",
    "\n",
    "print(grouped2)\n",
    "\n",
    "grouped2 = grouped2[grouped2['cph']!=0.0].sort_values(by='cph')\n",
    "print(grouped2)\n",
    "\n",
    "#Tag the domains with total response/#Mean user hour\n",
    "#Domains with zero response are given a number 0 and so on, make 10 categories of domains.\n",
    "#grouped[['user_hour','response']]\n",
    "\n"
   ]
  },
  {
   "cell_type": "code",
   "execution_count": 112,
   "metadata": {},
   "outputs": [
    {
     "data": {
      "image/png": "[encoded data removed]",
      "text/plain": [
       "<matplotlib.figure.Figure at 0x222848b40f0>"
      ]
     },
     "metadata": {},
     "output_type": "display_data"
    },
    {
     "data": {
      "image/png": "[encoded data removed]",
      "text/plain": [
       "<matplotlib.figure.Figure at 0x2228145a0b8>"
      ]
     },
     "metadata": {},
     "output_type": "display_data"
    },
    {
     "data": {
      "image/png": "[encoded data removed]",
      "text/plain": [
       "<matplotlib.figure.Figure at 0x2229fcfcb70>"
      ]
     },
     "metadata": {},
     "output_type": "display_data"
    }
   ],
   "source": [
    "plt.hist(sig['device_model'])\n",
    "plt.show()\n",
    "plt.hist(bkg['device_model'])\n",
    "plt.show()\n",
    "plt.scatter(df['device_model'],df['response'])\n",
    "plt.show()"
   ]
  },
  {
   "cell_type": "code",
   "execution_count": null,
   "metadata": {
    "collapsed": true
   },
   "outputs": [],
   "source": [
    "plt.hist(df['device_model'])\n",
    "plt.show()\n",
    "plt.scatter(df['device_model'],df['response'])\n",
    "plt.show()"
   ]
  },
  {
   "cell_type": "code",
   "execution_count": 108,
   "metadata": {},
   "outputs": [
    {
     "data": {
      "image/png": "[encoded data removed]",
      "text/plain": [
       "<matplotlib.figure.Figure at 0x222fa453630>"
      ]
     },
     "metadata": {},
     "output_type": "display_data"
    },
    {
     "data": {
      "image/png": "[encoded data removed]",
      "text/plain": [
       "<matplotlib.figure.Figure at 0x2229fd4a780>"
      ]
     },
     "metadata": {},
     "output_type": "display_data"
    },
    {
     "data": {
      "image/png": "[encoded data removed]",
      "text/plain": [
       "<matplotlib.figure.Figure at 0x222842367b8>"
      ]
     },
     "metadata": {},
     "output_type": "display_data"
    }
   ],
   "source": [
    "var='supply_type'\n",
    "plt.hist(df[var][df['response']==0])\n",
    "plt.show()\n",
    "plt.hist(df[var][df['response']==1])\n",
    "plt.show()\n",
    "plt.scatter(df[var],df['response'])\n",
    "plt.show()"
   ]
  },
  {
   "cell_type": "code",
   "execution_count": 212,
   "metadata": {},
   "outputs": [
    {
     "name": "stdout",
     "output_type": "stream",
     "text": [
      "[0.71705426356589153, 0.74626865671641784, 0.76923076923076927, 0.81300813008130079, 0.8280254777070063, 0.86227544910179643, 0.87362171331636973, 0.87547811304717382, 0.88495575221238942, 0.89564369310793235, 0.9042553191489362, 0.90909090909090917, 0.98452278589853826, 0.98565478944932905, 1.0268199233716473, 1.0416666666666667, 1.0424710424710424, 1.25, 1.3647401651287034, 1.4464285714285716, 1.5643564356435644, 1.7042846212700842, 1.7064846416382251, 1.7290799815071662, 1.7688679245283017, 1.7751251443973814, 1.7935590421139556, 1.7964071856287425, 1.8867924528301887, 2.0112061338838103, 2.0122399020807831, 2.0253164556962027, 2.1355932203389831, 2.1444847666469742, 2.3521850899742933, 2.3561395559583147, 2.4260496183206106, 2.4693140794223827, 2.5, 2.5806451612903225, 2.8163900414937757, 3.087248322147651, 3.4441489361702127, 3.4795879435330028, 3.945111492281304, 4.3021914648212221, 4.6957403651115621, 4.9298156604092673, 6.1370667089712061, 6.6525423728813564, 7.6147540983606552, 7.7336360196746128, 8.7197797536881225, 8.9016511127063893, 9.1209200193531572, 9.4158018078339474, 13.033329010504474, 13.223781998348475, 14.089553506044171, 14.75601821730644, 15.647482014388491, 17.467714766984837, 19.820788530465951, 43.16085327183626, 123.15910147085995]\n"
     ]
    },
    {
     "data": {
      "text/plain": [
       "(array([ 64.,   1.,   0.,   0.,   1.]),\n",
       " array([   0.71705426,   25.20546371,   49.69387315,   74.18228259,\n",
       "          98.67069203,  123.15910147]),\n",
       " <a list of 5 Patch objects>)"
      ]
     },
     "execution_count": 212,
     "metadata": {},
     "output_type": "execute_result"
    },
    {
     "data": {
      "image/png": "[encoded data removed]",
      "text/plain": [
       "<matplotlib.figure.Figure at 0x2bb153a6cc0>"
      ]
     },
     "metadata": {},
     "output_type": "display_data"
    }
   ],
   "source": [
    "rate = grouped['response']/grouped['user_hour']*10\n",
    "rate.dropna(inplace=True)\n",
    "rate = rate[rate!=0]\n",
    "\n",
    "print(sorted(rate.unique()))\n",
    "plt.plot(rate)\n",
    "plt.hist(rate,bins=5)"
   ]
  },
  {
   "cell_type": "markdown",
   "metadata": {},
   "source": [
    "Now drop the response and domain features in the data and form a new dataset df_features."
   ]
  },
  {
   "cell_type": "markdown",
   "metadata": {},
   "source": []
  },
  {
   "cell_type": "code",
   "execution_count": 163,
   "metadata": {},
   "outputs": [
    {
     "name": "stdout",
     "output_type": "stream",
     "text": [
      "[  8.87403479e-01   1.08367262e-01   1.77345733e-03   1.47132921e-03\n",
      "   5.59807136e-04   2.73088028e-04   3.34511081e-05   3.26139618e-05\n",
      "   2.84900429e-05   2.35103440e-05]\n",
      "[ 45099.54579754  15760.16121614   2016.14598937   1836.39682673\n",
      "   1132.74152033    791.15747499    276.8961128     273.40936364\n",
      "    255.53956811    232.13525175]\n"
     ]
    }
   ],
   "source": [
    "from sklearn.decomposition import PCA\n",
    "pca = PCA(n_components=10)\n",
    "pca.fit(df2)\n",
    "print(pca.explained_variance_ratio_)  \n",
    "print(pca.singular_values_)  \n"
   ]
  },
  {
   "cell_type": "code",
   "execution_count": 152,
   "metadata": {},
   "outputs": [
    {
     "name": "stdout",
     "output_type": "stream",
     "text": [
      "Warning: Maximum number of iterations has been exceeded.\n",
      "         Current function value: 0.027709\n",
      "         Iterations: 35\n"
     ]
    },
    {
     "name": "stderr",
     "output_type": "stream",
     "text": [
      "C:\\ProgramData\\Anaconda3\\lib\\site-packages\\statsmodels\\base\\model.py:496: ConvergenceWarning: Maximum Likelihood optimization failed to converge. Check mle_retvals\n",
      "  \"Check mle_retvals\", ConvergenceWarning)\n"
     ]
    },
    {
     "data": {
      "text/html": [
       "<table class=\"simpletable\">\n",
       "<caption>Logit Regression Results</caption>\n",
       "<tr>\n",
       "  <th>Dep. Variable:</th>     <td>response</td>     <th>  No. Observations:  </th>  <td>159996</td>  \n",
       "</tr>\n",
       "<tr>\n",
       "  <th>Model:</th>               <td>Logit</td>      <th>  Df Residuals:      </th>  <td>159977</td>  \n",
       "</tr>\n",
       "<tr>\n",
       "  <th>Method:</th>               <td>MLE</td>       <th>  Df Model:          </th>  <td>    18</td>  \n",
       "</tr>\n",
       "<tr>\n",
       "  <th>Date:</th>          <td>Tue, 30 Jan 2018</td> <th>  Pseudo R-squ.:     </th>  <td>0.04484</td> \n",
       "</tr>\n",
       "<tr>\n",
       "  <th>Time:</th>              <td>21:09:18</td>     <th>  Log-Likelihood:    </th> <td> -4433.3</td> \n",
       "</tr>\n",
       "<tr>\n",
       "  <th>converged:</th>           <td>False</td>      <th>  LL-Null:           </th> <td> -4641.4</td> \n",
       "</tr>\n",
       "<tr>\n",
       "  <th> </th>                      <td> </td>        <th>  LLR p-value:       </th> <td>3.739e-77</td>\n",
       "</tr>\n",
       "</table>\n",
       "<table class=\"simpletable\">\n",
       "<tr>\n",
       "       <td></td>          <th>coef</th>     <th>std err</th>      <th>z</th>      <th>P>|z|</th>  <th>[0.025</th>    <th>0.975]</th>  \n",
       "</tr>\n",
       "<tr>\n",
       "  <th>position</th>    <td>   -0.4007</td> <td>    0.123</td> <td>   -3.261</td> <td> 0.001</td> <td>   -0.642</td> <td>   -0.160</td>\n",
       "</tr>\n",
       "<tr>\n",
       "  <th>browser</th>     <td>   -0.0020</td> <td>    0.008</td> <td>   -0.247</td> <td> 0.805</td> <td>   -0.018</td> <td>    0.014</td>\n",
       "</tr>\n",
       "<tr>\n",
       "  <th>carrier</th>     <td>    0.0001</td> <td>    0.000</td> <td>    0.315</td> <td> 0.753</td> <td>   -0.001</td> <td>    0.001</td>\n",
       "</tr>\n",
       "<tr>\n",
       "  <th>supply_type</th> <td>    0.7545</td> <td>    0.073</td> <td>   10.363</td> <td> 0.000</td> <td>    0.612</td> <td>    0.897</td>\n",
       "</tr>\n",
       "<tr>\n",
       "  <th>language</th>    <td>   -0.0105</td> <td>    0.017</td> <td>   -0.627</td> <td> 0.531</td> <td>   -0.043</td> <td>    0.022</td>\n",
       "</tr>\n",
       "<tr>\n",
       "  <th>region</th>      <td>    0.0724</td> <td>    0.049</td> <td>    1.489</td> <td> 0.137</td> <td>   -0.023</td> <td>    0.168</td>\n",
       "</tr>\n",
       "<tr>\n",
       "  <th>os_extended</th> <td>   -0.0028</td> <td>    0.001</td> <td>   -2.944</td> <td> 0.003</td> <td>   -0.005</td> <td>   -0.001</td>\n",
       "</tr>\n",
       "<tr>\n",
       "  <th>user_day</th>    <td>    0.1160</td> <td>    0.022</td> <td>    5.312</td> <td> 0.000</td> <td>    0.073</td> <td>    0.159</td>\n",
       "</tr>\n",
       "<tr>\n",
       "  <th>user_hour</th>   <td>    0.0184</td> <td>    0.008</td> <td>    2.303</td> <td> 0.021</td> <td>    0.003</td> <td>    0.034</td>\n",
       "</tr>\n",
       "<tr>\n",
       "  <th>device1</th>     <td>    0.8901</td> <td>    1.012</td> <td>    0.879</td> <td> 0.379</td> <td>   -1.093</td> <td>    2.874</td>\n",
       "</tr>\n",
       "<tr>\n",
       "  <th>device2</th>     <td>    1.3926</td> <td>    1.014</td> <td>    1.373</td> <td> 0.170</td> <td>   -0.596</td> <td>    3.381</td>\n",
       "</tr>\n",
       "<tr>\n",
       "  <th>device3</th>     <td>  -26.6788</td> <td> 7.52e+05</td> <td>-3.55e-05</td> <td> 1.000</td> <td>-1.47e+06</td> <td> 1.47e+06</td>\n",
       "</tr>\n",
       "<tr>\n",
       "  <th>device4</th>     <td>    0.5519</td> <td>    1.023</td> <td>    0.539</td> <td> 0.590</td> <td>   -1.454</td> <td>    2.558</td>\n",
       "</tr>\n",
       "<tr>\n",
       "  <th>device5</th>     <td>   -0.7784</td> <td>    1.120</td> <td>   -0.695</td> <td> 0.487</td> <td>   -2.973</td> <td>    1.416</td>\n",
       "</tr>\n",
       "<tr>\n",
       "  <th>size1</th>       <td>   -0.9674</td> <td>    0.242</td> <td>   -3.999</td> <td> 0.000</td> <td>   -1.442</td> <td>   -0.493</td>\n",
       "</tr>\n",
       "<tr>\n",
       "  <th>size2</th>       <td>   -1.6282</td> <td>    0.735</td> <td>   -2.214</td> <td> 0.027</td> <td>   -3.070</td> <td>   -0.187</td>\n",
       "</tr>\n",
       "<tr>\n",
       "  <th>size3</th>       <td>   -1.0252</td> <td>    0.243</td> <td>   -4.215</td> <td> 0.000</td> <td>   -1.502</td> <td>   -0.548</td>\n",
       "</tr>\n",
       "<tr>\n",
       "  <th>size4</th>       <td>   -1.5233</td> <td>    0.306</td> <td>   -4.986</td> <td> 0.000</td> <td>   -2.122</td> <td>   -0.924</td>\n",
       "</tr>\n",
       "<tr>\n",
       "  <th>intercept</th>   <td>   -6.3860</td> <td>    1.033</td> <td>   -6.183</td> <td> 0.000</td> <td>   -8.410</td> <td>   -4.362</td>\n",
       "</tr>\n",
       "</table>"
      ],
      "text/plain": [
       "<class 'statsmodels.iolib.summary.Summary'>\n",
       "\"\"\"\n",
       "                           Logit Regression Results                           \n",
       "==============================================================================\n",
       "Dep. Variable:               response   No. Observations:               159996\n",
       "Model:                          Logit   Df Residuals:                   159977\n",
       "Method:                           MLE   Df Model:                           18\n",
       "Date:                Tue, 30 Jan 2018   Pseudo R-squ.:                 0.04484\n",
       "Time:                        21:09:18   Log-Likelihood:                -4433.3\n",
       "converged:                      False   LL-Null:                       -4641.4\n",
       "                                        LLR p-value:                 3.739e-77\n",
       "===============================================================================\n",
       "                  coef    std err          z      P>|z|      [0.025      0.975]\n",
       "-------------------------------------------------------------------------------\n",
       "position       -0.4007      0.123     -3.261      0.001      -0.642      -0.160\n",
       "browser        -0.0020      0.008     -0.247      0.805      -0.018       0.014\n",
       "carrier         0.0001      0.000      0.315      0.753      -0.001       0.001\n",
       "supply_type     0.7545      0.073     10.363      0.000       0.612       0.897\n",
       "language       -0.0105      0.017     -0.627      0.531      -0.043       0.022\n",
       "region          0.0724      0.049      1.489      0.137      -0.023       0.168\n",
       "os_extended    -0.0028      0.001     -2.944      0.003      -0.005      -0.001\n",
       "user_day        0.1160      0.022      5.312      0.000       0.073       0.159\n",
       "user_hour       0.0184      0.008      2.303      0.021       0.003       0.034\n",
       "device1         0.8901      1.012      0.879      0.379      -1.093       2.874\n",
       "device2         1.3926      1.014      1.373      0.170      -0.596       3.381\n",
       "device3       -26.6788   7.52e+05  -3.55e-05      1.000   -1.47e+06    1.47e+06\n",
       "device4         0.5519      1.023      0.539      0.590      -1.454       2.558\n",
       "device5        -0.7784      1.120     -0.695      0.487      -2.973       1.416\n",
       "size1          -0.9674      0.242     -3.999      0.000      -1.442      -0.493\n",
       "size2          -1.6282      0.735     -2.214      0.027      -3.070      -0.187\n",
       "size3          -1.0252      0.243     -4.215      0.000      -1.502      -0.548\n",
       "size4          -1.5233      0.306     -4.986      0.000      -2.122      -0.924\n",
       "intercept      -6.3860      1.033     -6.183      0.000      -8.410      -4.362\n",
       "===============================================================================\n",
       "\"\"\""
      ]
     },
     "execution_count": 152,
     "metadata": {},
     "output_type": "execute_result"
    }
   ],
   "source": [
    "#df2 = df2.drop('intercept',1)\n",
    "\n",
    "#ind = len(df2.columns)\n",
    "#print(ind)\n",
    "#df2.insert(ind,'intercept',1)\n",
    "df2 = df2.drop(['device0','size0'],1)\n",
    "df2.head()\n",
    "logit_mod = sm.Logit(df['response'], df2[df2.columns])\n",
    "results = logit_mod.fit()\n",
    "results.summary()"
   ]
  },
  {
   "cell_type": "code",
   "execution_count": 179,
   "metadata": {},
   "outputs": [
    {
     "data": {
      "text/plain": [
       "LogisticRegression(C=1.0, class_weight=None, dual=False, fit_intercept=True,\n",
       "          intercept_scaling=1, max_iter=100, multi_class='ovr', n_jobs=1,\n",
       "          penalty='l2', random_state=None, solver='liblinear', tol=0.0001,\n",
       "          verbose=0, warm_start=False)"
      ]
     },
     "execution_count": 179,
     "metadata": {},
     "output_type": "execute_result"
    }
   ],
   "source": [
    "log_mod = LogisticRegression()\n",
    "log_mod.fit(X_train, y_train)"
   ]
  },
  {
   "cell_type": "code",
   "execution_count": null,
   "metadata": {
    "collapsed": true
   },
   "outputs": [],
   "source": [
    "preds = log_mod.predict(X_test)\n",
    "confusion_matrix(y_test, preds)"
   ]
  },
  {
   "cell_type": "code",
   "execution_count": 173,
   "metadata": {},
   "outputs": [
    {
     "name": "stderr",
     "output_type": "stream",
     "text": [
      "C:\\ProgramData\\Anaconda3\\lib\\site-packages\\sklearn\\metrics\\classification.py:1135: UndefinedMetricWarning: Precision is ill-defined and being set to 0.0 due to no predicted samples.\n",
      "  'precision', 'predicted', average, warn_for)\n"
     ]
    },
    {
     "data": {
      "text/plain": [
       "0.0"
      ]
     },
     "execution_count": 173,
     "metadata": {},
     "output_type": "execute_result"
    }
   ],
   "source": [
    "precision_score(y_test, preds) "
   ]
  },
  {
   "cell_type": "code",
   "execution_count": 174,
   "metadata": {},
   "outputs": [
    {
     "data": {
      "text/plain": [
       "0.0"
      ]
     },
     "execution_count": 174,
     "metadata": {},
     "output_type": "execute_result"
    }
   ],
   "source": [
    "recall_score(y_test, preds)"
   ]
  },
  {
   "cell_type": "code",
   "execution_count": 175,
   "metadata": {},
   "outputs": [
    {
     "data": {
      "text/plain": [
       "0.99515624999999996"
      ]
     },
     "execution_count": 175,
     "metadata": {},
     "output_type": "execute_result"
    }
   ],
   "source": [
    "accuracy_score(y_test,preds)"
   ]
  }
 ],
 "metadata": {
  "kernelspec": {
   "display_name": "Python 3",
   "language": "python",
   "name": "python3"
  },
  "language_info": {
   "codemirror_mode": {
    "name": "ipython",
    "version": 3
   },
   "file_extension": ".py",
   "mimetype": "text/x-python",
   "name": "python",
   "nbconvert_exporter": "python",
   "pygments_lexer": "ipython3",
   "version": "3.6.2"
  }
 },
 "nbformat": 4,
 "nbformat_minor": 2
}
