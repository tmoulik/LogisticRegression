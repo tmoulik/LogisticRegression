{
 "cells": [
  {
   "cell_type": "markdown",
   "metadata": {},
   "source": [
    "### Fitting Logistic Regression\n",
    "\n",
    "In this first notebook, you will be fitting a logistic regression model to a dataset where we would like to predict if a transaction is fraud or not.\n",
    "\n",
    "To get started let's read in the libraries and take a quick look at the dataset."
   ]
  },
  {
   "cell_type": "code",
   "execution_count": 874,
   "metadata": {
    "collapsed": true
   },
   "outputs": [],
   "source": [
    "import numpy as np\n",
    "import pandas as pd\n",
    "import statsmodels.api as sm\n",
    "from sklearn.linear_model import LogisticRegression\n",
    "from sklearn import preprocessing\n",
    "import matplotlib.pyplot as plt\n",
    "import array"
   ]
  },
  {
   "cell_type": "code",
   "execution_count": 882,
   "metadata": {},
   "outputs": [
    {
     "name": "stdout",
     "output_type": "stream",
     "text": [
      "726\n",
      "1677\n",
      "2403\n"
     ]
    }
   ],
   "source": [
    "df = pd.read_csv('./data/xaxis/train.csv')\n",
    "df_test = pd.read_csv('./data/xaxis/test.csv')\n",
    "#Look for duplicated rows and drop them\n",
    "#df = df.drop_duplicates()\n",
    "\n",
    "#Some websites are NaN so dropping these\n",
    "#df.dropna(inplace=True)\n",
    "df['domain'].fillna('Unknown',inplace=True)\n",
    "\n",
    "#Since the carrier value is mostly 0, use that to undersample the background. To make\n",
    "# the background about 2*sig, reduce it to 8% of current sample\n",
    "df0 = df[(df['response']==0) & (df['carrier'])==0]\n",
    "df1 = df[df['response']==1]\n",
    "print(len(df1))\n",
    "df0 = df0.sample(frac=0.08)\n",
    "print(len(df0))\n",
    "df = pd.concat([df0,df1])\n",
    "print(len(df))\n",
    "\n"
   ]
  },
  {
   "cell_type": "code",
   "execution_count": 883,
   "metadata": {},
   "outputs": [
    {
     "name": "stdout",
     "output_type": "stream",
     "text": [
      "0.4870049504950495\n"
     ]
    }
   ],
   "source": [
    "#Get Some info about df\n",
    "Nsig=len(df[df['response']==1].index)\n",
    "Nbkg=len(df[df['response']==0].index)\n",
    "ratio=Nsig/Nbkg\n",
    "print(ratio)"
   ]
  },
  {
   "cell_type": "markdown",
   "metadata": {},
   "source": [
    "5% of the sample has a response =1. Hence, this is an unbalanced sample. I would choose to use LogisticRegression or RandomForestClassifier, as these are known to perform well and reduce false negatives"
   ]
  },
  {
   "cell_type": "code",
   "execution_count": 884,
   "metadata": {
    "collapsed": true
   },
   "outputs": [],
   "source": [
    "savehrs = np.array(df['user_hour'])"
   ]
  },
  {
   "cell_type": "code",
   "execution_count": 885,
   "metadata": {},
   "outputs": [
    {
     "name": "stderr",
     "output_type": "stream",
     "text": [
      "C:\\ProgramData\\Anaconda3\\lib\\site-packages\\ipykernel_launcher.py:1: SettingWithCopyWarning: \n",
      "A value is trying to be set on a copy of a slice from a DataFrame\n",
      "\n",
      "See the caveats in the documentation: http://pandas.pydata.org/pandas-docs/stable/indexing.html#indexing-view-versus-copy\n",
      "  \"\"\"Entry point for launching an IPython kernel.\n"
     ]
    }
   ],
   "source": [
    "df['user_hour'][df['user_hour']>0]=1"
   ]
  },
  {
   "cell_type": "code",
   "execution_count": 886,
   "metadata": {},
   "outputs": [
    {
     "data": {
      "text/html": [
       "<div>\n",
       "<style>\n",
       "    .dataframe thead tr:only-child th {\n",
       "        text-align: right;\n",
       "    }\n",
       "\n",
       "    .dataframe thead th {\n",
       "        text-align: left;\n",
       "    }\n",
       "\n",
       "    .dataframe tbody tr th {\n",
       "        vertical-align: top;\n",
       "    }\n",
       "</style>\n",
       "<table border=\"1\" class=\"dataframe\">\n",
       "  <thead>\n",
       "    <tr style=\"text-align: right;\">\n",
       "      <th></th>\n",
       "      <th>domain</th>\n",
       "      <th>user_day</th>\n",
       "      <th>user_hour</th>\n",
       "      <th>response</th>\n",
       "      <th>ctr</th>\n",
       "    </tr>\n",
       "  </thead>\n",
       "  <tbody>\n",
       "    <tr>\n",
       "      <th>262</th>\n",
       "      <td>lachainemeteo.com</td>\n",
       "      <td>1</td>\n",
       "      <td>1</td>\n",
       "      <td>0</td>\n",
       "      <td>0.0</td>\n",
       "    </tr>\n",
       "    <tr>\n",
       "      <th>337</th>\n",
       "      <td>mopub.com</td>\n",
       "      <td>4</td>\n",
       "      <td>4</td>\n",
       "      <td>0</td>\n",
       "      <td>0.0</td>\n",
       "    </tr>\n",
       "    <tr>\n",
       "      <th>332</th>\n",
       "      <td>mojim.com</td>\n",
       "      <td>6</td>\n",
       "      <td>1</td>\n",
       "      <td>0</td>\n",
       "      <td>0.0</td>\n",
       "    </tr>\n",
       "    <tr>\n",
       "      <th>331</th>\n",
       "      <td>modifikasi.com</td>\n",
       "      <td>4</td>\n",
       "      <td>1</td>\n",
       "      <td>0</td>\n",
       "      <td>0.0</td>\n",
       "    </tr>\n",
       "    <tr>\n",
       "      <th>330</th>\n",
       "      <td>mobile01.com</td>\n",
       "      <td>1</td>\n",
       "      <td>1</td>\n",
       "      <td>0</td>\n",
       "      <td>0.0</td>\n",
       "    </tr>\n",
       "  </tbody>\n",
       "</table>\n",
       "</div>"
      ],
      "text/plain": [
       "                domain  user_day  user_hour  response  ctr\n",
       "262  lachainemeteo.com         1          1         0  0.0\n",
       "337          mopub.com         4          4         0  0.0\n",
       "332          mojim.com         6          1         0  0.0\n",
       "331     modifikasi.com         4          1         0  0.0\n",
       "330       mobile01.com         1          1         0  0.0"
      ]
     },
     "execution_count": 886,
     "metadata": {},
     "output_type": "execute_result"
    }
   ],
   "source": [
    "#Group websites according to click through rate per user_day\n",
    "grouped = df.groupby(['domain','user_day'],as_index=False).agg({'user_hour':np.sum,'response':np.sum}).sort_values(by='response')\n",
    "grouped['ctr']=grouped['response']/grouped['user_hour']\n",
    "grouped.head()"
   ]
  },
  {
   "cell_type": "code",
   "execution_count": 887,
   "metadata": {},
   "outputs": [
    {
     "data": {
      "text/html": [
       "<div>\n",
       "<style>\n",
       "    .dataframe thead tr:only-child th {\n",
       "        text-align: right;\n",
       "    }\n",
       "\n",
       "    .dataframe thead th {\n",
       "        text-align: left;\n",
       "    }\n",
       "\n",
       "    .dataframe tbody tr th {\n",
       "        vertical-align: top;\n",
       "    }\n",
       "</style>\n",
       "<table border=\"1\" class=\"dataframe\">\n",
       "  <thead>\n",
       "    <tr style=\"text-align: right;\">\n",
       "      <th></th>\n",
       "      <th>placement</th>\n",
       "      <th>position</th>\n",
       "      <th>browser</th>\n",
       "      <th>carrier</th>\n",
       "      <th>domain</th>\n",
       "      <th>supply_type</th>\n",
       "      <th>language</th>\n",
       "      <th>region</th>\n",
       "      <th>os_extended</th>\n",
       "      <th>publisher</th>\n",
       "      <th>device_model</th>\n",
       "      <th>device_type</th>\n",
       "      <th>user_day</th>\n",
       "      <th>user_hour</th>\n",
       "      <th>size</th>\n",
       "      <th>response</th>\n",
       "      <th>domctr</th>\n",
       "    </tr>\n",
       "  </thead>\n",
       "  <tbody>\n",
       "    <tr>\n",
       "      <th>36601</th>\n",
       "      <td>11238056</td>\n",
       "      <td>0</td>\n",
       "      <td>14</td>\n",
       "      <td>282</td>\n",
       "      <td>Unknown</td>\n",
       "      <td>2</td>\n",
       "      <td>1</td>\n",
       "      <td>0</td>\n",
       "      <td>46</td>\n",
       "      <td>995228</td>\n",
       "      <td>12277</td>\n",
       "      <td>phone</td>\n",
       "      <td>5</td>\n",
       "      <td>1</td>\n",
       "      <td>300x250</td>\n",
       "      <td>0</td>\n",
       "      <td>0.000000</td>\n",
       "    </tr>\n",
       "    <tr>\n",
       "      <th>27712</th>\n",
       "      <td>6360701</td>\n",
       "      <td>0</td>\n",
       "      <td>8</td>\n",
       "      <td>284</td>\n",
       "      <td>dramacity.se</td>\n",
       "      <td>1</td>\n",
       "      <td>2</td>\n",
       "      <td>0</td>\n",
       "      <td>137</td>\n",
       "      <td>633687</td>\n",
       "      <td>0</td>\n",
       "      <td>pc &amp; other devices</td>\n",
       "      <td>0</td>\n",
       "      <td>1</td>\n",
       "      <td>300x250</td>\n",
       "      <td>0</td>\n",
       "      <td>0.222222</td>\n",
       "    </tr>\n",
       "    <tr>\n",
       "      <th>152675</th>\n",
       "      <td>5566875</td>\n",
       "      <td>0</td>\n",
       "      <td>21</td>\n",
       "      <td>282</td>\n",
       "      <td>ask.fm</td>\n",
       "      <td>1</td>\n",
       "      <td>1</td>\n",
       "      <td>0</td>\n",
       "      <td>156</td>\n",
       "      <td>633687</td>\n",
       "      <td>0</td>\n",
       "      <td>pc &amp; other devices</td>\n",
       "      <td>2</td>\n",
       "      <td>1</td>\n",
       "      <td>320x50</td>\n",
       "      <td>0</td>\n",
       "      <td>0.000000</td>\n",
       "    </tr>\n",
       "    <tr>\n",
       "      <th>132958</th>\n",
       "      <td>9570303</td>\n",
       "      <td>1</td>\n",
       "      <td>8</td>\n",
       "      <td>284</td>\n",
       "      <td>Unknown</td>\n",
       "      <td>2</td>\n",
       "      <td>1</td>\n",
       "      <td>0</td>\n",
       "      <td>156</td>\n",
       "      <td>760478</td>\n",
       "      <td>0</td>\n",
       "      <td>pc &amp; other devices</td>\n",
       "      <td>1</td>\n",
       "      <td>1</td>\n",
       "      <td>320x50</td>\n",
       "      <td>0</td>\n",
       "      <td>0.117647</td>\n",
       "    </tr>\n",
       "    <tr>\n",
       "      <th>139323</th>\n",
       "      <td>5566875</td>\n",
       "      <td>0</td>\n",
       "      <td>8</td>\n",
       "      <td>284</td>\n",
       "      <td>kissasian.com</td>\n",
       "      <td>1</td>\n",
       "      <td>1</td>\n",
       "      <td>0</td>\n",
       "      <td>166</td>\n",
       "      <td>633687</td>\n",
       "      <td>301</td>\n",
       "      <td>phone</td>\n",
       "      <td>4</td>\n",
       "      <td>1</td>\n",
       "      <td>320x50</td>\n",
       "      <td>0</td>\n",
       "      <td>0.000000</td>\n",
       "    </tr>\n",
       "    <tr>\n",
       "      <th>110536</th>\n",
       "      <td>9525325</td>\n",
       "      <td>0</td>\n",
       "      <td>8</td>\n",
       "      <td>284</td>\n",
       "      <td>malaysia-chronicle.com</td>\n",
       "      <td>0</td>\n",
       "      <td>1</td>\n",
       "      <td>0</td>\n",
       "      <td>156</td>\n",
       "      <td>664349</td>\n",
       "      <td>0</td>\n",
       "      <td>pc &amp; other devices</td>\n",
       "      <td>6</td>\n",
       "      <td>1</td>\n",
       "      <td>300x250</td>\n",
       "      <td>0</td>\n",
       "      <td>0.000000</td>\n",
       "    </tr>\n",
       "    <tr>\n",
       "      <th>112382</th>\n",
       "      <td>9735650</td>\n",
       "      <td>0</td>\n",
       "      <td>8</td>\n",
       "      <td>284</td>\n",
       "      <td>babycenter.com</td>\n",
       "      <td>1</td>\n",
       "      <td>1</td>\n",
       "      <td>4</td>\n",
       "      <td>155</td>\n",
       "      <td>853945</td>\n",
       "      <td>100346</td>\n",
       "      <td>phone</td>\n",
       "      <td>1</td>\n",
       "      <td>1</td>\n",
       "      <td>320x50</td>\n",
       "      <td>0</td>\n",
       "      <td>0.000000</td>\n",
       "    </tr>\n",
       "    <tr>\n",
       "      <th>42166</th>\n",
       "      <td>3698748</td>\n",
       "      <td>0</td>\n",
       "      <td>8</td>\n",
       "      <td>282</td>\n",
       "      <td>msn.com</td>\n",
       "      <td>0</td>\n",
       "      <td>1</td>\n",
       "      <td>0</td>\n",
       "      <td>141</td>\n",
       "      <td>451274</td>\n",
       "      <td>0</td>\n",
       "      <td>pc &amp; other devices</td>\n",
       "      <td>0</td>\n",
       "      <td>1</td>\n",
       "      <td>320x50</td>\n",
       "      <td>0</td>\n",
       "      <td>0.166667</td>\n",
       "    </tr>\n",
       "    <tr>\n",
       "      <th>102038</th>\n",
       "      <td>6360701</td>\n",
       "      <td>0</td>\n",
       "      <td>8</td>\n",
       "      <td>282</td>\n",
       "      <td>icdrama.se</td>\n",
       "      <td>1</td>\n",
       "      <td>1</td>\n",
       "      <td>0</td>\n",
       "      <td>114</td>\n",
       "      <td>633687</td>\n",
       "      <td>12334</td>\n",
       "      <td>phone</td>\n",
       "      <td>1</td>\n",
       "      <td>1</td>\n",
       "      <td>300x250</td>\n",
       "      <td>0</td>\n",
       "      <td>0.117647</td>\n",
       "    </tr>\n",
       "    <tr>\n",
       "      <th>64813</th>\n",
       "      <td>5566875</td>\n",
       "      <td>0</td>\n",
       "      <td>9</td>\n",
       "      <td>284</td>\n",
       "      <td>desitvbox.net</td>\n",
       "      <td>1</td>\n",
       "      <td>1</td>\n",
       "      <td>0</td>\n",
       "      <td>166</td>\n",
       "      <td>633687</td>\n",
       "      <td>301</td>\n",
       "      <td>phone</td>\n",
       "      <td>2</td>\n",
       "      <td>1</td>\n",
       "      <td>320x50</td>\n",
       "      <td>0</td>\n",
       "      <td>0.000000</td>\n",
       "    </tr>\n",
       "  </tbody>\n",
       "</table>\n",
       "</div>"
      ],
      "text/plain": [
       "        placement  position  browser  carrier                  domain  \\\n",
       "36601    11238056         0       14      282                 Unknown   \n",
       "27712     6360701         0        8      284            dramacity.se   \n",
       "152675    5566875         0       21      282                  ask.fm   \n",
       "132958    9570303         1        8      284                 Unknown   \n",
       "139323    5566875         0        8      284           kissasian.com   \n",
       "110536    9525325         0        8      284  malaysia-chronicle.com   \n",
       "112382    9735650         0        8      284          babycenter.com   \n",
       "42166     3698748         0        8      282                 msn.com   \n",
       "102038    6360701         0        8      282              icdrama.se   \n",
       "64813     5566875         0        9      284           desitvbox.net   \n",
       "\n",
       "        supply_type  language  region  os_extended  publisher  device_model  \\\n",
       "36601             2         1       0           46     995228         12277   \n",
       "27712             1         2       0          137     633687             0   \n",
       "152675            1         1       0          156     633687             0   \n",
       "132958            2         1       0          156     760478             0   \n",
       "139323            1         1       0          166     633687           301   \n",
       "110536            0         1       0          156     664349             0   \n",
       "112382            1         1       4          155     853945        100346   \n",
       "42166             0         1       0          141     451274             0   \n",
       "102038            1         1       0          114     633687         12334   \n",
       "64813             1         1       0          166     633687           301   \n",
       "\n",
       "               device_type  user_day  user_hour     size  response    domctr  \n",
       "36601                phone         5          1  300x250         0  0.000000  \n",
       "27712   pc & other devices         0          1  300x250         0  0.222222  \n",
       "152675  pc & other devices         2          1   320x50         0  0.000000  \n",
       "132958  pc & other devices         1          1   320x50         0  0.117647  \n",
       "139323               phone         4          1   320x50         0  0.000000  \n",
       "110536  pc & other devices         6          1  300x250         0  0.000000  \n",
       "112382               phone         1          1   320x50         0  0.000000  \n",
       "42166   pc & other devices         0          1   320x50         0  0.166667  \n",
       "102038               phone         1          1  300x250         0  0.117647  \n",
       "64813                phone         2          1   320x50         0  0.000000  "
      ]
     },
     "execution_count": 887,
     "metadata": {},
     "output_type": "execute_result"
    }
   ],
   "source": [
    "#Make the dictionary for weekday and weekends separately and replace domain names\n",
    "#with CTR. Create a new category domctr (Domain CTR)\n",
    "mydict1 = grouped[grouped['user_day']==1].set_index(['domain']).to_dict()['ctr']\n",
    "mydict2 = grouped[grouped['user_day']==0].set_index(['domain']).to_dict()['ctr']\n",
    "#print(mydict1)\n",
    "\n",
    "df['domctr']=0.0\n",
    "df.loc[df['user_day']==1,'domctr'] = df[df['user_day']==1]['domain'].replace(mydict1)\n",
    "df.loc[df['user_day']==0,'domctr'] = df[df['user_day']==0]['domain'].replace(mydict2)\n",
    "df.head(10)"
   ]
  },
  {
   "cell_type": "code",
   "execution_count": 888,
   "metadata": {},
   "outputs": [],
   "source": [
    "# The time of the user hour is a useful variable, so use the original values back.\n",
    "df['user_hour']=savehrs\n",
    "#df['user_hour']"
   ]
  },
  {
   "cell_type": "code",
   "execution_count": 889,
   "metadata": {},
   "outputs": [
    {
     "data": {
      "text/plain": [
       "False"
      ]
     },
     "execution_count": 889,
     "metadata": {},
     "output_type": "execute_result"
    }
   ],
   "source": [
    "#Check if anything wierd happened during dictionary translation\n",
    "df['domctr'].isnull().any().any()\n",
    "df.dropna(inplace=True)\n",
    "df['domctr'].isnull().any().any()"
   ]
  },
  {
   "cell_type": "code",
   "execution_count": 890,
   "metadata": {
    "collapsed": true
   },
   "outputs": [],
   "source": [
    "df['domctr']=np.float32(df['domctr'])"
   ]
  },
  {
   "cell_type": "code",
   "execution_count": 891,
   "metadata": {
    "scrolled": true
   },
   "outputs": [
    {
     "data": {
      "text/html": [
       "<div>\n",
       "<style>\n",
       "    .dataframe thead tr:only-child th {\n",
       "        text-align: right;\n",
       "    }\n",
       "\n",
       "    .dataframe thead th {\n",
       "        text-align: left;\n",
       "    }\n",
       "\n",
       "    .dataframe tbody tr th {\n",
       "        vertical-align: top;\n",
       "    }\n",
       "</style>\n",
       "<table border=\"1\" class=\"dataframe\">\n",
       "  <thead>\n",
       "    <tr style=\"text-align: right;\">\n",
       "      <th></th>\n",
       "      <th>placement</th>\n",
       "      <th>position</th>\n",
       "      <th>browser</th>\n",
       "      <th>carrier</th>\n",
       "      <th>domain</th>\n",
       "      <th>supply_type</th>\n",
       "      <th>language</th>\n",
       "      <th>region</th>\n",
       "      <th>os_extended</th>\n",
       "      <th>publisher</th>\n",
       "      <th>...</th>\n",
       "      <th>response</th>\n",
       "      <th>domctr</th>\n",
       "      <th>pc &amp; other devices</th>\n",
       "      <th>tablet</th>\n",
       "      <th>tv</th>\n",
       "      <th>game console</th>\n",
       "      <th>320x50</th>\n",
       "      <th>728x90</th>\n",
       "      <th>160x600</th>\n",
       "      <th>300x600</th>\n",
       "    </tr>\n",
       "  </thead>\n",
       "  <tbody>\n",
       "    <tr>\n",
       "      <th>36601</th>\n",
       "      <td>11238056</td>\n",
       "      <td>0</td>\n",
       "      <td>14</td>\n",
       "      <td>282</td>\n",
       "      <td>Unknown</td>\n",
       "      <td>2</td>\n",
       "      <td>1</td>\n",
       "      <td>0</td>\n",
       "      <td>46</td>\n",
       "      <td>995228</td>\n",
       "      <td>...</td>\n",
       "      <td>0</td>\n",
       "      <td>0.000000</td>\n",
       "      <td>0</td>\n",
       "      <td>1</td>\n",
       "      <td>0</td>\n",
       "      <td>0</td>\n",
       "      <td>1</td>\n",
       "      <td>0</td>\n",
       "      <td>0</td>\n",
       "      <td>0</td>\n",
       "    </tr>\n",
       "    <tr>\n",
       "      <th>27712</th>\n",
       "      <td>6360701</td>\n",
       "      <td>0</td>\n",
       "      <td>8</td>\n",
       "      <td>284</td>\n",
       "      <td>dramacity.se</td>\n",
       "      <td>1</td>\n",
       "      <td>2</td>\n",
       "      <td>0</td>\n",
       "      <td>137</td>\n",
       "      <td>633687</td>\n",
       "      <td>...</td>\n",
       "      <td>0</td>\n",
       "      <td>0.222222</td>\n",
       "      <td>1</td>\n",
       "      <td>0</td>\n",
       "      <td>0</td>\n",
       "      <td>0</td>\n",
       "      <td>1</td>\n",
       "      <td>0</td>\n",
       "      <td>0</td>\n",
       "      <td>0</td>\n",
       "    </tr>\n",
       "    <tr>\n",
       "      <th>152675</th>\n",
       "      <td>5566875</td>\n",
       "      <td>0</td>\n",
       "      <td>21</td>\n",
       "      <td>282</td>\n",
       "      <td>ask.fm</td>\n",
       "      <td>1</td>\n",
       "      <td>1</td>\n",
       "      <td>0</td>\n",
       "      <td>156</td>\n",
       "      <td>633687</td>\n",
       "      <td>...</td>\n",
       "      <td>0</td>\n",
       "      <td>0.000000</td>\n",
       "      <td>1</td>\n",
       "      <td>0</td>\n",
       "      <td>0</td>\n",
       "      <td>0</td>\n",
       "      <td>0</td>\n",
       "      <td>0</td>\n",
       "      <td>1</td>\n",
       "      <td>0</td>\n",
       "    </tr>\n",
       "    <tr>\n",
       "      <th>132958</th>\n",
       "      <td>9570303</td>\n",
       "      <td>1</td>\n",
       "      <td>8</td>\n",
       "      <td>284</td>\n",
       "      <td>Unknown</td>\n",
       "      <td>2</td>\n",
       "      <td>1</td>\n",
       "      <td>0</td>\n",
       "      <td>156</td>\n",
       "      <td>760478</td>\n",
       "      <td>...</td>\n",
       "      <td>0</td>\n",
       "      <td>0.117647</td>\n",
       "      <td>1</td>\n",
       "      <td>0</td>\n",
       "      <td>0</td>\n",
       "      <td>0</td>\n",
       "      <td>0</td>\n",
       "      <td>0</td>\n",
       "      <td>1</td>\n",
       "      <td>0</td>\n",
       "    </tr>\n",
       "    <tr>\n",
       "      <th>139323</th>\n",
       "      <td>5566875</td>\n",
       "      <td>0</td>\n",
       "      <td>8</td>\n",
       "      <td>284</td>\n",
       "      <td>kissasian.com</td>\n",
       "      <td>1</td>\n",
       "      <td>1</td>\n",
       "      <td>0</td>\n",
       "      <td>166</td>\n",
       "      <td>633687</td>\n",
       "      <td>...</td>\n",
       "      <td>0</td>\n",
       "      <td>0.000000</td>\n",
       "      <td>0</td>\n",
       "      <td>1</td>\n",
       "      <td>0</td>\n",
       "      <td>0</td>\n",
       "      <td>0</td>\n",
       "      <td>0</td>\n",
       "      <td>1</td>\n",
       "      <td>0</td>\n",
       "    </tr>\n",
       "  </tbody>\n",
       "</table>\n",
       "<p>5 rows × 23 columns</p>\n",
       "</div>"
      ],
      "text/plain": [
       "        placement  position  browser  carrier         domain  supply_type  \\\n",
       "36601    11238056         0       14      282        Unknown            2   \n",
       "27712     6360701         0        8      284   dramacity.se            1   \n",
       "152675    5566875         0       21      282         ask.fm            1   \n",
       "132958    9570303         1        8      284        Unknown            2   \n",
       "139323    5566875         0        8      284  kissasian.com            1   \n",
       "\n",
       "        language  region  os_extended  publisher   ...     response    domctr  \\\n",
       "36601          1       0           46     995228   ...            0  0.000000   \n",
       "27712          2       0          137     633687   ...            0  0.222222   \n",
       "152675         1       0          156     633687   ...            0  0.000000   \n",
       "132958         1       0          156     760478   ...            0  0.117647   \n",
       "139323         1       0          166     633687   ...            0  0.000000   \n",
       "\n",
       "        pc & other devices  tablet  tv  game console  320x50  728x90  160x600  \\\n",
       "36601                    0       1   0             0       1       0        0   \n",
       "27712                    1       0   0             0       1       0        0   \n",
       "152675                   1       0   0             0       0       0        1   \n",
       "132958                   1       0   0             0       0       0        1   \n",
       "139323                   0       1   0             0       0       0        1   \n",
       "\n",
       "        300x600  \n",
       "36601         0  \n",
       "27712         0  \n",
       "152675        0  \n",
       "132958        0  \n",
       "139323        0  \n",
       "\n",
       "[5 rows x 23 columns]"
      ]
     },
     "execution_count": 891,
     "metadata": {},
     "output_type": "execute_result"
    }
   ],
   "source": [
    "#Features, create dummies for categorical variables\n",
    "dfx = df\n",
    "myarr=df['device_type'].unique()\n",
    "\n",
    "dfx[myarr]=pd.get_dummies(dfx['device_type'])\n",
    "dfx.drop('device_type',axis=1,inplace=True)\n",
    "dfx = dfx.drop(myarr[0],1) \n",
    "\n",
    "myarr=dfx['size'].unique()\n",
    "dfx[myarr]=pd.get_dummies(dfx['size'])\n",
    "dfx.drop('size',axis=1,inplace=True)\n",
    "dfx = dfx.drop(myarr[0],1) \n",
    "dfx.head()\n",
    "\n",
    "#Check the columns and check that the response variable is dropped\n",
    "dfx.columns\n",
    "dfx.head()"
   ]
  },
  {
   "cell_type": "code",
   "execution_count": 892,
   "metadata": {},
   "outputs": [
    {
     "name": "stdout",
     "output_type": "stream",
     "text": [
      "                    placement  position   browser   carrier  supply_type  \\\n",
      "placement            1.000000 -0.051183  0.048540 -0.186735     0.097707   \n",
      "position            -0.051183  1.000000 -0.020208  0.087790    -0.135250   \n",
      "browser              0.048540 -0.020208  1.000000  0.001240    -0.184694   \n",
      "carrier             -0.186735  0.087790  0.001240  1.000000    -0.212163   \n",
      "supply_type          0.097707 -0.135250 -0.184694 -0.212163     1.000000   \n",
      "language             0.046618  0.029919 -0.002578  0.008260     0.044051   \n",
      "region              -0.100841  0.025194 -0.025870  0.198100    -0.080903   \n",
      "os_extended         -0.085305  0.088568  0.129425  0.192777    -0.366851   \n",
      "publisher            0.562961 -0.100825  0.042944 -0.111919     0.188530   \n",
      "device_model         0.075233  0.010284  0.092681 -0.032811     0.038848   \n",
      "user_day             0.261894 -0.085371 -0.115113 -0.168451     0.280228   \n",
      "user_hour            0.051080 -0.021798 -0.001033  0.055981     0.004676   \n",
      "response             0.247875 -0.102062 -0.022185 -0.842751     0.276316   \n",
      "domctr              -0.067974 -0.061215  0.068163 -0.170357    -0.063076   \n",
      "pc & other devices  -0.051457 -0.004050 -0.045895  0.027220     0.004329   \n",
      "tablet               0.053374  0.018917  0.030547  0.020803     0.003745   \n",
      "tv                   0.001078 -0.040057  0.063937 -0.122345    -0.024225   \n",
      "game console        -0.018186 -0.013356 -0.048916 -0.069089     0.000296   \n",
      "320x50               0.153011 -0.120263  0.094549  0.023997    -0.110429   \n",
      "728x90               0.044087  0.062559  0.058225  0.001217    -0.098979   \n",
      "160x600             -0.147536 -0.026115 -0.067866 -0.018223     0.201853   \n",
      "300x600             -0.059090  0.105142 -0.140485  0.034166    -0.022529   \n",
      "\n",
      "                    language    region  os_extended  publisher  device_model  \\\n",
      "placement           0.046618 -0.100841    -0.085305   0.562961      0.075233   \n",
      "position            0.029919  0.025194     0.088568  -0.100825      0.010284   \n",
      "browser            -0.002578 -0.025870     0.129425   0.042944      0.092681   \n",
      "carrier             0.008260  0.198100     0.192777  -0.111919     -0.032811   \n",
      "supply_type         0.044051 -0.080903    -0.366851   0.188530      0.038848   \n",
      "language            1.000000 -0.004985    -0.072436   0.041617     -0.022909   \n",
      "region             -0.004985  1.000000     0.089030  -0.072762      0.040131   \n",
      "os_extended        -0.072436  0.089030     1.000000  -0.012365      0.014054   \n",
      "publisher           0.041617 -0.072762    -0.012365   1.000000      0.061990   \n",
      "device_model       -0.022909  0.040131     0.014054   0.061990      1.000000   \n",
      "user_day            0.044578 -0.064138    -0.190836   0.188470      0.016576   \n",
      "user_hour           0.031135  0.008839    -0.097006   0.074624      0.002153   \n",
      "response            0.004355 -0.177883    -0.223132   0.160222      0.053764   \n",
      "domctr             -0.027611 -0.034240     0.061114  -0.097235      0.000739   \n",
      "pc & other devices -0.007926 -0.021421    -0.039189  -0.072067     -0.468764   \n",
      "tablet              0.012689  0.037866     0.089722   0.086856      0.464398   \n",
      "tv                 -0.012669 -0.043507    -0.100289  -0.034203     -0.008645   \n",
      "game console       -0.004306 -0.016096    -0.160176  -0.026506      0.105807   \n",
      "320x50             -0.003937 -0.021409    -0.003876   0.236749      0.002286   \n",
      "728x90             -0.012846 -0.014565    -0.014589   0.036348     -0.001883   \n",
      "160x600            -0.003714 -0.012579     0.013687  -0.174469      0.017165   \n",
      "300x600             0.014901  0.099069     0.003852  -0.135934     -0.032170   \n",
      "\n",
      "                      ...     response    domctr  pc & other devices  \\\n",
      "placement             ...     0.247875 -0.067974           -0.051457   \n",
      "position              ...    -0.102062 -0.061215           -0.004050   \n",
      "browser               ...    -0.022185  0.068163           -0.045895   \n",
      "carrier               ...    -0.842751 -0.170357            0.027220   \n",
      "supply_type           ...     0.276316 -0.063076            0.004329   \n",
      "language              ...     0.004355 -0.027611           -0.007926   \n",
      "region                ...    -0.177883 -0.034240           -0.021421   \n",
      "os_extended           ...    -0.223132  0.061114           -0.039189   \n",
      "publisher             ...     0.160222 -0.097235           -0.072067   \n",
      "device_model          ...     0.053764  0.000739           -0.468764   \n",
      "user_day              ...     0.213387 -0.479565           -0.006244   \n",
      "user_hour             ...    -0.023033 -0.055695           -0.022411   \n",
      "response              ...     1.000000  0.149446           -0.044370   \n",
      "domctr                ...     0.149446  1.000000            0.011783   \n",
      "pc & other devices    ...    -0.044370  0.011783            1.000000   \n",
      "tablet                ...     0.006866 -0.006904           -0.940046   \n",
      "tv                    ...     0.094690 -0.021665           -0.187833   \n",
      "game console          ...     0.058495  0.008837           -0.044944   \n",
      "320x50                ...     0.001419 -0.035395           -0.004645   \n",
      "728x90                ...    -0.021609 -0.017702            0.029609   \n",
      "160x600               ...    -0.000853  0.059348           -0.026664   \n",
      "300x600               ...    -0.013790 -0.027145            0.057131   \n",
      "\n",
      "                      tablet        tv  game console    320x50    728x90  \\\n",
      "placement           0.053374  0.001078     -0.018186  0.153011  0.044087   \n",
      "position            0.018917 -0.040057     -0.013356 -0.120263  0.062559   \n",
      "browser             0.030547  0.063937     -0.048916  0.094549  0.058225   \n",
      "carrier             0.020803 -0.122345     -0.069089  0.023997  0.001217   \n",
      "supply_type         0.003745 -0.024225      0.000296 -0.110429 -0.098979   \n",
      "language            0.012689 -0.012669     -0.004306 -0.003937 -0.012846   \n",
      "region              0.037866 -0.043507     -0.016096 -0.021409 -0.014565   \n",
      "os_extended         0.089722 -0.100289     -0.160176 -0.003876 -0.014589   \n",
      "publisher           0.086856 -0.034203     -0.026506  0.236749  0.036348   \n",
      "device_model        0.464398 -0.008645      0.105807  0.002286 -0.001883   \n",
      "user_day           -0.003067  0.030259      0.006931  0.014029 -0.020604   \n",
      "user_hour           0.035064 -0.041901      0.024320  0.097722  0.030062   \n",
      "response            0.006866  0.094690      0.058495  0.001419 -0.021609   \n",
      "domctr             -0.006904 -0.021665      0.008837 -0.035395 -0.017702   \n",
      "pc & other devices -0.940046 -0.187833     -0.044944 -0.004645  0.029609   \n",
      "tablet              1.000000 -0.145934     -0.034918 -0.001349 -0.024956   \n",
      "tv                 -0.145934  1.000000     -0.006977  0.004662 -0.013542   \n",
      "game console       -0.034918 -0.006977      1.000000  0.043244 -0.003240   \n",
      "320x50             -0.001349  0.004662      0.043244  1.000000 -0.074932   \n",
      "728x90             -0.024956 -0.013542     -0.003240 -0.074932  1.000000   \n",
      "160x600             0.045321 -0.043550     -0.036989 -0.855370 -0.071795   \n",
      "300x600            -0.061474  0.014237     -0.008564 -0.198041 -0.016622   \n",
      "\n",
      "                     160x600   300x600  \n",
      "placement          -0.147536 -0.059090  \n",
      "position           -0.026115  0.105142  \n",
      "browser            -0.067866 -0.140485  \n",
      "carrier            -0.018223  0.034166  \n",
      "supply_type         0.201853 -0.022529  \n",
      "language           -0.003714  0.014901  \n",
      "region             -0.012579  0.099069  \n",
      "os_extended         0.013687  0.003852  \n",
      "publisher          -0.174469 -0.135934  \n",
      "device_model        0.017165 -0.032170  \n",
      "user_day           -0.035677  0.058545  \n",
      "user_hour          -0.119961  0.064202  \n",
      "response           -0.000853 -0.013790  \n",
      "domctr              0.059348 -0.027145  \n",
      "pc & other devices -0.026664  0.057131  \n",
      "tablet              0.045321 -0.061474  \n",
      "tv                 -0.043550  0.014237  \n",
      "game console       -0.036989 -0.008564  \n",
      "320x50             -0.855370 -0.198041  \n",
      "728x90             -0.071795 -0.016622  \n",
      "160x600             1.000000 -0.189750  \n",
      "300x600            -0.189750  1.000000  \n",
      "\n",
      "[22 rows x 22 columns]\n"
     ]
    },
    {
     "data": {
      "text/plain": [
       "<matplotlib.image.AxesImage at 0x2978d068c18>"
      ]
     },
     "execution_count": 892,
     "metadata": {},
     "output_type": "execute_result"
    }
   ],
   "source": [
    "#Correlation Matrix\n",
    "print(dfx.corr())\n",
    "plt.matshow(dfx.corr())"
   ]
  },
  {
   "cell_type": "code",
   "execution_count": 893,
   "metadata": {},
   "outputs": [
    {
     "name": "stdout",
     "output_type": "stream",
     "text": [
      "[ 1.18571641 -0.64872669 -0.64872669 ..., -0.64872669  1.18571641\n",
      "  1.18571641]\n",
      "[ 1.0793222  -0.4450899  -0.69319937 ..., -0.69319937  1.07932001\n",
      "  1.20801548]\n",
      "[-2.61818961 -0.04243392  0.49536122 ...,  0.07078611  0.07078611\n",
      "  0.49536122]\n"
     ]
    },
    {
     "name": "stderr",
     "output_type": "stream",
     "text": [
      "C:\\ProgramData\\Anaconda3\\lib\\site-packages\\sklearn\\utils\\validation.py:444: DataConversionWarning: Data with input dtype int64 was converted to float64 by the scale function.\n",
      "  warnings.warn(msg, DataConversionWarning)\n"
     ]
    }
   ],
   "source": [
    "#Preprocessing\n",
    "X_scaled= preprocessing.scale(dfx['publisher'])\n",
    "print(X_scaled)\n",
    "dfx['publisher']=X_scaled\n",
    "\n",
    "\n",
    "X_scaled= preprocessing.scale(dfx['placement'])\n",
    "print(X_scaled)\n",
    "dfx['placement']=X_scaled\n",
    "\n",
    "X_scaled= preprocessing.scale(dfx['os_extended'])\n",
    "print(X_scaled)\n",
    "dfx['os_extended']=X_scaled"
   ]
  },
  {
   "cell_type": "code",
   "execution_count": 894,
   "metadata": {},
   "outputs": [],
   "source": [
    "#Create the features data set\n",
    "T =dfx['response']\n",
    "F = dfx.drop(['placement','domain','device_model','carrier','language','region','response'],1)"
   ]
  },
  {
   "cell_type": "code",
   "execution_count": 895,
   "metadata": {},
   "outputs": [
    {
     "name": "stdout",
     "output_type": "stream",
     "text": [
      "36601     0\n",
      "27712     0\n",
      "152675    0\n",
      "132958    0\n",
      "139323    0\n",
      "110536    0\n",
      "112382    0\n",
      "42166     0\n",
      "102038    0\n",
      "64813     0\n",
      "150279    0\n",
      "6751      0\n",
      "136321    0\n",
      "82838     0\n",
      "137953    0\n",
      "14003     0\n",
      "100624    0\n",
      "138902    0\n",
      "150591    0\n",
      "159932    1\n",
      "61489     0\n",
      "72648     0\n",
      "57869     0\n",
      "142344    0\n",
      "159708    1\n",
      "44674     0\n",
      "37484     0\n",
      "57779     0\n",
      "611       0\n",
      "81047     0\n",
      "         ..\n",
      "159966    1\n",
      "159967    1\n",
      "159968    1\n",
      "159969    1\n",
      "159970    1\n",
      "159971    1\n",
      "159972    1\n",
      "159973    1\n",
      "159974    1\n",
      "159975    1\n",
      "159976    1\n",
      "159977    1\n",
      "159978    1\n",
      "159979    1\n",
      "159980    1\n",
      "159981    1\n",
      "159982    1\n",
      "159983    1\n",
      "159984    1\n",
      "159985    1\n",
      "159986    1\n",
      "159987    1\n",
      "159988    1\n",
      "159989    1\n",
      "159990    1\n",
      "159991    1\n",
      "159992    1\n",
      "159993    1\n",
      "159994    1\n",
      "159995    1\n",
      "Name: response, Length: 2400, dtype: int64\n"
     ]
    }
   ],
   "source": [
    "print(T)"
   ]
  },
  {
   "cell_type": "code",
   "execution_count": 896,
   "metadata": {
    "collapsed": true
   },
   "outputs": [],
   "source": [
    "#np.array(dfx['domctr'][1001:1600])\n",
    "#in case of infinities\n",
    "F['domctr'].replace(np.inf, 0, inplace=True)\n",
    "F['domctr'] = np.float32(F['domctr']) #float64 creates problems"
   ]
  },
  {
   "cell_type": "markdown",
   "metadata": {},
   "source": [
    "There are 823 Unique Publisher values"
   ]
  },
  {
   "cell_type": "markdown",
   "metadata": {},
   "source": [
    "Browser values are not unique groups as some domain names overlap between the two browser groups. So what else?"
   ]
  },
  {
   "cell_type": "code",
   "execution_count": 897,
   "metadata": {
    "collapsed": true
   },
   "outputs": [],
   "source": [
    "bkg= df[(df.response==0)]\n",
    "sig= df[(df.response==1)]"
   ]
  },
  {
   "cell_type": "code",
   "execution_count": 898,
   "metadata": {},
   "outputs": [
    {
     "name": "stdout",
     "output_type": "stream",
     "text": [
      "<bound method PCA.score of PCA(copy=True, iterated_power='auto', n_components=16, random_state=None,\n",
      "  svd_solver='auto', tol=0.0, whiten=False)>\n",
      "[  4.68076017e-01   3.72557592e-01   8.23302811e-02   2.16649584e-02\n",
      "   2.11526422e-02   1.07441803e-02   9.59877893e-03   6.22490382e-03\n",
      "   4.68795262e-03   1.27628370e-03   8.57861920e-04   4.54606583e-04\n",
      "   2.32886413e-04   9.25816259e-05   4.62949903e-05   2.17842723e-06]\n",
      "[ 228.83508395  204.15551836   95.97192669   49.23153134   48.64595417\n",
      "   34.66977774   32.76969576   26.38947421   22.90108304   11.94917787\n",
      "    9.79654888    7.13152279    5.10430351    3.21830216    2.27578596\n",
      "    0.4936691 ]\n",
      "<class 'pandas.core.frame.DataFrame'>\n",
      "Int64Index: 2400 entries, 36601 to 159995\n",
      "Data columns (total 23 columns):\n",
      "placement             2400 non-null float64\n",
      "position              2400 non-null int64\n",
      "browser               2400 non-null int64\n",
      "carrier               2400 non-null int64\n",
      "domain                2400 non-null object\n",
      "supply_type           2400 non-null int64\n",
      "language              2400 non-null int64\n",
      "region                2400 non-null int64\n",
      "os_extended           2400 non-null float64\n",
      "publisher             2400 non-null float64\n",
      "device_model          2400 non-null int64\n",
      "user_day              2400 non-null int64\n",
      "user_hour             2400 non-null int64\n",
      "response              2400 non-null int64\n",
      "domctr                2400 non-null float32\n",
      "pc & other devices    2400 non-null uint8\n",
      "tablet                2400 non-null uint8\n",
      "tv                    2400 non-null uint8\n",
      "game console          2400 non-null uint8\n",
      "320x50                2400 non-null uint8\n",
      "728x90                2400 non-null uint8\n",
      "160x600               2400 non-null uint8\n",
      "300x600               2400 non-null uint8\n",
      "dtypes: float32(1), float64(3), int64(10), object(1), uint8(8)\n",
      "memory usage: 309.4+ KB\n"
     ]
    }
   ],
   "source": [
    "from sklearn.decomposition import PCA\n",
    "ncomp=len(F.columns)\n",
    "dfx.isnull().any().any()\n",
    "pca = PCA(n_components=ncomp)\n",
    "pca.fit(F)\n",
    "print(pca.score)\n",
    "print(pca.explained_variance_ratio_)  \n",
    "print(pca.singular_values_)  \n",
    "dfx.info()"
   ]
  },
  {
   "cell_type": "code",
   "execution_count": 899,
   "metadata": {},
   "outputs": [
    {
     "data": {
      "text/html": [
       "<div>\n",
       "<style>\n",
       "    .dataframe thead tr:only-child th {\n",
       "        text-align: right;\n",
       "    }\n",
       "\n",
       "    .dataframe thead th {\n",
       "        text-align: left;\n",
       "    }\n",
       "\n",
       "    .dataframe tbody tr th {\n",
       "        vertical-align: top;\n",
       "    }\n",
       "</style>\n",
       "<table border=\"1\" class=\"dataframe\">\n",
       "  <thead>\n",
       "    <tr style=\"text-align: right;\">\n",
       "      <th></th>\n",
       "      <th>position</th>\n",
       "      <th>browser</th>\n",
       "      <th>supply_type</th>\n",
       "      <th>os_extended</th>\n",
       "      <th>publisher</th>\n",
       "      <th>user_day</th>\n",
       "      <th>user_hour</th>\n",
       "      <th>domctr</th>\n",
       "      <th>pc &amp; other devices</th>\n",
       "      <th>tablet</th>\n",
       "      <th>tv</th>\n",
       "      <th>game console</th>\n",
       "      <th>320x50</th>\n",
       "      <th>728x90</th>\n",
       "      <th>160x600</th>\n",
       "      <th>300x600</th>\n",
       "    </tr>\n",
       "  </thead>\n",
       "  <tbody>\n",
       "    <tr>\n",
       "      <th>36601</th>\n",
       "      <td>0</td>\n",
       "      <td>14</td>\n",
       "      <td>2</td>\n",
       "      <td>-2.618190</td>\n",
       "      <td>1.185716</td>\n",
       "      <td>5</td>\n",
       "      <td>9</td>\n",
       "      <td>0.000000</td>\n",
       "      <td>0</td>\n",
       "      <td>1</td>\n",
       "      <td>0</td>\n",
       "      <td>0</td>\n",
       "      <td>1</td>\n",
       "      <td>0</td>\n",
       "      <td>0</td>\n",
       "      <td>0</td>\n",
       "    </tr>\n",
       "    <tr>\n",
       "      <th>27712</th>\n",
       "      <td>0</td>\n",
       "      <td>8</td>\n",
       "      <td>1</td>\n",
       "      <td>-0.042434</td>\n",
       "      <td>-0.648727</td>\n",
       "      <td>0</td>\n",
       "      <td>14</td>\n",
       "      <td>0.222222</td>\n",
       "      <td>1</td>\n",
       "      <td>0</td>\n",
       "      <td>0</td>\n",
       "      <td>0</td>\n",
       "      <td>1</td>\n",
       "      <td>0</td>\n",
       "      <td>0</td>\n",
       "      <td>0</td>\n",
       "    </tr>\n",
       "    <tr>\n",
       "      <th>152675</th>\n",
       "      <td>0</td>\n",
       "      <td>21</td>\n",
       "      <td>1</td>\n",
       "      <td>0.495361</td>\n",
       "      <td>-0.648727</td>\n",
       "      <td>2</td>\n",
       "      <td>7</td>\n",
       "      <td>0.000000</td>\n",
       "      <td>1</td>\n",
       "      <td>0</td>\n",
       "      <td>0</td>\n",
       "      <td>0</td>\n",
       "      <td>0</td>\n",
       "      <td>0</td>\n",
       "      <td>1</td>\n",
       "      <td>0</td>\n",
       "    </tr>\n",
       "    <tr>\n",
       "      <th>132958</th>\n",
       "      <td>1</td>\n",
       "      <td>8</td>\n",
       "      <td>2</td>\n",
       "      <td>0.495361</td>\n",
       "      <td>-0.005395</td>\n",
       "      <td>1</td>\n",
       "      <td>7</td>\n",
       "      <td>0.117647</td>\n",
       "      <td>1</td>\n",
       "      <td>0</td>\n",
       "      <td>0</td>\n",
       "      <td>0</td>\n",
       "      <td>0</td>\n",
       "      <td>0</td>\n",
       "      <td>1</td>\n",
       "      <td>0</td>\n",
       "    </tr>\n",
       "    <tr>\n",
       "      <th>139323</th>\n",
       "      <td>0</td>\n",
       "      <td>8</td>\n",
       "      <td>1</td>\n",
       "      <td>0.778411</td>\n",
       "      <td>-0.648727</td>\n",
       "      <td>4</td>\n",
       "      <td>1</td>\n",
       "      <td>0.000000</td>\n",
       "      <td>0</td>\n",
       "      <td>1</td>\n",
       "      <td>0</td>\n",
       "      <td>0</td>\n",
       "      <td>0</td>\n",
       "      <td>0</td>\n",
       "      <td>1</td>\n",
       "      <td>0</td>\n",
       "    </tr>\n",
       "  </tbody>\n",
       "</table>\n",
       "</div>"
      ],
      "text/plain": [
       "        position  browser  supply_type  os_extended  publisher  user_day  \\\n",
       "36601          0       14            2    -2.618190   1.185716         5   \n",
       "27712          0        8            1    -0.042434  -0.648727         0   \n",
       "152675         0       21            1     0.495361  -0.648727         2   \n",
       "132958         1        8            2     0.495361  -0.005395         1   \n",
       "139323         0        8            1     0.778411  -0.648727         4   \n",
       "\n",
       "        user_hour    domctr  pc & other devices  tablet  tv  game console  \\\n",
       "36601           9  0.000000                   0       1   0             0   \n",
       "27712          14  0.222222                   1       0   0             0   \n",
       "152675          7  0.000000                   1       0   0             0   \n",
       "132958          7  0.117647                   1       0   0             0   \n",
       "139323          1  0.000000                   0       1   0             0   \n",
       "\n",
       "        320x50  728x90  160x600  300x600  \n",
       "36601        1       0        0        0  \n",
       "27712        1       0        0        0  \n",
       "152675       0       0        1        0  \n",
       "132958       0       0        1        0  \n",
       "139323       0       0        1        0  "
      ]
     },
     "execution_count": 899,
     "metadata": {},
     "output_type": "execute_result"
    }
   ],
   "source": [
    "F.head()"
   ]
  },
  {
   "cell_type": "code",
   "execution_count": 900,
   "metadata": {
    "scrolled": true
   },
   "outputs": [
    {
     "name": "stdout",
     "output_type": "stream",
     "text": [
      "16\n",
      "Warning: Maximum number of iterations has been exceeded.\n",
      "         Current function value: 0.520714\n",
      "         Iterations: 35\n"
     ]
    },
    {
     "name": "stderr",
     "output_type": "stream",
     "text": [
      "C:\\ProgramData\\Anaconda3\\lib\\site-packages\\statsmodels\\base\\model.py:496: ConvergenceWarning: Maximum Likelihood optimization failed to converge. Check mle_retvals\n",
      "  \"Check mle_retvals\", ConvergenceWarning)\n"
     ]
    },
    {
     "data": {
      "text/html": [
       "<table class=\"simpletable\">\n",
       "<caption>Logit Regression Results</caption>\n",
       "<tr>\n",
       "  <th>Dep. Variable:</th>     <td>response</td>     <th>  No. Observations:  </th>   <td>  2400</td>  \n",
       "</tr>\n",
       "<tr>\n",
       "  <th>Model:</th>               <td>Logit</td>      <th>  Df Residuals:      </th>   <td>  2383</td>  \n",
       "</tr>\n",
       "<tr>\n",
       "  <th>Method:</th>               <td>MLE</td>       <th>  Df Model:          </th>   <td>    16</td>  \n",
       "</tr>\n",
       "<tr>\n",
       "  <th>Date:</th>          <td>Thu, 01 Feb 2018</td> <th>  Pseudo R-squ.:     </th>   <td>0.1770</td>  \n",
       "</tr>\n",
       "<tr>\n",
       "  <th>Time:</th>              <td>13:18:16</td>     <th>  Log-Likelihood:    </th>  <td> -1249.7</td> \n",
       "</tr>\n",
       "<tr>\n",
       "  <th>converged:</th>           <td>False</td>      <th>  LL-Null:           </th>  <td> -1518.5</td> \n",
       "</tr>\n",
       "<tr>\n",
       "  <th> </th>                      <td> </td>        <th>  LLR p-value:       </th> <td>3.961e-104</td>\n",
       "</tr>\n",
       "</table>\n",
       "<table class=\"simpletable\">\n",
       "<tr>\n",
       "           <td></td>             <th>coef</th>     <th>std err</th>      <th>z</th>      <th>P>|z|</th>  <th>[0.025</th>    <th>0.975]</th>  \n",
       "</tr>\n",
       "<tr>\n",
       "  <th>position</th>           <td>   -0.2335</td> <td>    0.128</td> <td>   -1.824</td> <td> 0.068</td> <td>   -0.484</td> <td>    0.017</td>\n",
       "</tr>\n",
       "<tr>\n",
       "  <th>browser</th>            <td>    0.0145</td> <td>    0.011</td> <td>    1.292</td> <td> 0.197</td> <td>   -0.007</td> <td>    0.036</td>\n",
       "</tr>\n",
       "<tr>\n",
       "  <th>supply_type</th>        <td>    0.6382</td> <td>    0.088</td> <td>    7.229</td> <td> 0.000</td> <td>    0.465</td> <td>    0.811</td>\n",
       "</tr>\n",
       "<tr>\n",
       "  <th>os_extended</th>        <td>   -0.2309</td> <td>    0.051</td> <td>   -4.484</td> <td> 0.000</td> <td>   -0.332</td> <td>   -0.130</td>\n",
       "</tr>\n",
       "<tr>\n",
       "  <th>publisher</th>          <td>    0.2363</td> <td>    0.057</td> <td>    4.140</td> <td> 0.000</td> <td>    0.124</td> <td>    0.348</td>\n",
       "</tr>\n",
       "<tr>\n",
       "  <th>user_day</th>           <td>    0.3747</td> <td>    0.034</td> <td>   11.025</td> <td> 0.000</td> <td>    0.308</td> <td>    0.441</td>\n",
       "</tr>\n",
       "<tr>\n",
       "  <th>user_hour</th>          <td>   -0.0223</td> <td>    0.012</td> <td>   -1.909</td> <td> 0.056</td> <td>   -0.045</td> <td>    0.001</td>\n",
       "</tr>\n",
       "<tr>\n",
       "  <th>domctr</th>             <td>    4.9077</td> <td>    0.427</td> <td>   11.494</td> <td> 0.000</td> <td>    4.071</td> <td>    5.745</td>\n",
       "</tr>\n",
       "<tr>\n",
       "  <th>pc & other devices</th> <td> -239.3520</td> <td> 4.14e+06</td> <td>-5.78e-05</td> <td> 1.000</td> <td>-8.12e+06</td> <td> 8.12e+06</td>\n",
       "</tr>\n",
       "<tr>\n",
       "  <th>tablet</th>             <td> -239.2222</td> <td> 4.14e+06</td> <td>-5.78e-05</td> <td> 1.000</td> <td>-8.12e+06</td> <td> 8.12e+06</td>\n",
       "</tr>\n",
       "<tr>\n",
       "  <th>tv</th>                 <td> -238.1794</td> <td> 4.14e+06</td> <td>-5.75e-05</td> <td> 1.000</td> <td>-8.12e+06</td> <td> 8.12e+06</td>\n",
       "</tr>\n",
       "<tr>\n",
       "  <th>game console</th>       <td> -218.5864</td> <td> 4.14e+06</td> <td>-5.28e-05</td> <td> 1.000</td> <td>-8.12e+06</td> <td> 8.12e+06</td>\n",
       "</tr>\n",
       "<tr>\n",
       "  <th>320x50</th>             <td>   -1.0852</td> <td>    0.310</td> <td>   -3.504</td> <td> 0.000</td> <td>   -1.692</td> <td>   -0.478</td>\n",
       "</tr>\n",
       "<tr>\n",
       "  <th>728x90</th>             <td>   -0.8429</td> <td>    0.729</td> <td>   -1.156</td> <td> 0.247</td> <td>   -2.271</td> <td>    0.586</td>\n",
       "</tr>\n",
       "<tr>\n",
       "  <th>160x600</th>            <td>   -1.1348</td> <td>    0.313</td> <td>   -3.627</td> <td> 0.000</td> <td>   -1.748</td> <td>   -0.522</td>\n",
       "</tr>\n",
       "<tr>\n",
       "  <th>300x600</th>            <td>   -0.9476</td> <td>    0.388</td> <td>   -2.442</td> <td> 0.015</td> <td>   -1.708</td> <td>   -0.187</td>\n",
       "</tr>\n",
       "<tr>\n",
       "  <th>intercept</th>          <td>  237.4871</td> <td> 4.14e+06</td> <td> 5.73e-05</td> <td> 1.000</td> <td>-8.12e+06</td> <td> 8.12e+06</td>\n",
       "</tr>\n",
       "</table>"
      ],
      "text/plain": [
       "<class 'statsmodels.iolib.summary.Summary'>\n",
       "\"\"\"\n",
       "                           Logit Regression Results                           \n",
       "==============================================================================\n",
       "Dep. Variable:               response   No. Observations:                 2400\n",
       "Model:                          Logit   Df Residuals:                     2383\n",
       "Method:                           MLE   Df Model:                           16\n",
       "Date:                Thu, 01 Feb 2018   Pseudo R-squ.:                  0.1770\n",
       "Time:                        13:18:16   Log-Likelihood:                -1249.7\n",
       "converged:                      False   LL-Null:                       -1518.5\n",
       "                                        LLR p-value:                3.961e-104\n",
       "======================================================================================\n",
       "                         coef    std err          z      P>|z|      [0.025      0.975]\n",
       "--------------------------------------------------------------------------------------\n",
       "position              -0.2335      0.128     -1.824      0.068      -0.484       0.017\n",
       "browser                0.0145      0.011      1.292      0.197      -0.007       0.036\n",
       "supply_type            0.6382      0.088      7.229      0.000       0.465       0.811\n",
       "os_extended           -0.2309      0.051     -4.484      0.000      -0.332      -0.130\n",
       "publisher              0.2363      0.057      4.140      0.000       0.124       0.348\n",
       "user_day               0.3747      0.034     11.025      0.000       0.308       0.441\n",
       "user_hour             -0.0223      0.012     -1.909      0.056      -0.045       0.001\n",
       "domctr                 4.9077      0.427     11.494      0.000       4.071       5.745\n",
       "pc & other devices  -239.3520   4.14e+06  -5.78e-05      1.000   -8.12e+06    8.12e+06\n",
       "tablet              -239.2222   4.14e+06  -5.78e-05      1.000   -8.12e+06    8.12e+06\n",
       "tv                  -238.1794   4.14e+06  -5.75e-05      1.000   -8.12e+06    8.12e+06\n",
       "game console        -218.5864   4.14e+06  -5.28e-05      1.000   -8.12e+06    8.12e+06\n",
       "320x50                -1.0852      0.310     -3.504      0.000      -1.692      -0.478\n",
       "728x90                -0.8429      0.729     -1.156      0.247      -2.271       0.586\n",
       "160x600               -1.1348      0.313     -3.627      0.000      -1.748      -0.522\n",
       "300x600               -0.9476      0.388     -2.442      0.015      -1.708      -0.187\n",
       "intercept            237.4871   4.14e+06   5.73e-05      1.000   -8.12e+06    8.12e+06\n",
       "======================================================================================\n",
       "\"\"\""
      ]
     },
     "execution_count": 900,
     "metadata": {},
     "output_type": "execute_result"
    }
   ],
   "source": [
    "ind = len(F.columns)\n",
    "print(ind)\n",
    "F.insert(ind,'intercept',1)\n",
    "logit_mod = sm.Logit(T, F[F.columns])\n",
    "results = logit_mod.fit()\n",
    "results.summary()"
   ]
  },
  {
   "cell_type": "code",
   "execution_count": 901,
   "metadata": {},
   "outputs": [],
   "source": [
    "F = F.drop('intercept',1)\n",
    "from sklearn.model_selection import train_test_split\n",
    "X_train, X_test, y_train, y_test = train_test_split(F,T, test_size=0.20, random_state=0)"
   ]
  },
  {
   "cell_type": "code",
   "execution_count": 902,
   "metadata": {},
   "outputs": [
    {
     "data": {
      "text/plain": [
       "Index(['position', 'browser', 'supply_type', 'os_extended', 'publisher',\n",
       "       'user_day', 'user_hour', 'domctr', 'pc & other devices', 'tablet', 'tv',\n",
       "       'game console', '320x50', '728x90', '160x600', '300x600'],\n",
       "      dtype='object')"
      ]
     },
     "execution_count": 902,
     "metadata": {},
     "output_type": "execute_result"
    }
   ],
   "source": [
    "F.columns"
   ]
  },
  {
   "cell_type": "code",
   "execution_count": 903,
   "metadata": {
    "collapsed": true
   },
   "outputs": [],
   "source": [
    "from sklearn.tree import DecisionTreeClassifier, export_graphviz\n",
    "from sklearn.ensemble import (RandomTreesEmbedding, RandomForestClassifier,\n",
    "                              GradientBoostingClassifier)"
   ]
  },
  {
   "cell_type": "code",
   "execution_count": 904,
   "metadata": {},
   "outputs": [
    {
     "data": {
      "text/plain": [
       "DecisionTreeClassifier(class_weight=None, criterion='gini', max_depth=None,\n",
       "            max_features=None, max_leaf_nodes=None,\n",
       "            min_impurity_decrease=0.0, min_impurity_split=None,\n",
       "            min_samples_leaf=1, min_samples_split=5,\n",
       "            min_weight_fraction_leaf=0.0, presort=False, random_state=99,\n",
       "            splitter='best')"
      ]
     },
     "execution_count": 904,
     "metadata": {},
     "output_type": "execute_result"
    }
   ],
   "source": [
    "y = y_train\n",
    "X = X_train\n",
    "dt = DecisionTreeClassifier(min_samples_split=5, random_state=99)\n",
    "dt.fit(X, y)"
   ]
  },
  {
   "cell_type": "code",
   "execution_count": 905,
   "metadata": {},
   "outputs": [
    {
     "data": {
      "text/plain": [
       "GradientBoostingClassifier(criterion='friedman_mse', init=None,\n",
       "              learning_rate=0.1, loss='deviance', max_depth=3,\n",
       "              max_features=None, max_leaf_nodes=None,\n",
       "              min_impurity_decrease=0.0, min_impurity_split=None,\n",
       "              min_samples_leaf=1, min_samples_split=2,\n",
       "              min_weight_fraction_leaf=0.0, n_estimators=20,\n",
       "              presort='auto', random_state=None, subsample=1.0, verbose=0,\n",
       "              warm_start=False)"
      ]
     },
     "execution_count": 905,
     "metadata": {},
     "output_type": "execute_result"
    }
   ],
   "source": [
    "grd = GradientBoostingClassifier(n_estimators=20)\n",
    "grd.fit(X,y)"
   ]
  },
  {
   "cell_type": "code",
   "execution_count": 906,
   "metadata": {},
   "outputs": [
    {
     "data": {
      "text/plain": [
       "RandomForestClassifier(bootstrap=True, class_weight=None, criterion='gini',\n",
       "            max_depth=None, max_features='auto', max_leaf_nodes=None,\n",
       "            min_impurity_decrease=0.0, min_impurity_split=None,\n",
       "            min_samples_leaf=1, min_samples_split=2,\n",
       "            min_weight_fraction_leaf=0.0, n_estimators=10, n_jobs=1,\n",
       "            oob_score=False, random_state=None, verbose=0,\n",
       "            warm_start=False)"
      ]
     },
     "execution_count": 906,
     "metadata": {},
     "output_type": "execute_result"
    }
   ],
   "source": [
    "from sklearn.ensemble import RandomForestClassifier, AdaBoostClassifier\n",
    "rf = RandomForestClassifier()\n",
    "rf.fit(X,y)"
   ]
  },
  {
   "cell_type": "code",
   "execution_count": 907,
   "metadata": {
    "collapsed": true
   },
   "outputs": [],
   "source": [
    "def visualize_tree(tree, feature_names):\n",
    "    \"\"\"Create tree png using graphviz.\n",
    "\n",
    "    Args\n",
    "    ----\n",
    "    tree -- scikit-learn DecsisionTree.\n",
    "    feature_names -- list of feature names.\n",
    "    \"\"\"\n",
    "    with open(\"dt.dot\", 'w') as f:\n",
    "        export_graphviz(tree, out_file=f,\n",
    "                        feature_names=feature_names)\n",
    "\n",
    "    command = [\"dot\", \"-Tpng\", \"dt.dot\", \"-o\", \"dt.png\"]\n",
    "    try:\n",
    "        subprocess.check_call(command)\n",
    "    except:\n",
    "        exit(\"Could not run dot, ie graphviz, to \"\n",
    "             \"produce visualization\")"
   ]
  },
  {
   "cell_type": "code",
   "execution_count": 908,
   "metadata": {},
   "outputs": [
    {
     "name": "stdout",
     "output_type": "stream",
     "text": [
      "Index(['position', 'browser', 'supply_type', 'os_extended', 'publisher',\n",
      "       'user_day', 'user_hour', 'domctr', 'pc & other devices', 'tablet', 'tv',\n",
      "       'game console', '320x50', '728x90', '160x600', '300x600'],\n",
      "      dtype='object')\n",
      "[ 0.00535357  0.05249414  0.1104265   0.1762422   0.13723943  0.09492511\n",
      "  0.20970922  0.0869392   0.01926823  0.01568629  0.02185114  0.\n",
      "  0.03822357  0.00463082  0.01485371  0.01215688]\n",
      "[[256  66]\n",
      " [ 57 101]]\n",
      "[[283  39]\n",
      " [ 84  74]]\n",
      "[[277  45]\n",
      " [ 57 101]]\n"
     ]
    }
   ],
   "source": [
    "from sklearn.metrics import confusion_matrix, precision_score, recall_score, accuracy_score\n",
    "features=X.columns\n",
    "print(features)\n",
    "print(dt.feature_importances_)\n",
    "\n",
    "visualize_tree(dt, features)\n",
    "preds = dt.predict(X_test, check_input=True)\n",
    "print(confusion_matrix(y_test, preds))\n",
    "preds2=grd.predict(X_test)\n",
    "print(confusion_matrix(y_test, preds2))\n",
    "\n",
    "preds3 = rf.predict(X_test)\n",
    "print(confusion_matrix(y_test,preds3))"
   ]
  },
  {
   "cell_type": "code",
   "execution_count": 910,
   "metadata": {},
   "outputs": [
    {
     "name": "stdout",
     "output_type": "stream",
     "text": [
      "480\n",
      "277 45\n",
      "57 101\n"
     ]
    }
   ],
   "source": [
    "N=len(y_test)\n",
    "print(N)\n",
    "neg_true=0\n",
    "pos_true=0\n",
    "pos_false=0\n",
    "neg_false=0\n",
    "y=np.array(y_test)\n",
    "for i in range(N):\n",
    "    if y[i] == 0:\n",
    "        if preds3[i]==0:\n",
    "            neg_true=neg_true+1\n",
    "        else :\n",
    "            neg_false=neg_false+1\n",
    "            \n",
    "    if y[i]==1:\n",
    "        if preds3[i]==1:\n",
    "            pos_true=pos_true+1\n",
    "        else:\n",
    "            pos_false=pos_false+1\n",
    "\n",
    "print(neg_true,neg_false)\n",
    "print(pos_false,pos_true)\n",
    "    "
   ]
  },
  {
   "cell_type": "code",
   "execution_count": 911,
   "metadata": {},
   "outputs": [
    {
     "data": {
      "text/plain": [
       "<matplotlib.axes._axes.Axes at 0x2978d29c5c0>"
      ]
     },
     "execution_count": 911,
     "metadata": {},
     "output_type": "execute_result"
    }
   ],
   "source": [
    "bkg['browser'].value_counts().plot(kind='bar')"
   ]
  },
  {
   "cell_type": "code",
   "execution_count": 921,
   "metadata": {},
   "outputs": [
    {
     "data": {
      "text/plain": [
       "array([ 1. ,  0. ,  0.9, ...,  0. ,  0. ,  0.1])"
      ]
     },
     "execution_count": 921,
     "metadata": {},
     "output_type": "execute_result"
    }
   ],
   "source": [
    "rf.predict_proba(X_train)[:,1]"
   ]
  },
  {
   "cell_type": "code",
   "execution_count": 931,
   "metadata": {},
   "outputs": [
    {
     "data": {
      "image/png": "[encoded data removed]",
      "text/plain": [
       "<matplotlib.figure.Figure at 0x2978e64a5f8>"
      ]
     },
     "metadata": {},
     "output_type": "display_data"
    },
    {
     "data": {
      "image/png": "[encoded data removed]",
      "text/plain": [
       "<matplotlib.figure.Figure at 0x2978e6dde48>"
      ]
     },
     "metadata": {},
     "output_type": "display_data"
    }
   ],
   "source": [
    "from sklearn.metrics import roc_curve\n",
    "\n",
    "y_pred_grd = rf.predict_proba(X_test)[:, 1]\n",
    "fpr_grd, tpr_grd, _ = roc_curve(y_test, y_pred_grd)\n",
    "\n",
    "\n",
    "# The random forest model by itself\n",
    "plt.figure(1)\n",
    "plt.plot(fpr_grd, tpr_grd, label='GBT')\n",
    "plt.xlabel('False positive rate')\n",
    "plt.ylabel('True positive rate')\n",
    "plt.title('ROC curve')\n",
    "plt.legend(loc='best')\n",
    "plt.show()\n",
    "\n",
    "plt.figure(2)\n",
    "plt.xlim(0, 0.2)\n",
    "plt.ylim(0.8, 1)\n",
    "plt.plot([0, 1], [0, 1], 'k--')\n",
    "plt.plot(fpr_grd, tpr_grd, label='GBT')\n",
    "plt.xlabel('False positive rate')\n",
    "plt.ylabel('True positive rate')\n",
    "plt.title('ROC curve (zoomed in at top left)')\n",
    "plt.legend(loc='best')\n",
    "plt.show()"
   ]
  },
  {
   "cell_type": "code",
   "execution_count": 930,
   "metadata": {},
   "outputs": [
    {
     "data": {
      "text/plain": [
       "0.65486725663716816"
      ]
     },
     "execution_count": 930,
     "metadata": {},
     "output_type": "execute_result"
    }
   ],
   "source": [
    "precision_score(y_test, preds2) "
   ]
  },
  {
   "cell_type": "code",
   "execution_count": 928,
   "metadata": {},
   "outputs": [
    {
     "data": {
      "text/plain": [
       "0.46835443037974683"
      ]
     },
     "execution_count": 928,
     "metadata": {},
     "output_type": "execute_result"
    }
   ],
   "source": [
    "recall_score(y_test, preds2)"
   ]
  },
  {
   "cell_type": "code",
   "execution_count": 920,
   "metadata": {},
   "outputs": [
    {
     "data": {
      "text/plain": [
       "0.74375000000000002"
      ]
     },
     "execution_count": 920,
     "metadata": {},
     "output_type": "execute_result"
    }
   ],
   "source": [
    "accuracy_score(y_test,preds2)"
   ]
  }
 ],
 "metadata": {
  "kernelspec": {
   "display_name": "Python 3",
   "language": "python",
   "name": "python3"
  },
  "language_info": {
   "codemirror_mode": {
    "name": "ipython",
    "version": 3
   },
   "file_extension": ".py",
   "mimetype": "text/x-python",
   "name": "python",
   "nbconvert_exporter": "python",
   "pygments_lexer": "ipython3",
   "version": "3.6.2"
  }
 },
 "nbformat": 4,
 "nbformat_minor": 2
}
