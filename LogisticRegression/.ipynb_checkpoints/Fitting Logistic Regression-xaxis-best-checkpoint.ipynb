{
 "cells": [
  {
   "cell_type": "markdown",
   "metadata": {},
   "source": [
    "### Fitting Logistic Regression\n",
    "\n",
    "In this first notebook, you will be fitting a logistic regression model to a dataset where we would like to predict if a transaction is fraud or not.\n",
    "\n",
    "To get started let's read in the libraries and take a quick look at the dataset."
   ]
  },
  {
   "cell_type": "code",
   "execution_count": 644,
   "metadata": {
    "collapsed": true
   },
   "outputs": [],
   "source": [
    "import numpy as np\n",
    "import pandas as pd\n",
    "import statsmodels.api as sm\n",
    "from sklearn.linear_model import LogisticRegression\n",
    "from sklearn import preprocessing\n",
    "import matplotlib.pyplot as plt\n",
    "import array"
   ]
  },
  {
   "cell_type": "code",
   "execution_count": 681,
   "metadata": {},
   "outputs": [
    {
     "name": "stdout",
     "output_type": "stream",
     "text": [
      "726\n",
      "15927\n",
      "16653\n"
     ]
    }
   ],
   "source": [
    "df = pd.read_csv('./data/xaxis/train.csv')\n",
    "df_test = pd.read_csv('./data/xaxis/test.csv')\n",
    "#Look for duplicated rows and drop them\n",
    "#df = df.drop_duplicates()\n",
    "\n",
    "#Some websites are NaN so dropping these\n",
    "#df.dropna(inplace=True)\n",
    "df['domain'].fillna('Unknown',inplace=True)\n",
    "\n",
    "#Since the carrier value is mostly 0, use that to undersample the background. To make\n",
    "# the background about 2*sig, reduce it to 8% of current sample\n",
    "df0 = df[(df['response']==0)]\n",
    "df1 = df[df['response']==1]\n",
    "print(len(df1))\n",
    "df0 = df0.sample(frac=0.1)\n",
    "print(len(df0))\n",
    "df = pd.concat([df0,df1])\n",
    "print(len(df))"
   ]
  },
  {
   "cell_type": "code",
   "execution_count": 682,
   "metadata": {},
   "outputs": [
    {
     "name": "stdout",
     "output_type": "stream",
     "text": [
      "0.045582972311169714\n"
     ]
    }
   ],
   "source": [
    "#Get Some info about df\n",
    "Nsig=len(df[df['response']==1].index)\n",
    "Nbkg=len(df[df['response']==0].index)\n",
    "ratio=Nsig/Nbkg\n",
    "print(ratio)"
   ]
  },
  {
   "cell_type": "markdown",
   "metadata": {},
   "source": [
    "5% of the sample has a response =1. Hence, this is an unbalanced sample. I would choose to use LogisticRegression or RandomForestClassifier, as these are known to perform well and reduce false negatives"
   ]
  },
  {
   "cell_type": "code",
   "execution_count": 683,
   "metadata": {
    "collapsed": true
   },
   "outputs": [],
   "source": [
    "savehrs = np.array(df['user_hour'])"
   ]
  },
  {
   "cell_type": "code",
   "execution_count": 684,
   "metadata": {},
   "outputs": [
    {
     "name": "stderr",
     "output_type": "stream",
     "text": [
      "C:\\ProgramData\\Anaconda3\\lib\\site-packages\\ipykernel_launcher.py:1: SettingWithCopyWarning: \n",
      "A value is trying to be set on a copy of a slice from a DataFrame\n",
      "\n",
      "See the caveats in the documentation: http://pandas.pydata.org/pandas-docs/stable/indexing.html#indexing-view-versus-copy\n",
      "  \"\"\"Entry point for launching an IPython kernel.\n"
     ]
    }
   ],
   "source": [
    "df['user_hour'][df['user_hour']>0]=1"
   ]
  },
  {
   "cell_type": "code",
   "execution_count": 685,
   "metadata": {},
   "outputs": [
    {
     "data": {
      "text/html": [
       "<div>\n",
       "<style>\n",
       "    .dataframe thead tr:only-child th {\n",
       "        text-align: right;\n",
       "    }\n",
       "\n",
       "    .dataframe thead th {\n",
       "        text-align: left;\n",
       "    }\n",
       "\n",
       "    .dataframe tbody tr th {\n",
       "        vertical-align: top;\n",
       "    }\n",
       "</style>\n",
       "<table border=\"1\" class=\"dataframe\">\n",
       "  <thead>\n",
       "    <tr style=\"text-align: right;\">\n",
       "      <th></th>\n",
       "      <th>domain</th>\n",
       "      <th>user_day</th>\n",
       "      <th>user_hour</th>\n",
       "      <th>response</th>\n",
       "      <th>ctr</th>\n",
       "    </tr>\n",
       "  </thead>\n",
       "  <tbody>\n",
       "    <tr>\n",
       "      <th>0</th>\n",
       "      <td>1001freefonts.com</td>\n",
       "      <td>3</td>\n",
       "      <td>1</td>\n",
       "      <td>0</td>\n",
       "      <td>0.0</td>\n",
       "    </tr>\n",
       "    <tr>\n",
       "      <th>1364</th>\n",
       "      <td>openload.cc</td>\n",
       "      <td>1</td>\n",
       "      <td>1</td>\n",
       "      <td>0</td>\n",
       "      <td>0.0</td>\n",
       "    </tr>\n",
       "    <tr>\n",
       "      <th>1363</th>\n",
       "      <td>openload.cc</td>\n",
       "      <td>0</td>\n",
       "      <td>1</td>\n",
       "      <td>0</td>\n",
       "      <td>0.0</td>\n",
       "    </tr>\n",
       "    <tr>\n",
       "      <th>1362</th>\n",
       "      <td>onlineslangdictionary.com</td>\n",
       "      <td>4</td>\n",
       "      <td>1</td>\n",
       "      <td>0</td>\n",
       "      <td>0.0</td>\n",
       "    </tr>\n",
       "    <tr>\n",
       "      <th>1361</th>\n",
       "      <td>onlinefanatic.com</td>\n",
       "      <td>5</td>\n",
       "      <td>1</td>\n",
       "      <td>0</td>\n",
       "      <td>0.0</td>\n",
       "    </tr>\n",
       "  </tbody>\n",
       "</table>\n",
       "</div>"
      ],
      "text/plain": [
       "                         domain  user_day  user_hour  response  ctr\n",
       "0             1001freefonts.com         3          1         0  0.0\n",
       "1364                openload.cc         1          1         0  0.0\n",
       "1363                openload.cc         0          1         0  0.0\n",
       "1362  onlineslangdictionary.com         4          1         0  0.0\n",
       "1361          onlinefanatic.com         5          1         0  0.0"
      ]
     },
     "execution_count": 685,
     "metadata": {},
     "output_type": "execute_result"
    }
   ],
   "source": [
    "#Group websites according to click through rate per user_day\n",
    "grouped = df.groupby(['domain','user_day'],as_index=False).agg({'user_hour':np.sum,'response':np.sum}).sort_values(by='response')\n",
    "grouped['ctr']=grouped['response']/grouped['user_hour']\n",
    "grouped.head()"
   ]
  },
  {
   "cell_type": "code",
   "execution_count": 686,
   "metadata": {},
   "outputs": [
    {
     "data": {
      "text/html": [
       "<div>\n",
       "<style>\n",
       "    .dataframe thead tr:only-child th {\n",
       "        text-align: right;\n",
       "    }\n",
       "\n",
       "    .dataframe thead th {\n",
       "        text-align: left;\n",
       "    }\n",
       "\n",
       "    .dataframe tbody tr th {\n",
       "        vertical-align: top;\n",
       "    }\n",
       "</style>\n",
       "<table border=\"1\" class=\"dataframe\">\n",
       "  <thead>\n",
       "    <tr style=\"text-align: right;\">\n",
       "      <th></th>\n",
       "      <th>placement</th>\n",
       "      <th>position</th>\n",
       "      <th>browser</th>\n",
       "      <th>carrier</th>\n",
       "      <th>domain</th>\n",
       "      <th>supply_type</th>\n",
       "      <th>language</th>\n",
       "      <th>region</th>\n",
       "      <th>os_extended</th>\n",
       "      <th>publisher</th>\n",
       "      <th>device_model</th>\n",
       "      <th>device_type</th>\n",
       "      <th>user_day</th>\n",
       "      <th>user_hour</th>\n",
       "      <th>size</th>\n",
       "      <th>response</th>\n",
       "      <th>domctr</th>\n",
       "    </tr>\n",
       "  </thead>\n",
       "  <tbody>\n",
       "    <tr>\n",
       "      <th>104878</th>\n",
       "      <td>5566875</td>\n",
       "      <td>0</td>\n",
       "      <td>9</td>\n",
       "      <td>1</td>\n",
       "      <td>mopub.com</td>\n",
       "      <td>1</td>\n",
       "      <td>1</td>\n",
       "      <td>0</td>\n",
       "      <td>166</td>\n",
       "      <td>633687</td>\n",
       "      <td>301</td>\n",
       "      <td>phone</td>\n",
       "      <td>4</td>\n",
       "      <td>1</td>\n",
       "      <td>320x50</td>\n",
       "      <td>0</td>\n",
       "      <td>0.000000</td>\n",
       "    </tr>\n",
       "    <tr>\n",
       "      <th>68880</th>\n",
       "      <td>8963386</td>\n",
       "      <td>2</td>\n",
       "      <td>8</td>\n",
       "      <td>1</td>\n",
       "      <td>cari.com.my</td>\n",
       "      <td>0</td>\n",
       "      <td>0</td>\n",
       "      <td>0</td>\n",
       "      <td>155</td>\n",
       "      <td>820132</td>\n",
       "      <td>0</td>\n",
       "      <td>pc &amp; other devices</td>\n",
       "      <td>5</td>\n",
       "      <td>1</td>\n",
       "      <td>300x250</td>\n",
       "      <td>0</td>\n",
       "      <td>0.000000</td>\n",
       "    </tr>\n",
       "    <tr>\n",
       "      <th>103321</th>\n",
       "      <td>6360701</td>\n",
       "      <td>0</td>\n",
       "      <td>8</td>\n",
       "      <td>1</td>\n",
       "      <td>kissasian.com</td>\n",
       "      <td>1</td>\n",
       "      <td>1</td>\n",
       "      <td>0</td>\n",
       "      <td>0</td>\n",
       "      <td>633687</td>\n",
       "      <td>100520</td>\n",
       "      <td>tv</td>\n",
       "      <td>0</td>\n",
       "      <td>1</td>\n",
       "      <td>300x250</td>\n",
       "      <td>0</td>\n",
       "      <td>0.036550</td>\n",
       "    </tr>\n",
       "    <tr>\n",
       "      <th>116646</th>\n",
       "      <td>5566875</td>\n",
       "      <td>0</td>\n",
       "      <td>21</td>\n",
       "      <td>1</td>\n",
       "      <td>kissasian.com</td>\n",
       "      <td>1</td>\n",
       "      <td>1</td>\n",
       "      <td>0</td>\n",
       "      <td>141</td>\n",
       "      <td>633687</td>\n",
       "      <td>0</td>\n",
       "      <td>pc &amp; other devices</td>\n",
       "      <td>6</td>\n",
       "      <td>1</td>\n",
       "      <td>320x50</td>\n",
       "      <td>0</td>\n",
       "      <td>0.000000</td>\n",
       "    </tr>\n",
       "    <tr>\n",
       "      <th>72823</th>\n",
       "      <td>6360701</td>\n",
       "      <td>0</td>\n",
       "      <td>4</td>\n",
       "      <td>1</td>\n",
       "      <td>dramacity.se</td>\n",
       "      <td>1</td>\n",
       "      <td>1</td>\n",
       "      <td>0</td>\n",
       "      <td>134</td>\n",
       "      <td>633687</td>\n",
       "      <td>100325</td>\n",
       "      <td>phone</td>\n",
       "      <td>1</td>\n",
       "      <td>1</td>\n",
       "      <td>300x250</td>\n",
       "      <td>0</td>\n",
       "      <td>0.000000</td>\n",
       "    </tr>\n",
       "    <tr>\n",
       "      <th>98349</th>\n",
       "      <td>6360701</td>\n",
       "      <td>0</td>\n",
       "      <td>8</td>\n",
       "      <td>1</td>\n",
       "      <td>icdrama.se</td>\n",
       "      <td>1</td>\n",
       "      <td>2</td>\n",
       "      <td>0</td>\n",
       "      <td>155</td>\n",
       "      <td>633687</td>\n",
       "      <td>0</td>\n",
       "      <td>pc &amp; other devices</td>\n",
       "      <td>4</td>\n",
       "      <td>1</td>\n",
       "      <td>300x250</td>\n",
       "      <td>0</td>\n",
       "      <td>0.000000</td>\n",
       "    </tr>\n",
       "    <tr>\n",
       "      <th>16714</th>\n",
       "      <td>999999</td>\n",
       "      <td>0</td>\n",
       "      <td>8</td>\n",
       "      <td>1</td>\n",
       "      <td>wuxiaworld.com</td>\n",
       "      <td>1</td>\n",
       "      <td>1</td>\n",
       "      <td>0</td>\n",
       "      <td>141</td>\n",
       "      <td>999999</td>\n",
       "      <td>0</td>\n",
       "      <td>pc &amp; other devices</td>\n",
       "      <td>0</td>\n",
       "      <td>1</td>\n",
       "      <td>300x250</td>\n",
       "      <td>0</td>\n",
       "      <td>0.018182</td>\n",
       "    </tr>\n",
       "    <tr>\n",
       "      <th>156298</th>\n",
       "      <td>8825983</td>\n",
       "      <td>0</td>\n",
       "      <td>8</td>\n",
       "      <td>1</td>\n",
       "      <td>dailymail.co.uk</td>\n",
       "      <td>0</td>\n",
       "      <td>1</td>\n",
       "      <td>0</td>\n",
       "      <td>92</td>\n",
       "      <td>677748</td>\n",
       "      <td>0</td>\n",
       "      <td>pc &amp; other devices</td>\n",
       "      <td>0</td>\n",
       "      <td>1</td>\n",
       "      <td>160x600</td>\n",
       "      <td>0</td>\n",
       "      <td>0.000000</td>\n",
       "    </tr>\n",
       "    <tr>\n",
       "      <th>107460</th>\n",
       "      <td>5566875</td>\n",
       "      <td>0</td>\n",
       "      <td>8</td>\n",
       "      <td>1</td>\n",
       "      <td>kissasian.com</td>\n",
       "      <td>1</td>\n",
       "      <td>1</td>\n",
       "      <td>0</td>\n",
       "      <td>156</td>\n",
       "      <td>633687</td>\n",
       "      <td>0</td>\n",
       "      <td>pc &amp; other devices</td>\n",
       "      <td>2</td>\n",
       "      <td>1</td>\n",
       "      <td>320x50</td>\n",
       "      <td>0</td>\n",
       "      <td>0.000000</td>\n",
       "    </tr>\n",
       "    <tr>\n",
       "      <th>88715</th>\n",
       "      <td>5566875</td>\n",
       "      <td>0</td>\n",
       "      <td>8</td>\n",
       "      <td>1</td>\n",
       "      <td>kissasian.com</td>\n",
       "      <td>1</td>\n",
       "      <td>1</td>\n",
       "      <td>0</td>\n",
       "      <td>155</td>\n",
       "      <td>633687</td>\n",
       "      <td>100234</td>\n",
       "      <td>phone</td>\n",
       "      <td>0</td>\n",
       "      <td>1</td>\n",
       "      <td>320x50</td>\n",
       "      <td>0</td>\n",
       "      <td>0.036550</td>\n",
       "    </tr>\n",
       "  </tbody>\n",
       "</table>\n",
       "</div>"
      ],
      "text/plain": [
       "        placement  position  browser  carrier           domain  supply_type  \\\n",
       "104878    5566875         0        9        1        mopub.com            1   \n",
       "68880     8963386         2        8        1      cari.com.my            0   \n",
       "103321    6360701         0        8        1    kissasian.com            1   \n",
       "116646    5566875         0       21        1    kissasian.com            1   \n",
       "72823     6360701         0        4        1     dramacity.se            1   \n",
       "98349     6360701         0        8        1       icdrama.se            1   \n",
       "16714      999999         0        8        1   wuxiaworld.com            1   \n",
       "156298    8825983         0        8        1  dailymail.co.uk            0   \n",
       "107460    5566875         0        8        1    kissasian.com            1   \n",
       "88715     5566875         0        8        1    kissasian.com            1   \n",
       "\n",
       "        language  region  os_extended  publisher  device_model  \\\n",
       "104878         1       0          166     633687           301   \n",
       "68880          0       0          155     820132             0   \n",
       "103321         1       0            0     633687        100520   \n",
       "116646         1       0          141     633687             0   \n",
       "72823          1       0          134     633687        100325   \n",
       "98349          2       0          155     633687             0   \n",
       "16714          1       0          141     999999             0   \n",
       "156298         1       0           92     677748             0   \n",
       "107460         1       0          156     633687             0   \n",
       "88715          1       0          155     633687        100234   \n",
       "\n",
       "               device_type  user_day  user_hour     size  response    domctr  \n",
       "104878               phone         4          1   320x50         0  0.000000  \n",
       "68880   pc & other devices         5          1  300x250         0  0.000000  \n",
       "103321                  tv         0          1  300x250         0  0.036550  \n",
       "116646  pc & other devices         6          1   320x50         0  0.000000  \n",
       "72823                phone         1          1  300x250         0  0.000000  \n",
       "98349   pc & other devices         4          1  300x250         0  0.000000  \n",
       "16714   pc & other devices         0          1  300x250         0  0.018182  \n",
       "156298  pc & other devices         0          1  160x600         0  0.000000  \n",
       "107460  pc & other devices         2          1   320x50         0  0.000000  \n",
       "88715                phone         0          1   320x50         0  0.036550  "
      ]
     },
     "execution_count": 686,
     "metadata": {},
     "output_type": "execute_result"
    }
   ],
   "source": [
    "#Make the dictionary for weekday and weekends separately and replace domain names\n",
    "#with CTR. Create a new category domctr (Domain CTR)\n",
    "mydict1 = grouped[grouped['user_day']==1].set_index(['domain']).to_dict()['ctr']\n",
    "mydict2 = grouped[grouped['user_day']==0].set_index(['domain']).to_dict()['ctr']\n",
    "#print(mydict1)\n",
    "\n",
    "df['domctr']=0.0\n",
    "df.loc[df['user_day']==1,'domctr'] = df[df['user_day']==1]['domain'].replace(mydict1)\n",
    "df.loc[df['user_day']==0,'domctr'] = df[df['user_day']==0]['domain'].replace(mydict2)\n",
    "df.head(10)"
   ]
  },
  {
   "cell_type": "code",
   "execution_count": 687,
   "metadata": {},
   "outputs": [
    {
     "data": {
      "text/plain": [
       "array([1, 0, 2, 3], dtype=int64)"
      ]
     },
     "execution_count": 687,
     "metadata": {},
     "output_type": "execute_result"
    }
   ],
   "source": [
    "# The time of the user hour is a useful variable, so use the original values back.\n",
    "df['user_hour']=savehrs\n",
    "df.loc[(df.user_hour<6),'user_hour']=0\n",
    "df.loc[(df.user_hour>=6) & (df.user_hour<=12),'user_hour']=1\n",
    "df.loc[(df.user_hour>12) & (df.user_hour<=17),'user_hour']=2\n",
    "df.loc[(df.user_hour>17) & (df.user_hour<=22),'user_hour']=3\n",
    "df.loc[(df.user_hour>22),'user_hour']=4\n",
    "df['user_hour'].unique()"
   ]
  },
  {
   "cell_type": "code",
   "execution_count": 688,
   "metadata": {},
   "outputs": [
    {
     "data": {
      "text/plain": [
       "False"
      ]
     },
     "execution_count": 688,
     "metadata": {},
     "output_type": "execute_result"
    }
   ],
   "source": [
    "#Check if anything wierd happened during dictionary translation\n",
    "df['domctr'].isnull().any().any()\n",
    "df.dropna(inplace=True)\n",
    "df['domctr'].isnull().any().any()"
   ]
  },
  {
   "cell_type": "code",
   "execution_count": 689,
   "metadata": {
    "collapsed": true
   },
   "outputs": [],
   "source": [
    "df['domctr']=np.float32(df['domctr'])"
   ]
  },
  {
   "cell_type": "code",
   "execution_count": 690,
   "metadata": {},
   "outputs": [
    {
     "data": {
      "text/html": [
       "<div>\n",
       "<style>\n",
       "    .dataframe thead tr:only-child th {\n",
       "        text-align: right;\n",
       "    }\n",
       "\n",
       "    .dataframe thead th {\n",
       "        text-align: left;\n",
       "    }\n",
       "\n",
       "    .dataframe tbody tr th {\n",
       "        vertical-align: top;\n",
       "    }\n",
       "</style>\n",
       "<table border=\"1\" class=\"dataframe\">\n",
       "  <thead>\n",
       "    <tr style=\"text-align: right;\">\n",
       "      <th></th>\n",
       "      <th>placement</th>\n",
       "      <th>position</th>\n",
       "      <th>browser</th>\n",
       "      <th>carrier</th>\n",
       "      <th>domain</th>\n",
       "      <th>supply_type</th>\n",
       "      <th>language</th>\n",
       "      <th>region</th>\n",
       "      <th>os_extended</th>\n",
       "      <th>publisher</th>\n",
       "      <th>...</th>\n",
       "      <th>domctr</th>\n",
       "      <th>pc &amp; other devices</th>\n",
       "      <th>tv</th>\n",
       "      <th>tablet</th>\n",
       "      <th>game console</th>\n",
       "      <th>set top box</th>\n",
       "      <th>320x50</th>\n",
       "      <th>300x250</th>\n",
       "      <th>160x600</th>\n",
       "      <th>300x600</th>\n",
       "    </tr>\n",
       "  </thead>\n",
       "  <tbody>\n",
       "    <tr>\n",
       "      <th>104878</th>\n",
       "      <td>5566875</td>\n",
       "      <td>0</td>\n",
       "      <td>9</td>\n",
       "      <td>1</td>\n",
       "      <td>mopub.com</td>\n",
       "      <td>1</td>\n",
       "      <td>1</td>\n",
       "      <td>0</td>\n",
       "      <td>166</td>\n",
       "      <td>633687</td>\n",
       "      <td>...</td>\n",
       "      <td>0.00000</td>\n",
       "      <td>0</td>\n",
       "      <td>1</td>\n",
       "      <td>0</td>\n",
       "      <td>0</td>\n",
       "      <td>0</td>\n",
       "      <td>0</td>\n",
       "      <td>0</td>\n",
       "      <td>0</td>\n",
       "      <td>0</td>\n",
       "    </tr>\n",
       "    <tr>\n",
       "      <th>68880</th>\n",
       "      <td>8963386</td>\n",
       "      <td>2</td>\n",
       "      <td>8</td>\n",
       "      <td>1</td>\n",
       "      <td>cari.com.my</td>\n",
       "      <td>0</td>\n",
       "      <td>0</td>\n",
       "      <td>0</td>\n",
       "      <td>155</td>\n",
       "      <td>820132</td>\n",
       "      <td>...</td>\n",
       "      <td>0.00000</td>\n",
       "      <td>1</td>\n",
       "      <td>0</td>\n",
       "      <td>0</td>\n",
       "      <td>0</td>\n",
       "      <td>0</td>\n",
       "      <td>0</td>\n",
       "      <td>1</td>\n",
       "      <td>0</td>\n",
       "      <td>0</td>\n",
       "    </tr>\n",
       "    <tr>\n",
       "      <th>103321</th>\n",
       "      <td>6360701</td>\n",
       "      <td>0</td>\n",
       "      <td>8</td>\n",
       "      <td>1</td>\n",
       "      <td>kissasian.com</td>\n",
       "      <td>1</td>\n",
       "      <td>1</td>\n",
       "      <td>0</td>\n",
       "      <td>0</td>\n",
       "      <td>633687</td>\n",
       "      <td>...</td>\n",
       "      <td>0.03655</td>\n",
       "      <td>0</td>\n",
       "      <td>0</td>\n",
       "      <td>0</td>\n",
       "      <td>0</td>\n",
       "      <td>1</td>\n",
       "      <td>0</td>\n",
       "      <td>1</td>\n",
       "      <td>0</td>\n",
       "      <td>0</td>\n",
       "    </tr>\n",
       "    <tr>\n",
       "      <th>116646</th>\n",
       "      <td>5566875</td>\n",
       "      <td>0</td>\n",
       "      <td>21</td>\n",
       "      <td>1</td>\n",
       "      <td>kissasian.com</td>\n",
       "      <td>1</td>\n",
       "      <td>1</td>\n",
       "      <td>0</td>\n",
       "      <td>141</td>\n",
       "      <td>633687</td>\n",
       "      <td>...</td>\n",
       "      <td>0.00000</td>\n",
       "      <td>1</td>\n",
       "      <td>0</td>\n",
       "      <td>0</td>\n",
       "      <td>0</td>\n",
       "      <td>0</td>\n",
       "      <td>0</td>\n",
       "      <td>0</td>\n",
       "      <td>0</td>\n",
       "      <td>0</td>\n",
       "    </tr>\n",
       "    <tr>\n",
       "      <th>72823</th>\n",
       "      <td>6360701</td>\n",
       "      <td>0</td>\n",
       "      <td>4</td>\n",
       "      <td>1</td>\n",
       "      <td>dramacity.se</td>\n",
       "      <td>1</td>\n",
       "      <td>1</td>\n",
       "      <td>0</td>\n",
       "      <td>134</td>\n",
       "      <td>633687</td>\n",
       "      <td>...</td>\n",
       "      <td>0.00000</td>\n",
       "      <td>0</td>\n",
       "      <td>1</td>\n",
       "      <td>0</td>\n",
       "      <td>0</td>\n",
       "      <td>0</td>\n",
       "      <td>0</td>\n",
       "      <td>1</td>\n",
       "      <td>0</td>\n",
       "      <td>0</td>\n",
       "    </tr>\n",
       "  </tbody>\n",
       "</table>\n",
       "<p>5 rows × 24 columns</p>\n",
       "</div>"
      ],
      "text/plain": [
       "        placement  position  browser  carrier         domain  supply_type  \\\n",
       "104878    5566875         0        9        1      mopub.com            1   \n",
       "68880     8963386         2        8        1    cari.com.my            0   \n",
       "103321    6360701         0        8        1  kissasian.com            1   \n",
       "116646    5566875         0       21        1  kissasian.com            1   \n",
       "72823     6360701         0        4        1   dramacity.se            1   \n",
       "\n",
       "        language  region  os_extended  publisher   ...      domctr  \\\n",
       "104878         1       0          166     633687   ...     0.00000   \n",
       "68880          0       0          155     820132   ...     0.00000   \n",
       "103321         1       0            0     633687   ...     0.03655   \n",
       "116646         1       0          141     633687   ...     0.00000   \n",
       "72823          1       0          134     633687   ...     0.00000   \n",
       "\n",
       "        pc & other devices  tv  tablet  game console  set top box  320x50  \\\n",
       "104878                   0   1       0             0            0       0   \n",
       "68880                    1   0       0             0            0       0   \n",
       "103321                   0   0       0             0            1       0   \n",
       "116646                   1   0       0             0            0       0   \n",
       "72823                    0   1       0             0            0       0   \n",
       "\n",
       "        300x250  160x600  300x600  \n",
       "104878        0        0        0  \n",
       "68880         1        0        0  \n",
       "103321        1        0        0  \n",
       "116646        0        0        0  \n",
       "72823         1        0        0  \n",
       "\n",
       "[5 rows x 24 columns]"
      ]
     },
     "execution_count": 690,
     "metadata": {},
     "output_type": "execute_result"
    }
   ],
   "source": [
    "#Features, create dummies for categorical variables\n",
    "dfx = df\n",
    "myarr=df['device_type'].unique()\n",
    "\n",
    "dfx[myarr]=pd.get_dummies(dfx['device_type'])\n",
    "dfx.drop('device_type',axis=1,inplace=True)\n",
    "dfx = dfx.drop('phone',1) \n",
    "\n",
    "myarr=dfx['size'].unique()\n",
    "dfx[myarr]=pd.get_dummies(dfx['size'])\n",
    "dfx.drop('size',axis=1,inplace=True)\n",
    "dfx = dfx.drop('728x90',1) \n",
    "dfx.head()"
   ]
  },
  {
   "cell_type": "code",
   "execution_count": 691,
   "metadata": {
    "scrolled": true
   },
   "outputs": [
    {
     "data": {
      "text/html": [
       "<div>\n",
       "<style>\n",
       "    .dataframe thead tr:only-child th {\n",
       "        text-align: right;\n",
       "    }\n",
       "\n",
       "    .dataframe thead th {\n",
       "        text-align: left;\n",
       "    }\n",
       "\n",
       "    .dataframe tbody tr th {\n",
       "        vertical-align: top;\n",
       "    }\n",
       "</style>\n",
       "<table border=\"1\" class=\"dataframe\">\n",
       "  <thead>\n",
       "    <tr style=\"text-align: right;\">\n",
       "      <th></th>\n",
       "      <th>placement</th>\n",
       "      <th>position</th>\n",
       "      <th>browser</th>\n",
       "      <th>carrier</th>\n",
       "      <th>domain</th>\n",
       "      <th>supply_type</th>\n",
       "      <th>language</th>\n",
       "      <th>region</th>\n",
       "      <th>os_extended</th>\n",
       "      <th>publisher</th>\n",
       "      <th>...</th>\n",
       "      <th>tablet</th>\n",
       "      <th>game console</th>\n",
       "      <th>set top box</th>\n",
       "      <th>320x50</th>\n",
       "      <th>300x250</th>\n",
       "      <th>160x600</th>\n",
       "      <th>300x600</th>\n",
       "      <th>day</th>\n",
       "      <th>afternoon</th>\n",
       "      <th>night</th>\n",
       "    </tr>\n",
       "  </thead>\n",
       "  <tbody>\n",
       "    <tr>\n",
       "      <th>104878</th>\n",
       "      <td>5566875</td>\n",
       "      <td>0</td>\n",
       "      <td>9</td>\n",
       "      <td>1</td>\n",
       "      <td>mopub.com</td>\n",
       "      <td>1</td>\n",
       "      <td>1</td>\n",
       "      <td>0</td>\n",
       "      <td>166</td>\n",
       "      <td>633687</td>\n",
       "      <td>...</td>\n",
       "      <td>0</td>\n",
       "      <td>0</td>\n",
       "      <td>0</td>\n",
       "      <td>0</td>\n",
       "      <td>0</td>\n",
       "      <td>0</td>\n",
       "      <td>0</td>\n",
       "      <td>1</td>\n",
       "      <td>0</td>\n",
       "      <td>0</td>\n",
       "    </tr>\n",
       "    <tr>\n",
       "      <th>68880</th>\n",
       "      <td>8963386</td>\n",
       "      <td>2</td>\n",
       "      <td>8</td>\n",
       "      <td>1</td>\n",
       "      <td>cari.com.my</td>\n",
       "      <td>0</td>\n",
       "      <td>0</td>\n",
       "      <td>0</td>\n",
       "      <td>155</td>\n",
       "      <td>820132</td>\n",
       "      <td>...</td>\n",
       "      <td>0</td>\n",
       "      <td>0</td>\n",
       "      <td>0</td>\n",
       "      <td>0</td>\n",
       "      <td>1</td>\n",
       "      <td>0</td>\n",
       "      <td>0</td>\n",
       "      <td>0</td>\n",
       "      <td>0</td>\n",
       "      <td>0</td>\n",
       "    </tr>\n",
       "    <tr>\n",
       "      <th>103321</th>\n",
       "      <td>6360701</td>\n",
       "      <td>0</td>\n",
       "      <td>8</td>\n",
       "      <td>1</td>\n",
       "      <td>kissasian.com</td>\n",
       "      <td>1</td>\n",
       "      <td>1</td>\n",
       "      <td>0</td>\n",
       "      <td>0</td>\n",
       "      <td>633687</td>\n",
       "      <td>...</td>\n",
       "      <td>0</td>\n",
       "      <td>0</td>\n",
       "      <td>1</td>\n",
       "      <td>0</td>\n",
       "      <td>1</td>\n",
       "      <td>0</td>\n",
       "      <td>0</td>\n",
       "      <td>1</td>\n",
       "      <td>0</td>\n",
       "      <td>0</td>\n",
       "    </tr>\n",
       "    <tr>\n",
       "      <th>116646</th>\n",
       "      <td>5566875</td>\n",
       "      <td>0</td>\n",
       "      <td>21</td>\n",
       "      <td>1</td>\n",
       "      <td>kissasian.com</td>\n",
       "      <td>1</td>\n",
       "      <td>1</td>\n",
       "      <td>0</td>\n",
       "      <td>141</td>\n",
       "      <td>633687</td>\n",
       "      <td>...</td>\n",
       "      <td>0</td>\n",
       "      <td>0</td>\n",
       "      <td>0</td>\n",
       "      <td>0</td>\n",
       "      <td>0</td>\n",
       "      <td>0</td>\n",
       "      <td>0</td>\n",
       "      <td>1</td>\n",
       "      <td>0</td>\n",
       "      <td>0</td>\n",
       "    </tr>\n",
       "    <tr>\n",
       "      <th>72823</th>\n",
       "      <td>6360701</td>\n",
       "      <td>0</td>\n",
       "      <td>4</td>\n",
       "      <td>1</td>\n",
       "      <td>dramacity.se</td>\n",
       "      <td>1</td>\n",
       "      <td>1</td>\n",
       "      <td>0</td>\n",
       "      <td>134</td>\n",
       "      <td>633687</td>\n",
       "      <td>...</td>\n",
       "      <td>0</td>\n",
       "      <td>0</td>\n",
       "      <td>0</td>\n",
       "      <td>0</td>\n",
       "      <td>1</td>\n",
       "      <td>0</td>\n",
       "      <td>0</td>\n",
       "      <td>1</td>\n",
       "      <td>0</td>\n",
       "      <td>0</td>\n",
       "    </tr>\n",
       "  </tbody>\n",
       "</table>\n",
       "<p>5 rows × 26 columns</p>\n",
       "</div>"
      ],
      "text/plain": [
       "        placement  position  browser  carrier         domain  supply_type  \\\n",
       "104878    5566875         0        9        1      mopub.com            1   \n",
       "68880     8963386         2        8        1    cari.com.my            0   \n",
       "103321    6360701         0        8        1  kissasian.com            1   \n",
       "116646    5566875         0       21        1  kissasian.com            1   \n",
       "72823     6360701         0        4        1   dramacity.se            1   \n",
       "\n",
       "        language  region  os_extended  publisher  ...    tablet  game console  \\\n",
       "104878         1       0          166     633687  ...         0             0   \n",
       "68880          0       0          155     820132  ...         0             0   \n",
       "103321         1       0            0     633687  ...         0             0   \n",
       "116646         1       0          141     633687  ...         0             0   \n",
       "72823          1       0          134     633687  ...         0             0   \n",
       "\n",
       "        set top box  320x50  300x250  160x600  300x600  day  afternoon  night  \n",
       "104878            0       0        0        0        0    1          0      0  \n",
       "68880             0       0        1        0        0    0          0      0  \n",
       "103321            1       0        1        0        0    1          0      0  \n",
       "116646            0       0        0        0        0    1          0      0  \n",
       "72823             0       0        1        0        0    1          0      0  \n",
       "\n",
       "[5 rows x 26 columns]"
      ]
     },
     "execution_count": 691,
     "metadata": {},
     "output_type": "execute_result"
    }
   ],
   "source": [
    "#myarr=dfx['user_hour'].unique()\n",
    "#print(myarr)\n",
    "dfx[['morning','day','afternoon','night']]=pd.get_dummies(dfx['user_hour'])\n",
    "dfx.drop('user_hour',axis=1,inplace=True)\n",
    "dfx = dfx.drop('morning',1) \n",
    "dfx.head()\n",
    "\n",
    "#Check the columns and check that the response variable is dropped\n",
    "dfx.columns\n",
    "dfx.head()"
   ]
  },
  {
   "cell_type": "code",
   "execution_count": 692,
   "metadata": {},
   "outputs": [
    {
     "name": "stdout",
     "output_type": "stream",
     "text": [
      "                    placement  position   browser   carrier  supply_type  \\\n",
      "placement            1.000000 -0.005022  0.015516  0.003069     0.119908   \n",
      "position            -0.005022  1.000000 -0.001719  0.013162    -0.287442   \n",
      "browser              0.015516 -0.001719  1.000000 -0.030918    -0.212435   \n",
      "carrier              0.003069  0.013162 -0.030918  1.000000     0.014361   \n",
      "supply_type          0.119908 -0.287442 -0.212435  0.014361     1.000000   \n",
      "language             0.023311  0.160433  0.016817 -0.029800    -0.049568   \n",
      "region              -0.014833 -0.001188 -0.031988  0.209903    -0.002678   \n",
      "os_extended         -0.012794 -0.016238  0.197878  0.100896    -0.096082   \n",
      "publisher            0.616794 -0.022565 -0.007972  0.041514     0.172696   \n",
      "device_model         0.004597 -0.065465  0.014147  0.002707     0.080906   \n",
      "user_day             0.226910 -0.071857 -0.101607 -0.013660     0.278770   \n",
      "response             0.128627 -0.041383 -0.018982  0.007781     0.121207   \n",
      "domctr              -0.021660 -0.038994  0.029522 -0.000574    -0.018863   \n",
      "pc & other devices  -0.041984  0.090381  0.030786 -0.024719    -0.137537   \n",
      "tv                   0.078744 -0.049583  0.041658  0.080487     0.122466   \n",
      "tablet               0.003237 -0.012378  0.024232 -0.013100     0.016198   \n",
      "game console        -0.025544 -0.047535 -0.012214 -0.062401     0.029912   \n",
      "set top box         -0.048026 -0.051204 -0.181657 -0.039718     0.020302   \n",
      "320x50               0.019184  0.398642  0.026266 -0.033941    -0.261995   \n",
      "300x250              0.098662 -0.163884  0.053780 -0.011168    -0.048171   \n",
      "160x600              0.017149  0.156561  0.015208 -0.037665    -0.160457   \n",
      "300x600             -0.056385  0.136236 -0.114115 -0.012726    -0.093764   \n",
      "day                 -0.085796 -0.037047  0.018440  0.059115     0.015316   \n",
      "afternoon            0.051185  0.095281 -0.001269 -0.011956    -0.144312   \n",
      "night                0.129574 -0.047806 -0.046658 -0.004759     0.173970   \n",
      "\n",
      "                    language    region  os_extended  publisher  device_model  \\\n",
      "placement           0.023311 -0.014833    -0.012794   0.616794      0.004597   \n",
      "position            0.160433 -0.001188    -0.016238  -0.022565     -0.065465   \n",
      "browser             0.016817 -0.031988     0.197878  -0.007972      0.014147   \n",
      "carrier            -0.029800  0.209903     0.100896   0.041514      0.002707   \n",
      "supply_type        -0.049568 -0.002678    -0.096082   0.172696      0.080906   \n",
      "language            1.000000 -0.006030    -0.038058   0.033713     -0.021988   \n",
      "region             -0.006030  1.000000     0.032050  -0.003069      0.012833   \n",
      "os_extended        -0.038058  0.032050     1.000000   0.066807     -0.173402   \n",
      "publisher           0.033713 -0.003069     0.066807   1.000000      0.033912   \n",
      "device_model       -0.021988  0.012833    -0.173402   0.033912      1.000000   \n",
      "user_day            0.006765 -0.003553    -0.054718   0.191649      0.017115   \n",
      "response           -0.007539  0.011542    -0.025477   0.104039      0.029875   \n",
      "domctr             -0.013797  0.000729     0.025690  -0.030666      0.008438   \n",
      "pc & other devices  0.033025 -0.016899    -0.015107  -0.089963     -0.498051   \n",
      "tv                 -0.025039  0.037895     0.189409   0.144232      0.394571   \n",
      "tablet             -0.004173 -0.004347     0.001277   0.002064      0.095228   \n",
      "game console       -0.006745 -0.028818     0.011486  -0.042096     -0.019641   \n",
      "set top box        -0.018067 -0.006687    -0.495331  -0.057614      0.412360   \n",
      "320x50              0.089302 -0.019318    -0.051402  -0.012911     -0.058789   \n",
      "300x250            -0.046942 -0.024192    -0.038059   0.089928      0.003058   \n",
      "160x600             0.062855 -0.010031    -0.056822   0.011811     -0.044161   \n",
      "300x600             0.062541  0.003513    -0.084001  -0.109328     -0.087270   \n",
      "day                -0.016051 -0.004031     0.055495  -0.053455      0.009990   \n",
      "afternoon           0.029856  0.000418    -0.075461   0.025161     -0.024068   \n",
      "night              -0.001188  0.011121    -0.041732   0.119340     -0.004744   \n",
      "\n",
      "                      ...       tablet  game console  set top box    320x50  \\\n",
      "placement             ...     0.003237     -0.025544    -0.048026  0.019184   \n",
      "position              ...    -0.012378     -0.047535    -0.051204  0.398642   \n",
      "browser               ...     0.024232     -0.012214    -0.181657  0.026266   \n",
      "carrier               ...    -0.013100     -0.062401    -0.039718 -0.033941   \n",
      "supply_type           ...     0.016198      0.029912     0.020302 -0.261995   \n",
      "language              ...    -0.004173     -0.006745    -0.018067  0.089302   \n",
      "region                ...    -0.004347     -0.028818    -0.006687 -0.019318   \n",
      "os_extended           ...     0.001277      0.011486    -0.495331 -0.051402   \n",
      "publisher             ...     0.002064     -0.042096    -0.057614 -0.012911   \n",
      "device_model          ...     0.095228     -0.019641     0.412360 -0.058789   \n",
      "user_day              ...     0.012855     -0.002911    -0.010099 -0.051400   \n",
      "response              ...    -0.007407     -0.021712    -0.024055 -0.007117   \n",
      "domctr                ...     0.000536     -0.010459     0.002978 -0.013599   \n",
      "pc & other devices    ...    -0.044000     -0.373839    -0.190480  0.077981   \n",
      "tv                    ...    -0.021500     -0.182675    -0.093077 -0.066166   \n",
      "tablet                ...     1.000000     -0.010222    -0.005208 -0.007311   \n",
      "game console          ...    -0.010222      1.000000    -0.044251 -0.014905   \n",
      "set top box           ...    -0.005208     -0.044251     1.000000 -0.023540   \n",
      "320x50                ...    -0.007311     -0.014905    -0.023540  1.000000   \n",
      "300x250               ...     0.007677      0.130825     0.073993 -0.206342   \n",
      "160x600               ...    -0.004106     -0.017802    -0.017775 -0.024951   \n",
      "300x600               ...    -0.009191     -0.015447    -0.039789 -0.055853   \n",
      "day                   ...    -0.010280      0.027629    -0.003443  0.016922   \n",
      "afternoon             ...     0.000665     -0.045218     0.013108  0.020392   \n",
      "night                 ...     0.008220     -0.021995    -0.017426 -0.019857   \n",
      "\n",
      "                     300x250   160x600   300x600       day  afternoon  \\\n",
      "placement           0.098662  0.017149 -0.056385 -0.085796   0.051185   \n",
      "position           -0.163884  0.156561  0.136236 -0.037047   0.095281   \n",
      "browser             0.053780  0.015208 -0.114115  0.018440  -0.001269   \n",
      "carrier            -0.011168 -0.037665 -0.012726  0.059115  -0.011956   \n",
      "supply_type        -0.048171 -0.160457 -0.093764  0.015316  -0.144312   \n",
      "language           -0.046942  0.062855  0.062541 -0.016051   0.029856   \n",
      "region             -0.024192 -0.010031  0.003513 -0.004031   0.000418   \n",
      "os_extended        -0.038059 -0.056822 -0.084001  0.055495  -0.075461   \n",
      "publisher           0.089928  0.011811 -0.109328 -0.053455   0.025161   \n",
      "device_model        0.003058 -0.044161 -0.087270  0.009990  -0.024068   \n",
      "user_day           -0.040888 -0.025986  0.040976 -0.028800   0.005671   \n",
      "response           -0.006049 -0.020241 -0.023324 -0.022357   0.013498   \n",
      "domctr             -0.013595 -0.018366 -0.031100  0.025938  -0.017581   \n",
      "pc & other devices -0.051257  0.067909  0.141509 -0.039079   0.066353   \n",
      "tv                 -0.050156 -0.056136 -0.129031  0.027836  -0.047797   \n",
      "tablet              0.007677 -0.004106 -0.009191 -0.010280   0.000665   \n",
      "game console        0.130825 -0.017802 -0.015447  0.027629  -0.045218   \n",
      "set top box         0.073993 -0.017775 -0.039789 -0.003443   0.013108   \n",
      "320x50             -0.206342 -0.024951 -0.055853  0.016922   0.020392   \n",
      "300x250             1.000000 -0.115883 -0.259406 -0.033313   0.055710   \n",
      "160x600            -0.115883  1.000000 -0.031367 -0.017488   0.043408   \n",
      "300x600            -0.259406 -0.031367  1.000000 -0.056868   0.097188   \n",
      "day                -0.033313 -0.017488 -0.056868  1.000000  -0.720405   \n",
      "afternoon           0.055710  0.043408  0.097188 -0.720405   1.000000   \n",
      "night              -0.023128 -0.012303  0.012784 -0.122723  -0.109213   \n",
      "\n",
      "                       night  \n",
      "placement           0.129574  \n",
      "position           -0.047806  \n",
      "browser            -0.046658  \n",
      "carrier            -0.004759  \n",
      "supply_type         0.173970  \n",
      "language           -0.001188  \n",
      "region              0.011121  \n",
      "os_extended        -0.041732  \n",
      "publisher           0.119340  \n",
      "device_model       -0.004744  \n",
      "user_day            0.134751  \n",
      "response            0.049954  \n",
      "domctr             -0.026593  \n",
      "pc & other devices  0.003241  \n",
      "tv                  0.015647  \n",
      "tablet              0.008220  \n",
      "game console       -0.021995  \n",
      "set top box        -0.017426  \n",
      "320x50             -0.019857  \n",
      "300x250            -0.023128  \n",
      "160x600            -0.012303  \n",
      "300x600             0.012784  \n",
      "day                -0.122723  \n",
      "afternoon          -0.109213  \n",
      "night               1.000000  \n",
      "\n",
      "[25 rows x 25 columns]\n"
     ]
    },
    {
     "ename": "ValueError",
     "evalue": "not enough values to unpack (expected 2, got 0)",
     "output_type": "error",
     "traceback": [
      "\u001b[1;31m---------------------------------------------------------------------------\u001b[0m",
      "\u001b[1;31mValueError\u001b[0m                                Traceback (most recent call last)",
      "\u001b[1;32m<ipython-input-692-7becd9bf77c3>\u001b[0m in \u001b[0;36m<module>\u001b[1;34m()\u001b[0m\n\u001b[0;32m      1\u001b[0m \u001b[1;31m#Correlation Matrix\u001b[0m\u001b[1;33m\u001b[0m\u001b[1;33m\u001b[0m\u001b[0m\n\u001b[0;32m      2\u001b[0m \u001b[0mprint\u001b[0m\u001b[1;33m(\u001b[0m\u001b[0mdfx\u001b[0m\u001b[1;33m.\u001b[0m\u001b[0mcorr\u001b[0m\u001b[1;33m(\u001b[0m\u001b[1;33m)\u001b[0m\u001b[1;33m)\u001b[0m\u001b[1;33m\u001b[0m\u001b[0m\n\u001b[1;32m----> 3\u001b[1;33m \u001b[0mplt\u001b[0m\u001b[1;33m.\u001b[0m\u001b[0mmatshow\u001b[0m\u001b[1;33m(\u001b[0m\u001b[0mdfx\u001b[0m\u001b[1;33m.\u001b[0m\u001b[0mcorr\u001b[0m\u001b[1;33m)\u001b[0m\u001b[1;33m\u001b[0m\u001b[0m\n\u001b[0m",
      "\u001b[1;32mC:\\ProgramData\\Anaconda3\\lib\\site-packages\\matplotlib\\pyplot.py\u001b[0m in \u001b[0;36mmatshow\u001b[1;34m(A, fignum, **kw)\u001b[0m\n\u001b[0;32m   2352\u001b[0m     \u001b[1;32melse\u001b[0m\u001b[1;33m:\u001b[0m\u001b[1;33m\u001b[0m\u001b[0m\n\u001b[0;32m   2353\u001b[0m         \u001b[1;31m# Extract actual aspect ratio of array and make appropriately sized figure\u001b[0m\u001b[1;33m\u001b[0m\u001b[1;33m\u001b[0m\u001b[0m\n\u001b[1;32m-> 2354\u001b[1;33m         \u001b[0mfig\u001b[0m \u001b[1;33m=\u001b[0m \u001b[0mfigure\u001b[0m\u001b[1;33m(\u001b[0m\u001b[0mfignum\u001b[0m\u001b[1;33m,\u001b[0m \u001b[0mfigsize\u001b[0m\u001b[1;33m=\u001b[0m\u001b[0mfigaspect\u001b[0m\u001b[1;33m(\u001b[0m\u001b[0mA\u001b[0m\u001b[1;33m)\u001b[0m\u001b[1;33m)\u001b[0m\u001b[1;33m\u001b[0m\u001b[0m\n\u001b[0m\u001b[0;32m   2355\u001b[0m         \u001b[0max\u001b[0m  \u001b[1;33m=\u001b[0m \u001b[0mfig\u001b[0m\u001b[1;33m.\u001b[0m\u001b[0madd_axes\u001b[0m\u001b[1;33m(\u001b[0m\u001b[1;33m[\u001b[0m\u001b[1;36m0.15\u001b[0m\u001b[1;33m,\u001b[0m \u001b[1;36m0.09\u001b[0m\u001b[1;33m,\u001b[0m \u001b[1;36m0.775\u001b[0m\u001b[1;33m,\u001b[0m \u001b[1;36m0.775\u001b[0m\u001b[1;33m]\u001b[0m\u001b[1;33m)\u001b[0m\u001b[1;33m\u001b[0m\u001b[0m\n\u001b[0;32m   2356\u001b[0m \u001b[1;33m\u001b[0m\u001b[0m\n",
      "\u001b[1;32mC:\\ProgramData\\Anaconda3\\lib\\site-packages\\matplotlib\\figure.py\u001b[0m in \u001b[0;36mfigaspect\u001b[1;34m(arg)\u001b[0m\n\u001b[0;32m   1795\u001b[0m     \u001b[1;31m# Extract the aspect ratio of the array\u001b[0m\u001b[1;33m\u001b[0m\u001b[1;33m\u001b[0m\u001b[0m\n\u001b[0;32m   1796\u001b[0m     \u001b[1;32mif\u001b[0m \u001b[0misarray\u001b[0m\u001b[1;33m:\u001b[0m\u001b[1;33m\u001b[0m\u001b[0m\n\u001b[1;32m-> 1797\u001b[1;33m         \u001b[0mnr\u001b[0m\u001b[1;33m,\u001b[0m \u001b[0mnc\u001b[0m \u001b[1;33m=\u001b[0m \u001b[0marg\u001b[0m\u001b[1;33m.\u001b[0m\u001b[0mshape\u001b[0m\u001b[1;33m[\u001b[0m\u001b[1;33m:\u001b[0m\u001b[1;36m2\u001b[0m\u001b[1;33m]\u001b[0m\u001b[1;33m\u001b[0m\u001b[0m\n\u001b[0m\u001b[0;32m   1798\u001b[0m         \u001b[0marr_ratio\u001b[0m \u001b[1;33m=\u001b[0m \u001b[0mfloat\u001b[0m\u001b[1;33m(\u001b[0m\u001b[0mnr\u001b[0m\u001b[1;33m)\u001b[0m \u001b[1;33m/\u001b[0m \u001b[0mnc\u001b[0m\u001b[1;33m\u001b[0m\u001b[0m\n\u001b[0;32m   1799\u001b[0m     \u001b[1;32melse\u001b[0m\u001b[1;33m:\u001b[0m\u001b[1;33m\u001b[0m\u001b[0m\n",
      "\u001b[1;31mValueError\u001b[0m: not enough values to unpack (expected 2, got 0)"
     ]
    }
   ],
   "source": [
    "#Correlation Matrix\n",
    "print(dfx.corr())\n",
    "plt.matshow(dfx.corr)"
   ]
  },
  {
   "cell_type": "code",
   "execution_count": 693,
   "metadata": {},
   "outputs": [
    {
     "name": "stdout",
     "output_type": "stream",
     "text": [
      "[-0.41446725  0.56324655 -0.41446725 ..., -0.41446725  1.48144643\n",
      "  1.48144643]\n",
      "[-0.57027625  0.63184579 -0.28931861 ..., -0.57027625  1.43691384\n",
      "  1.5826478 ]\n",
      "[ 0.86549726  0.58884929 -3.30937208 ...,  0.23675188  0.23675188\n",
      "  0.6139991 ]\n"
     ]
    },
    {
     "name": "stderr",
     "output_type": "stream",
     "text": [
      "C:\\ProgramData\\Anaconda3\\lib\\site-packages\\sklearn\\utils\\validation.py:444: DataConversionWarning: Data with input dtype int64 was converted to float64 by the scale function.\n",
      "  warnings.warn(msg, DataConversionWarning)\n"
     ]
    }
   ],
   "source": [
    "#Preprocessing\n",
    "X_scaled= preprocessing.scale(dfx['publisher'])\n",
    "print(X_scaled)\n",
    "dfx['publisher']=X_scaled\n",
    "\n",
    "\n",
    "X_scaled= preprocessing.scale(dfx['placement'])\n",
    "print(X_scaled)\n",
    "dfx['placement']=X_scaled\n",
    "\n",
    "X_scaled= preprocessing.scale(dfx['os_extended'])\n",
    "print(X_scaled)\n",
    "dfx['os_extended']=X_scaled"
   ]
  },
  {
   "cell_type": "code",
   "execution_count": 694,
   "metadata": {
    "collapsed": true
   },
   "outputs": [],
   "source": [
    "#Create the features data set\n",
    "T =dfx['response']\n",
    "F = dfx.drop(['publisher','browser','domain','device_model','carrier','language','region','response','pc & other devices','tv','set top box','tablet','300x600','320x50'],1)\n",
    "#F = dfx[['publisher','os_extended','domctr','user_hour','user_day']]"
   ]
  },
  {
   "cell_type": "code",
   "execution_count": 695,
   "metadata": {
    "collapsed": true
   },
   "outputs": [],
   "source": [
    "#np.array(dfx['domctr'][1001:1600])\n",
    "#in case of infinities\n",
    "F['domctr'].replace(np.inf, 0, inplace=True)\n",
    "F['domctr'] = np.float32(F['domctr']) #float64 creates problems"
   ]
  },
  {
   "cell_type": "markdown",
   "metadata": {},
   "source": [
    "There are 823 Unique Publisher values"
   ]
  },
  {
   "cell_type": "markdown",
   "metadata": {},
   "source": [
    "Browser values are not unique groups as some domain names overlap between the two browser groups. So what else?"
   ]
  },
  {
   "cell_type": "code",
   "execution_count": 696,
   "metadata": {
    "collapsed": true
   },
   "outputs": [],
   "source": [
    "bkg= df[(df.response==0)]\n",
    "sig= df[(df.response==1)]"
   ]
  },
  {
   "cell_type": "code",
   "execution_count": 697,
   "metadata": {},
   "outputs": [
    {
     "name": "stdout",
     "output_type": "stream",
     "text": [
      "<bound method PCA.score of PCA(copy=True, iterated_power='auto', n_components=12, random_state=None,\n",
      "  svd_solver='auto', tol=0.0, whiten=False)>\n",
      "[  5.46078342e-01   1.34264467e-01   1.26019269e-01   6.13390604e-02\n",
      "   4.87518389e-02   3.69838444e-02   2.41601611e-02   9.59324996e-03\n",
      "   8.87970976e-03   2.02970496e-03   1.71410582e-03   1.86246700e-04]\n",
      "[ 260.60994989  129.22426276  125.19356148   87.3437987    77.86799955\n",
      "   67.82183617   54.81676843   34.54191387   33.23249147   15.88839298\n",
      "   14.60099093    4.81291077]\n",
      "<class 'pandas.core.frame.DataFrame'>\n",
      "Int64Index: 16644 entries, 104878 to 159995\n",
      "Data columns (total 12 columns):\n",
      "placement       16644 non-null float64\n",
      "position        16644 non-null int64\n",
      "supply_type     16644 non-null int64\n",
      "os_extended     16644 non-null float64\n",
      "user_day        16644 non-null int64\n",
      "domctr          16644 non-null float32\n",
      "game console    16644 non-null uint8\n",
      "300x250         16644 non-null uint8\n",
      "160x600         16644 non-null uint8\n",
      "day             16644 non-null uint8\n",
      "afternoon       16644 non-null uint8\n",
      "night           16644 non-null uint8\n",
      "dtypes: float32(1), float64(2), int64(3), uint8(6)\n",
      "memory usage: 942.7 KB\n"
     ]
    }
   ],
   "source": [
    "from sklearn.decomposition import PCA\n",
    "ncomp=len(F.columns)\n",
    "dfx.isnull().any().any()\n",
    "pca = PCA(n_components=ncomp)\n",
    "pca.fit(F)\n",
    "print(pca.score)\n",
    "print(pca.explained_variance_ratio_)  \n",
    "print(pca.singular_values_)  \n",
    "F.info()"
   ]
  },
  {
   "cell_type": "code",
   "execution_count": 698,
   "metadata": {},
   "outputs": [
    {
     "data": {
      "text/html": [
       "<div>\n",
       "<style>\n",
       "    .dataframe thead tr:only-child th {\n",
       "        text-align: right;\n",
       "    }\n",
       "\n",
       "    .dataframe thead th {\n",
       "        text-align: left;\n",
       "    }\n",
       "\n",
       "    .dataframe tbody tr th {\n",
       "        vertical-align: top;\n",
       "    }\n",
       "</style>\n",
       "<table border=\"1\" class=\"dataframe\">\n",
       "  <thead>\n",
       "    <tr style=\"text-align: right;\">\n",
       "      <th></th>\n",
       "      <th>placement</th>\n",
       "      <th>position</th>\n",
       "      <th>supply_type</th>\n",
       "      <th>os_extended</th>\n",
       "      <th>user_day</th>\n",
       "      <th>domctr</th>\n",
       "      <th>game console</th>\n",
       "      <th>300x250</th>\n",
       "      <th>160x600</th>\n",
       "      <th>day</th>\n",
       "      <th>afternoon</th>\n",
       "      <th>night</th>\n",
       "    </tr>\n",
       "  </thead>\n",
       "  <tbody>\n",
       "    <tr>\n",
       "      <th>104878</th>\n",
       "      <td>-0.570276</td>\n",
       "      <td>0</td>\n",
       "      <td>1</td>\n",
       "      <td>0.865497</td>\n",
       "      <td>4</td>\n",
       "      <td>0.00000</td>\n",
       "      <td>0</td>\n",
       "      <td>0</td>\n",
       "      <td>0</td>\n",
       "      <td>1</td>\n",
       "      <td>0</td>\n",
       "      <td>0</td>\n",
       "    </tr>\n",
       "    <tr>\n",
       "      <th>68880</th>\n",
       "      <td>0.631846</td>\n",
       "      <td>2</td>\n",
       "      <td>0</td>\n",
       "      <td>0.588849</td>\n",
       "      <td>5</td>\n",
       "      <td>0.00000</td>\n",
       "      <td>0</td>\n",
       "      <td>1</td>\n",
       "      <td>0</td>\n",
       "      <td>0</td>\n",
       "      <td>0</td>\n",
       "      <td>0</td>\n",
       "    </tr>\n",
       "    <tr>\n",
       "      <th>103321</th>\n",
       "      <td>-0.289319</td>\n",
       "      <td>0</td>\n",
       "      <td>1</td>\n",
       "      <td>-3.309372</td>\n",
       "      <td>0</td>\n",
       "      <td>0.03655</td>\n",
       "      <td>0</td>\n",
       "      <td>1</td>\n",
       "      <td>0</td>\n",
       "      <td>1</td>\n",
       "      <td>0</td>\n",
       "      <td>0</td>\n",
       "    </tr>\n",
       "    <tr>\n",
       "      <th>116646</th>\n",
       "      <td>-0.570276</td>\n",
       "      <td>0</td>\n",
       "      <td>1</td>\n",
       "      <td>0.236752</td>\n",
       "      <td>6</td>\n",
       "      <td>0.00000</td>\n",
       "      <td>0</td>\n",
       "      <td>0</td>\n",
       "      <td>0</td>\n",
       "      <td>1</td>\n",
       "      <td>0</td>\n",
       "      <td>0</td>\n",
       "    </tr>\n",
       "    <tr>\n",
       "      <th>72823</th>\n",
       "      <td>-0.289319</td>\n",
       "      <td>0</td>\n",
       "      <td>1</td>\n",
       "      <td>0.060703</td>\n",
       "      <td>1</td>\n",
       "      <td>0.00000</td>\n",
       "      <td>0</td>\n",
       "      <td>1</td>\n",
       "      <td>0</td>\n",
       "      <td>1</td>\n",
       "      <td>0</td>\n",
       "      <td>0</td>\n",
       "    </tr>\n",
       "  </tbody>\n",
       "</table>\n",
       "</div>"
      ],
      "text/plain": [
       "        placement  position  supply_type  os_extended  user_day   domctr  \\\n",
       "104878  -0.570276         0            1     0.865497         4  0.00000   \n",
       "68880    0.631846         2            0     0.588849         5  0.00000   \n",
       "103321  -0.289319         0            1    -3.309372         0  0.03655   \n",
       "116646  -0.570276         0            1     0.236752         6  0.00000   \n",
       "72823   -0.289319         0            1     0.060703         1  0.00000   \n",
       "\n",
       "        game console  300x250  160x600  day  afternoon  night  \n",
       "104878             0        0        0    1          0      0  \n",
       "68880              0        1        0    0          0      0  \n",
       "103321             0        1        0    1          0      0  \n",
       "116646             0        0        0    1          0      0  \n",
       "72823              0        1        0    1          0      0  "
      ]
     },
     "execution_count": 698,
     "metadata": {},
     "output_type": "execute_result"
    }
   ],
   "source": [
    "F.head()"
   ]
  },
  {
   "cell_type": "code",
   "execution_count": 699,
   "metadata": {
    "scrolled": true
   },
   "outputs": [
    {
     "name": "stdout",
     "output_type": "stream",
     "text": [
      "12\n",
      "Optimization terminated successfully.\n",
      "         Current function value: 0.159990\n",
      "         Iterations 9\n"
     ]
    },
    {
     "data": {
      "text/html": [
       "<table class=\"simpletable\">\n",
       "<caption>Logit Regression Results</caption>\n",
       "<tr>\n",
       "  <th>Dep. Variable:</th>     <td>response</td>     <th>  No. Observations:  </th>   <td> 16644</td>  \n",
       "</tr>\n",
       "<tr>\n",
       "  <th>Model:</th>               <td>Logit</td>      <th>  Df Residuals:      </th>   <td> 16631</td>  \n",
       "</tr>\n",
       "<tr>\n",
       "  <th>Method:</th>               <td>MLE</td>       <th>  Df Model:          </th>   <td>    12</td>  \n",
       "</tr>\n",
       "<tr>\n",
       "  <th>Date:</th>          <td>Thu, 01 Feb 2018</td> <th>  Pseudo R-squ.:     </th>   <td>0.1076</td>  \n",
       "</tr>\n",
       "<tr>\n",
       "  <th>Time:</th>              <td>20:43:02</td>     <th>  Log-Likelihood:    </th>  <td> -2662.9</td> \n",
       "</tr>\n",
       "<tr>\n",
       "  <th>converged:</th>           <td>True</td>       <th>  LL-Null:           </th>  <td> -2983.9</td> \n",
       "</tr>\n",
       "<tr>\n",
       "  <th> </th>                      <td> </td>        <th>  LLR p-value:       </th> <td>1.053e-129</td>\n",
       "</tr>\n",
       "</table>\n",
       "<table class=\"simpletable\">\n",
       "<tr>\n",
       "        <td></td>          <th>coef</th>     <th>std err</th>      <th>z</th>      <th>P>|z|</th>  <th>[0.025</th>    <th>0.975]</th>  \n",
       "</tr>\n",
       "<tr>\n",
       "  <th>placement</th>    <td>    0.4727</td> <td>    0.042</td> <td>   11.208</td> <td> 0.000</td> <td>    0.390</td> <td>    0.555</td>\n",
       "</tr>\n",
       "<tr>\n",
       "  <th>position</th>     <td>   -0.2599</td> <td>    0.116</td> <td>   -2.238</td> <td> 0.025</td> <td>   -0.488</td> <td>   -0.032</td>\n",
       "</tr>\n",
       "<tr>\n",
       "  <th>supply_type</th>  <td>    0.5351</td> <td>    0.066</td> <td>    8.127</td> <td> 0.000</td> <td>    0.406</td> <td>    0.664</td>\n",
       "</tr>\n",
       "<tr>\n",
       "  <th>os_extended</th>  <td>   -0.0623</td> <td>    0.038</td> <td>   -1.628</td> <td> 0.103</td> <td>   -0.137</td> <td>    0.013</td>\n",
       "</tr>\n",
       "<tr>\n",
       "  <th>user_day</th>     <td>    0.1548</td> <td>    0.025</td> <td>    6.099</td> <td> 0.000</td> <td>    0.105</td> <td>    0.205</td>\n",
       "</tr>\n",
       "<tr>\n",
       "  <th>domctr</th>       <td>    9.8349</td> <td>    1.004</td> <td>    9.793</td> <td> 0.000</td> <td>    7.867</td> <td>   11.803</td>\n",
       "</tr>\n",
       "<tr>\n",
       "  <th>game console</th> <td>   -0.3457</td> <td>    0.174</td> <td>   -1.989</td> <td> 0.047</td> <td>   -0.686</td> <td>   -0.005</td>\n",
       "</tr>\n",
       "<tr>\n",
       "  <th>300x250</th>      <td>   -0.1708</td> <td>    0.082</td> <td>   -2.086</td> <td> 0.037</td> <td>   -0.331</td> <td>   -0.010</td>\n",
       "</tr>\n",
       "<tr>\n",
       "  <th>160x600</th>      <td>   -0.9823</td> <td>    0.720</td> <td>   -1.365</td> <td> 0.172</td> <td>   -2.393</td> <td>    0.428</td>\n",
       "</tr>\n",
       "<tr>\n",
       "  <th>day</th>          <td>    0.1317</td> <td>    0.125</td> <td>    1.055</td> <td> 0.291</td> <td>   -0.113</td> <td>    0.376</td>\n",
       "</tr>\n",
       "<tr>\n",
       "  <th>afternoon</th>    <td>    0.2954</td> <td>    0.124</td> <td>    2.376</td> <td> 0.017</td> <td>    0.052</td> <td>    0.539</td>\n",
       "</tr>\n",
       "<tr>\n",
       "  <th>night</th>        <td>    0.2938</td> <td>    0.211</td> <td>    1.392</td> <td> 0.164</td> <td>   -0.120</td> <td>    0.708</td>\n",
       "</tr>\n",
       "<tr>\n",
       "  <th>intercept</th>    <td>   -4.4706</td> <td>    0.164</td> <td>  -27.238</td> <td> 0.000</td> <td>   -4.792</td> <td>   -4.149</td>\n",
       "</tr>\n",
       "</table>"
      ],
      "text/plain": [
       "<class 'statsmodels.iolib.summary.Summary'>\n",
       "\"\"\"\n",
       "                           Logit Regression Results                           \n",
       "==============================================================================\n",
       "Dep. Variable:               response   No. Observations:                16644\n",
       "Model:                          Logit   Df Residuals:                    16631\n",
       "Method:                           MLE   Df Model:                           12\n",
       "Date:                Thu, 01 Feb 2018   Pseudo R-squ.:                  0.1076\n",
       "Time:                        20:43:02   Log-Likelihood:                -2662.9\n",
       "converged:                       True   LL-Null:                       -2983.9\n",
       "                                        LLR p-value:                1.053e-129\n",
       "================================================================================\n",
       "                   coef    std err          z      P>|z|      [0.025      0.975]\n",
       "--------------------------------------------------------------------------------\n",
       "placement        0.4727      0.042     11.208      0.000       0.390       0.555\n",
       "position        -0.2599      0.116     -2.238      0.025      -0.488      -0.032\n",
       "supply_type      0.5351      0.066      8.127      0.000       0.406       0.664\n",
       "os_extended     -0.0623      0.038     -1.628      0.103      -0.137       0.013\n",
       "user_day         0.1548      0.025      6.099      0.000       0.105       0.205\n",
       "domctr           9.8349      1.004      9.793      0.000       7.867      11.803\n",
       "game console    -0.3457      0.174     -1.989      0.047      -0.686      -0.005\n",
       "300x250         -0.1708      0.082     -2.086      0.037      -0.331      -0.010\n",
       "160x600         -0.9823      0.720     -1.365      0.172      -2.393       0.428\n",
       "day              0.1317      0.125      1.055      0.291      -0.113       0.376\n",
       "afternoon        0.2954      0.124      2.376      0.017       0.052       0.539\n",
       "night            0.2938      0.211      1.392      0.164      -0.120       0.708\n",
       "intercept       -4.4706      0.164    -27.238      0.000      -4.792      -4.149\n",
       "================================================================================\n",
       "\"\"\""
      ]
     },
     "execution_count": 699,
     "metadata": {},
     "output_type": "execute_result"
    }
   ],
   "source": [
    "ind = len(F.columns)\n",
    "print(ind)\n",
    "F.insert(ind,'intercept',1)\n",
    "logit_mod = sm.Logit(T, F[F.columns])\n",
    "results = logit_mod.fit()\n",
    "results.summary()"
   ]
  },
  {
   "cell_type": "code",
   "execution_count": 700,
   "metadata": {
    "collapsed": true
   },
   "outputs": [],
   "source": [
    "F = F.drop('intercept',1)\n",
    "from sklearn.model_selection import train_test_split\n",
    "X_train, X_test, y_train, y_test = train_test_split(F,T, test_size=0.20, random_state=0)"
   ]
  },
  {
   "cell_type": "code",
   "execution_count": 701,
   "metadata": {},
   "outputs": [
    {
     "data": {
      "text/plain": [
       "Index(['placement', 'position', 'supply_type', 'os_extended', 'user_day',\n",
       "       'domctr', 'game console', '300x250', '160x600', 'day', 'afternoon',\n",
       "       'night'],\n",
       "      dtype='object')"
      ]
     },
     "execution_count": 701,
     "metadata": {},
     "output_type": "execute_result"
    }
   ],
   "source": [
    "F.columns"
   ]
  },
  {
   "cell_type": "code",
   "execution_count": 702,
   "metadata": {
    "collapsed": true
   },
   "outputs": [],
   "source": [
    "from sklearn.tree import DecisionTreeClassifier, export_graphviz\n",
    "from sklearn.ensemble import (RandomTreesEmbedding, RandomForestClassifier,\n",
    "                              GradientBoostingClassifier)"
   ]
  },
  {
   "cell_type": "code",
   "execution_count": 703,
   "metadata": {},
   "outputs": [
    {
     "data": {
      "text/plain": [
       "DecisionTreeClassifier(class_weight=None, criterion='gini', max_depth=None,\n",
       "            max_features=None, max_leaf_nodes=None,\n",
       "            min_impurity_decrease=0.0, min_impurity_split=None,\n",
       "            min_samples_leaf=1, min_samples_split=5,\n",
       "            min_weight_fraction_leaf=0.0, presort=False, random_state=99,\n",
       "            splitter='best')"
      ]
     },
     "execution_count": 703,
     "metadata": {},
     "output_type": "execute_result"
    }
   ],
   "source": [
    "y = y_train\n",
    "X = X_train\n",
    "dt = DecisionTreeClassifier(min_samples_split=5, random_state=99)\n",
    "dt.fit(X, y)"
   ]
  },
  {
   "cell_type": "code",
   "execution_count": 704,
   "metadata": {},
   "outputs": [
    {
     "data": {
      "text/plain": [
       "GradientBoostingClassifier(criterion='friedman_mse', init=None,\n",
       "              learning_rate=0.1, loss='deviance', max_depth=3,\n",
       "              max_features=None, max_leaf_nodes=None,\n",
       "              min_impurity_decrease=0.0, min_impurity_split=None,\n",
       "              min_samples_leaf=1, min_samples_split=2,\n",
       "              min_weight_fraction_leaf=0.0, n_estimators=20,\n",
       "              presort='auto', random_state=None, subsample=1.0, verbose=0,\n",
       "              warm_start=False)"
      ]
     },
     "execution_count": 704,
     "metadata": {},
     "output_type": "execute_result"
    }
   ],
   "source": [
    "grd = GradientBoostingClassifier(n_estimators=20)\n",
    "grd.fit(X,y)"
   ]
  },
  {
   "cell_type": "code",
   "execution_count": 705,
   "metadata": {},
   "outputs": [
    {
     "data": {
      "text/plain": [
       "RandomForestClassifier(bootstrap=True, class_weight=None, criterion='gini',\n",
       "            max_depth=None, max_features='auto', max_leaf_nodes=None,\n",
       "            min_impurity_decrease=0.0, min_impurity_split=None,\n",
       "            min_samples_leaf=1, min_samples_split=2,\n",
       "            min_weight_fraction_leaf=0.0, n_estimators=10, n_jobs=1,\n",
       "            oob_score=False, random_state=None, verbose=0,\n",
       "            warm_start=False)"
      ]
     },
     "execution_count": 705,
     "metadata": {},
     "output_type": "execute_result"
    }
   ],
   "source": [
    "from sklearn.ensemble import RandomForestClassifier, AdaBoostClassifier\n",
    "rf = RandomForestClassifier()\n",
    "rf.fit(X,y)"
   ]
  },
  {
   "cell_type": "code",
   "execution_count": 706,
   "metadata": {
    "collapsed": true
   },
   "outputs": [],
   "source": [
    "def visualize_tree(tree, feature_names):\n",
    "    \"\"\"Create tree png using graphviz.\n",
    "\n",
    "    Args\n",
    "    ----\n",
    "    tree -- scikit-learn DecsisionTree.\n",
    "    feature_names -- list of feature names.\n",
    "    \"\"\"\n",
    "    with open(\"dt.dot\", 'w') as f:\n",
    "        export_graphviz(tree, out_file=f,\n",
    "                        feature_names=feature_names)\n",
    "\n",
    "    command = [\"dot\", \"-Tpng\", \"dt.dot\", \"-o\", \"dt.png\"]\n",
    "    try:\n",
    "        subprocess.check_call(command)\n",
    "    except:\n",
    "        exit(\"Could not run dot, ie graphviz, to \"\n",
    "             \"produce visualization\")"
   ]
  },
  {
   "cell_type": "code",
   "execution_count": 707,
   "metadata": {},
   "outputs": [
    {
     "name": "stdout",
     "output_type": "stream",
     "text": [
      "Index(['placement', 'position', 'supply_type', 'os_extended', 'user_day',\n",
      "       'domctr', 'game console', '300x250', '160x600', 'day', 'afternoon',\n",
      "       'night'],\n",
      "      dtype='object')\n",
      "[ 0.33810677  0.01237821  0.01599789  0.28905442  0.09312654  0.05696281\n",
      "  0.03613745  0.03056423  0.00270346  0.05906764  0.03148715  0.03441342]\n",
      "[[3127   51]\n",
      " [ 123   28]]\n",
      "[[3178    0]\n",
      " [ 145    6]]\n",
      "[[3141   37]\n",
      " [ 113   38]]\n"
     ]
    }
   ],
   "source": [
    "from sklearn.metrics import confusion_matrix, precision_score, recall_score, accuracy_score\n",
    "features=X.columns\n",
    "print(features)\n",
    "print(dt.feature_importances_)\n",
    "\n",
    "visualize_tree(dt, features)\n",
    "preds = dt.predict(X_test, check_input=True)\n",
    "print(confusion_matrix(y_test, preds))\n",
    "preds2=grd.predict(X_test)\n",
    "print(confusion_matrix(y_test, preds2))\n",
    "\n",
    "preds3 = rf.predict(X_test)\n",
    "print(confusion_matrix(y_test,preds3))"
   ]
  },
  {
   "cell_type": "code",
   "execution_count": 708,
   "metadata": {},
   "outputs": [
    {
     "name": "stdout",
     "output_type": "stream",
     "text": [
      "3329\n",
      "3141 37\n",
      "113 38\n"
     ]
    }
   ],
   "source": [
    "N=len(y_test)\n",
    "print(N)\n",
    "neg_true=0\n",
    "pos_true=0\n",
    "pos_false=0\n",
    "neg_false=0\n",
    "y=np.array(y_test)\n",
    "for i in range(N):\n",
    "    if y[i] == 0:\n",
    "        if preds3[i]==0:\n",
    "            neg_true=neg_true+1\n",
    "        else :\n",
    "            neg_false=neg_false+1\n",
    "            \n",
    "    if y[i]==1:\n",
    "        if preds3[i]==1:\n",
    "            pos_true=pos_true+1\n",
    "        else:\n",
    "            pos_false=pos_false+1\n",
    "\n",
    "print(neg_true,neg_false)\n",
    "print(pos_false,pos_true)\n",
    "    "
   ]
  },
  {
   "cell_type": "code",
   "execution_count": 709,
   "metadata": {},
   "outputs": [
    {
     "data": {
      "text/plain": [
       "<matplotlib.axes._subplots.AxesSubplot at 0x1ba3adc6908>"
      ]
     },
     "execution_count": 709,
     "metadata": {},
     "output_type": "execute_result"
    }
   ],
   "source": [
    "bkg['browser'].value_counts().plot(kind='bar')"
   ]
  },
  {
   "cell_type": "code",
   "execution_count": 710,
   "metadata": {},
   "outputs": [
    {
     "data": {
      "text/plain": [
       "array([ 0.        ,  0.04917484,  0.        , ...,  0.        ,\n",
       "        0.        ,  0.        ])"
      ]
     },
     "execution_count": 710,
     "metadata": {},
     "output_type": "execute_result"
    }
   ],
   "source": [
    "rf.predict_proba(X_train)[:,1]"
   ]
  },
  {
   "cell_type": "code",
   "execution_count": 713,
   "metadata": {},
   "outputs": [
    {
     "data": {
      "image/png": "[encoded data removed]",
      "text/plain": [
       "<matplotlib.figure.Figure at 0x1ba39ba6748>"
      ]
     },
     "metadata": {},
     "output_type": "display_data"
    },
    {
     "data": {
      "image/png": "[encoded data removed]",
      "text/plain": [
       "<matplotlib.figure.Figure at 0x1ba40a6e630>"
      ]
     },
     "metadata": {},
     "output_type": "display_data"
    }
   ],
   "source": [
    "from sklearn.metrics import roc_curve\n",
    "\n",
    "y_pred_grd = rf.predict_proba(X_test)[:, 1]\n",
    "fpr_grd, tpr_grd, _ = roc_curve(y_test, y_pred_grd)\n",
    "\n",
    "\n",
    "# The random forest model by itself\n",
    "plt.figure(1)\n",
    "plt.plot(fpr_grd, tpr_grd, label='GBT')\n",
    "plt.xlabel('False positive rate')\n",
    "plt.ylabel('True positive rate')\n",
    "plt.title('ROC curve')\n",
    "plt.legend(loc='best')\n",
    "plt.show()\n",
    "\n",
    "plt.figure(2)\n",
    "plt.xlim(0, 0.2)\n",
    "plt.ylim(0.8, 1)\n",
    "plt.plot([0, 1], [0, 1], 'k--')\n",
    "plt.plot(fpr_grd, tpr_grd, label='GBT')\n",
    "plt.xlabel('False positive rate')\n",
    "plt.ylabel('True positive rate')\n",
    "plt.title('ROC curve (zoomed in at top left)')\n",
    "plt.legend(loc='best')\n",
    "plt.show()"
   ]
  },
  {
   "cell_type": "code",
   "execution_count": 714,
   "metadata": {},
   "outputs": [
    {
     "data": {
      "text/plain": [
       "0.50666666666666671"
      ]
     },
     "execution_count": 714,
     "metadata": {},
     "output_type": "execute_result"
    }
   ],
   "source": [
    "precision_score(y_test, preds3) "
   ]
  },
  {
   "cell_type": "code",
   "execution_count": 715,
   "metadata": {},
   "outputs": [
    {
     "data": {
      "text/plain": [
       "0.25165562913907286"
      ]
     },
     "execution_count": 715,
     "metadata": {},
     "output_type": "execute_result"
    }
   ],
   "source": [
    "recall_score(y_test, preds3)"
   ]
  },
  {
   "cell_type": "code",
   "execution_count": 716,
   "metadata": {},
   "outputs": [
    {
     "data": {
      "text/plain": [
       "0.95494142385100633"
      ]
     },
     "execution_count": 716,
     "metadata": {},
     "output_type": "execute_result"
    }
   ],
   "source": [
    "accuracy_score(y_test,preds3)"
   ]
  },
  {
   "cell_type": "code",
   "execution_count": null,
   "metadata": {
    "collapsed": true
   },
   "outputs": [],
   "source": []
  },
  {
   "cell_type": "code",
   "execution_count": null,
   "metadata": {
    "collapsed": true
   },
   "outputs": [],
   "source": []
  }
 ],
 "metadata": {
  "kernelspec": {
   "display_name": "Python 3",
   "language": "python",
   "name": "python3"
  },
  "language_info": {
   "codemirror_mode": {
    "name": "ipython",
    "version": 3
   },
   "file_extension": ".py",
   "mimetype": "text/x-python",
   "name": "python",
   "nbconvert_exporter": "python",
   "pygments_lexer": "ipython3",
   "version": "3.6.2"
  }
 },
 "nbformat": 4,
 "nbformat_minor": 2
}
