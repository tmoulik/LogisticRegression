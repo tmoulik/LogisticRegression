{
 "cells": [
  {
   "cell_type": "markdown",
   "metadata": {},
   "source": [
    "### CIVIS DATA MODELLING - "
   ]
  },
  {
   "cell_type": "code",
   "execution_count": 14,
   "metadata": {
    "collapsed": true
   },
   "outputs": [],
   "source": [
    "import numpy as np\n",
    "import pandas as pd\n",
    "import statsmodels.api as sm\n",
    "from sklearn.linear_model import LogisticRegression\n",
    "from sklearn import preprocessing\n",
    "import matplotlib.pyplot as plt\n",
    "import array\n",
    "from sklearn.tree import DecisionTreeClassifier, export_graphviz\n",
    "from sklearn.ensemble import (RandomTreesEmbedding, RandomForestClassifier,\n",
    "                              GradientBoostingClassifier)\n",
    "from sklearn.metrics import confusion_matrix, precision_score, recall_score, accuracy_score\n",
    "from sklearn.model_selection import train_test_split\n",
    "from sklearn.metrics import average_precision_score, precision_recall_curve\n",
    "from sklearn.model_selection import cross_val_score"
   ]
  },
  {
   "cell_type": "code",
   "execution_count": 15,
   "metadata": {
    "scrolled": true
   },
   "outputs": [
    {
     "name": "stdout",
     "output_type": "stream",
     "text": [
      "Index(['placement', 'position', 'browser', 'carrier', 'domain', 'supply_type',\n",
      "       'language', 'region', 'os_extended', 'publisher', 'device_model',\n",
      "       'device_type', 'user_day', 'user_hour', 'size', 'response'],\n",
      "      dtype='object')\n"
     ]
    },
    {
     "data": {
      "text/plain": [
       "response\n",
       "0    159270\n",
       "1       726\n",
       "dtype: int64"
      ]
     },
     "execution_count": 15,
     "metadata": {},
     "output_type": "execute_result"
    }
   ],
   "source": [
    "dfo = pd.read_csv('./data/xaxis/train.csv')\n",
    "dfo_test = pd.read_csv('./data/xaxis/test.csv')\n",
    "print(dfo.columns)\n",
    "\n",
    "#print(dfo.describe())\n",
    "dfo.groupby('response').size()"
   ]
  },
  {
   "cell_type": "code",
   "execution_count": 16,
   "metadata": {},
   "outputs": [
    {
     "name": "stdout",
     "output_type": "stream",
     "text": [
      "Index(['placement', 'position', 'browser', 'carrier', 'domain', 'supply_type',\n",
      "       'language', 'region', 'os_extended', 'publisher', 'device_model',\n",
      "       'device_type', 'user_day', 'user_hour', 'size', 'response'],\n",
      "      dtype='object')\n",
      "726\n",
      "1115\n",
      "1841\n"
     ]
    }
   ],
   "source": [
    "#Look for duplicated rows and drop them\n",
    "print(dfo.columns)\n",
    "\n",
    "#Some websites are NaN so dropping these\n",
    "#df.dropna(inplace=True)\n",
    "dfo['domain'].fillna('Unknown',inplace=True)\n",
    "\n",
    "#Undersample the background to 60/40 ratio of non-click/click\n",
    "df0 = dfo[(dfo['response']==0)]\n",
    "df1 = dfo[dfo['response']==1]\n",
    "print(len(df1))\n",
    "seed = 99\n",
    "df0 = df0.sample(frac=0.007,random_state=seed)\n",
    "print(len(df0))\n",
    "df = pd.concat([df0,df1])\n",
    "print(len(df))"
   ]
  },
  {
   "cell_type": "code",
   "execution_count": 17,
   "metadata": {
    "scrolled": true
   },
   "outputs": [
    {
     "name": "stdout",
     "output_type": "stream",
     "text": [
      "0.6511210762331838\n"
     ]
    }
   ],
   "source": [
    "#Get Some info about df\n",
    "Nsig=len(df[df['response']==1].index)\n",
    "Nbkg=len(df[df['response']==0].index)\n",
    "ratio=Nsig/(Nbkg)\n",
    "print(ratio)"
   ]
  },
  {
   "cell_type": "code",
   "execution_count": 18,
   "metadata": {},
   "outputs": [
    {
     "name": "stdout",
     "output_type": "stream",
     "text": [
      "placement 258\n",
      "position 3\n",
      "browser 18\n",
      "carrier 5\n",
      "domain 232\n",
      "supply_type 3\n",
      "language 15\n",
      "region 5\n",
      "os_extended 49\n",
      "publisher 112\n",
      "device_model 85\n",
      "device_type 6\n",
      "user_day 7\n",
      "user_hour 20\n",
      "size 5\n",
      "response 2\n"
     ]
    }
   ],
   "source": [
    "for name in df.columns:\n",
    "    print(name,len(df[name].unique()))\n"
   ]
  },
  {
   "cell_type": "code",
   "execution_count": 19,
   "metadata": {},
   "outputs": [
    {
     "name": "stdout",
     "output_type": "stream",
     "text": [
      "              placement  position   browser   carrier  supply_type  language  \\\n",
      "placement      1.000000 -0.025223  0.013594  0.005171     0.267584  0.028182   \n",
      "position      -0.025223  1.000000  0.007848 -0.039822    -0.256168  0.128469   \n",
      "browser        0.013594  0.007848  1.000000 -0.024135    -0.234108  0.014306   \n",
      "carrier        0.005171 -0.039822 -0.024135  1.000000     0.031554  0.016640   \n",
      "supply_type    0.267584 -0.256168 -0.234108  0.031554     1.000000  0.003453   \n",
      "language       0.028182  0.128469  0.014306  0.016640     0.003453  1.000000   \n",
      "region        -0.078830 -0.002538  0.000216  0.195262    -0.028810 -0.020443   \n",
      "os_extended   -0.024715 -0.008102  0.129368  0.053739    -0.151541 -0.095313   \n",
      "publisher      0.727270 -0.039439 -0.005997  0.050242     0.360373  0.025881   \n",
      "device_model   0.071600 -0.070442  0.048440  0.024592     0.093477 -0.012955   \n",
      "user_day       0.275776 -0.080864 -0.127226  0.018573     0.325717  0.015609   \n",
      "user_hour      0.077829 -0.006892  0.045494  0.079010    -0.028093  0.058147   \n",
      "response       0.299275 -0.095728 -0.083142  0.015992     0.269624 -0.028855   \n",
      "\n",
      "                region  os_extended  publisher  device_model  user_day  \\\n",
      "placement    -0.078830    -0.024715   0.727270      0.071600  0.275776   \n",
      "position     -0.002538    -0.008102  -0.039439     -0.070442 -0.080864   \n",
      "browser       0.000216     0.129368  -0.005997      0.048440 -0.127226   \n",
      "carrier       0.195262     0.053739   0.050242      0.024592  0.018573   \n",
      "supply_type  -0.028810    -0.151541   0.360373      0.093477  0.325717   \n",
      "language     -0.020443    -0.095313   0.025881     -0.012955  0.015609   \n",
      "region        1.000000     0.011515  -0.036380      0.053475 -0.038570   \n",
      "os_extended   0.011515     1.000000   0.033010     -0.089306 -0.060423   \n",
      "publisher    -0.036380     0.033010   1.000000      0.063388  0.276894   \n",
      "device_model  0.053475    -0.089306   0.063388      1.000000  0.031243   \n",
      "user_day     -0.038570    -0.060423   0.276894      0.031243  1.000000   \n",
      "user_hour     0.085373    -0.116726   0.079128     -0.001874  0.049416   \n",
      "response      0.029115    -0.063392   0.241969      0.063022  0.206198   \n",
      "\n",
      "              user_hour  response  \n",
      "placement      0.077829  0.299275  \n",
      "position      -0.006892 -0.095728  \n",
      "browser        0.045494 -0.083142  \n",
      "carrier        0.079010  0.015992  \n",
      "supply_type   -0.028093  0.269624  \n",
      "language       0.058147 -0.028855  \n",
      "region         0.085373  0.029115  \n",
      "os_extended   -0.116726 -0.063392  \n",
      "publisher      0.079128  0.241969  \n",
      "device_model  -0.001874  0.063022  \n",
      "user_day       0.049416  0.206198  \n",
      "user_hour      1.000000  0.020874  \n",
      "response       0.020874  1.000000  \n"
     ]
    },
    {
     "data": {
      "image/png": "[encoded data removed]",
      "text/plain": [
       "<matplotlib.figure.Figure at 0x211b107ecf8>"
      ]
     },
     "metadata": {},
     "output_type": "display_data"
    }
   ],
   "source": [
    "#Correlation Matrix\n",
    "print(df.corr())\n",
    "plt.matshow(df.corr())\n",
    "plt.show()"
   ]
  },
  {
   "cell_type": "code",
   "execution_count": 20,
   "metadata": {
    "collapsed": true
   },
   "outputs": [],
   "source": [
    "#Function to create dictionary between domain and weekly-views for that domain\n",
    "def getdict(data):\n",
    "    data.loc[data['user_hour']>0,'user_hour']=1\n",
    "\n",
    "    grouped = data.groupby(['domain','user_day'],as_index=False).agg({'user_hour':np.sum})\n",
    "    grouped = grouped.groupby(['domain'],as_index=False).agg({'user_hour':np.sum})\n",
    "    grouped['weekviews'] = grouped['user_hour']\n",
    "    \n",
    "    mydict=grouped.set_index(['domain']).to_dict()['weekviews']\n",
    "    return mydict"
   ]
  },
  {
   "cell_type": "code",
   "execution_count": 21,
   "metadata": {
    "collapsed": true
   },
   "outputs": [],
   "source": [
    "'''\n",
    "Perform various steps to transform the data\n",
    "'''\n",
    "def transform(data,mydict):\n",
    "    #Create a new category domctr (Domain CTR)\n",
    "    data['domctr']=0.0\n",
    "    data['domctr'] = data['domain'].replace(mydict)\n",
    "\n",
    "    #create dummies for categorical variables    \n",
    "    myarr=data['device_type'].unique()\n",
    "    data[myarr]=pd.get_dummies(data['device_type'])\n",
    "    data.drop('device_type',axis=1,inplace=True)\n",
    "    data = data.drop('phone',1) \n",
    "\n",
    "    myarr1=data['size'].unique()\n",
    "    data[myarr1]=pd.get_dummies(data['size'])\n",
    "    print(myarr1)\n",
    "    data.drop('size',axis=1,inplace=True)\n",
    "    data = data.drop('300x250',1) \n",
    "    \n",
    "    data.loc[(data.user_day >=0) & (data.user_day<5),'user_day']=0\n",
    "    data.loc[(data.user_day >5),'user_day']=1\n",
    "    \n",
    "    #Preprocessing\n",
    "    X_scaled= preprocessing.scale(data['publisher'])\n",
    "    data['publisher']=X_scaled\n",
    "\n",
    "    X_scaled= preprocessing.scale(data['placement'])\n",
    "    data['placement']=X_scaled\n",
    "\n",
    "    X_scaled= preprocessing.scale(data['os_extended'])\n",
    "    data['os_extended']=X_scaled\n",
    "    \n",
    "    return(data)"
   ]
  },
  {
   "cell_type": "code",
   "execution_count": 22,
   "metadata": {},
   "outputs": [
    {
     "name": "stdout",
     "output_type": "stream",
     "text": [
      "[ 0  9 15 16 10 13  8  3 18  6  2 14 17 11  7  5 12  1 19  4]\n",
      "['320x50' '300x250' '160x600' '728x90' '300x600']\n",
      "False\n"
     ]
    },
    {
     "name": "stderr",
     "output_type": "stream",
     "text": [
      "C:\\ProgramData\\Anaconda3\\lib\\site-packages\\sklearn\\utils\\validation.py:444: DataConversionWarning: Data with input dtype int64 was converted to float64 by the scale function.\n",
      "  warnings.warn(msg, DataConversionWarning)\n"
     ]
    },
    {
     "data": {
      "text/plain": [
       "Index(['placement', 'position', 'browser', 'carrier', 'domain', 'supply_type',\n",
       "       'language', 'region', 'os_extended', 'publisher', 'device_model',\n",
       "       'user_day', 'user_hour', 'response', 'domctr', 'pc & other devices',\n",
       "       'tablet', 'game console', 'set top box', 'tv', '320x50', '160x600',\n",
       "       '728x90', '300x600'],\n",
       "      dtype='object')"
      ]
     },
     "execution_count": 22,
     "metadata": {},
     "output_type": "execute_result"
    }
   ],
   "source": [
    "print(df['user_hour'].unique())\n",
    "dict = getdict(df)\n",
    "newdf = transform(df,dict)\n",
    "\n",
    "#Check if anything wierd happened during dictionary translation\n",
    "print(newdf['domctr'].isnull().any().any())\n",
    "newdf.dropna(inplace=True)\n",
    "#newdf['domctr']=np.float32(newdf['domctr'])\n",
    "\n",
    "df = newdf\n",
    "#print(df.isnull().any().any())\n",
    "newdf.columns\n",
    "#df.columns"
   ]
  },
  {
   "cell_type": "code",
   "execution_count": 23,
   "metadata": {},
   "outputs": [
    {
     "name": "stdout",
     "output_type": "stream",
     "text": [
      "['320x50' '300x250' '160x600' '728x90' '300x600']\n",
      "True\n"
     ]
    },
    {
     "name": "stderr",
     "output_type": "stream",
     "text": [
      "C:\\ProgramData\\Anaconda3\\lib\\site-packages\\sklearn\\utils\\validation.py:444: DataConversionWarning: Data with input dtype int64 was converted to float64 by the scale function.\n",
      "  warnings.warn(msg, DataConversionWarning)\n"
     ]
    }
   ],
   "source": [
    "dict1 = getdict(dfo_test)\n",
    "dfo_test = transform(dfo_test,dict1)\n",
    "newdf = dfo_test\n",
    "print(newdf['domctr'].isnull().any().any())\n",
    "newdf.dropna(inplace=True)\n",
    "#newdf['domctr']=np.float32(newdf['domctr'])\n",
    "dfo_test = newdf"
   ]
  },
  {
   "cell_type": "code",
   "execution_count": 24,
   "metadata": {
    "collapsed": true
   },
   "outputs": [],
   "source": [
    "dfo_test['domctr']=np.float32(dfo_test['domctr'])"
   ]
  },
  {
   "cell_type": "code",
   "execution_count": 25,
   "metadata": {},
   "outputs": [
    {
     "name": "stdout",
     "output_type": "stream",
     "text": [
      "False\n"
     ]
    }
   ],
   "source": [
    "#dfo_test.dropna(inplace=True)\n",
    "#dfo_test.isnull().any()\n",
    "print(dfo_test.isnull().any().any())"
   ]
  },
  {
   "cell_type": "code",
   "execution_count": 26,
   "metadata": {
    "collapsed": true
   },
   "outputs": [],
   "source": [
    "#Created my own test Sample\n",
    "dfx = df\n",
    "Y = dfx['response']\n",
    "X = dfx.drop('response',1)\n",
    "\n",
    "df_train, df_test, dfy_train, y_test = train_test_split(X,Y, test_size=0.20, random_state=0)"
   ]
  },
  {
   "cell_type": "code",
   "execution_count": 27,
   "metadata": {},
   "outputs": [
    {
     "data": {
      "text/html": [
       "<div>\n",
       "<style>\n",
       "    .dataframe thead tr:only-child th {\n",
       "        text-align: right;\n",
       "    }\n",
       "\n",
       "    .dataframe thead th {\n",
       "        text-align: left;\n",
       "    }\n",
       "\n",
       "    .dataframe tbody tr th {\n",
       "        vertical-align: top;\n",
       "    }\n",
       "</style>\n",
       "<table border=\"1\" class=\"dataframe\">\n",
       "  <thead>\n",
       "    <tr style=\"text-align: right;\">\n",
       "      <th></th>\n",
       "      <th>placement</th>\n",
       "      <th>position</th>\n",
       "      <th>browser</th>\n",
       "      <th>carrier</th>\n",
       "      <th>domain</th>\n",
       "      <th>supply_type</th>\n",
       "      <th>language</th>\n",
       "      <th>region</th>\n",
       "      <th>os_extended</th>\n",
       "      <th>publisher</th>\n",
       "      <th>...</th>\n",
       "      <th>domctr</th>\n",
       "      <th>pc &amp; other devices</th>\n",
       "      <th>tablet</th>\n",
       "      <th>game console</th>\n",
       "      <th>set top box</th>\n",
       "      <th>tv</th>\n",
       "      <th>320x50</th>\n",
       "      <th>160x600</th>\n",
       "      <th>728x90</th>\n",
       "      <th>300x600</th>\n",
       "    </tr>\n",
       "  </thead>\n",
       "  <tbody>\n",
       "    <tr>\n",
       "      <th>146472</th>\n",
       "      <td>-0.591600</td>\n",
       "      <td>1</td>\n",
       "      <td>8</td>\n",
       "      <td>1</td>\n",
       "      <td>myanimelist.net</td>\n",
       "      <td>1</td>\n",
       "      <td>1</td>\n",
       "      <td>0</td>\n",
       "      <td>0.646695</td>\n",
       "      <td>-0.779363</td>\n",
       "      <td>...</td>\n",
       "      <td>30</td>\n",
       "      <td>0</td>\n",
       "      <td>0</td>\n",
       "      <td>0</td>\n",
       "      <td>0</td>\n",
       "      <td>0</td>\n",
       "      <td>0</td>\n",
       "      <td>0</td>\n",
       "      <td>1</td>\n",
       "      <td>0</td>\n",
       "    </tr>\n",
       "    <tr>\n",
       "      <th>3765</th>\n",
       "      <td>0.398746</td>\n",
       "      <td>1</td>\n",
       "      <td>8</td>\n",
       "      <td>1</td>\n",
       "      <td>cari.com.my</td>\n",
       "      <td>0</td>\n",
       "      <td>0</td>\n",
       "      <td>0</td>\n",
       "      <td>-0.976030</td>\n",
       "      <td>0.373234</td>\n",
       "      <td>...</td>\n",
       "      <td>22</td>\n",
       "      <td>0</td>\n",
       "      <td>0</td>\n",
       "      <td>0</td>\n",
       "      <td>0</td>\n",
       "      <td>0</td>\n",
       "      <td>0</td>\n",
       "      <td>0</td>\n",
       "      <td>0</td>\n",
       "      <td>0</td>\n",
       "    </tr>\n",
       "    <tr>\n",
       "      <th>34450</th>\n",
       "      <td>-1.377952</td>\n",
       "      <td>1</td>\n",
       "      <td>8</td>\n",
       "      <td>284</td>\n",
       "      <td>russiadefence.net</td>\n",
       "      <td>1</td>\n",
       "      <td>1</td>\n",
       "      <td>0</td>\n",
       "      <td>0.311847</td>\n",
       "      <td>-1.509724</td>\n",
       "      <td>...</td>\n",
       "      <td>1</td>\n",
       "      <td>0</td>\n",
       "      <td>1</td>\n",
       "      <td>0</td>\n",
       "      <td>0</td>\n",
       "      <td>0</td>\n",
       "      <td>0</td>\n",
       "      <td>0</td>\n",
       "      <td>1</td>\n",
       "      <td>0</td>\n",
       "    </tr>\n",
       "    <tr>\n",
       "      <th>87808</th>\n",
       "      <td>-0.734539</td>\n",
       "      <td>0</td>\n",
       "      <td>21</td>\n",
       "      <td>283</td>\n",
       "      <td>kissasian.com</td>\n",
       "      <td>1</td>\n",
       "      <td>1</td>\n",
       "      <td>0</td>\n",
       "      <td>0.672452</td>\n",
       "      <td>-0.569565</td>\n",
       "      <td>...</td>\n",
       "      <td>376</td>\n",
       "      <td>0</td>\n",
       "      <td>1</td>\n",
       "      <td>0</td>\n",
       "      <td>0</td>\n",
       "      <td>0</td>\n",
       "      <td>0</td>\n",
       "      <td>0</td>\n",
       "      <td>1</td>\n",
       "      <td>0</td>\n",
       "    </tr>\n",
       "    <tr>\n",
       "      <th>80278</th>\n",
       "      <td>-0.469670</td>\n",
       "      <td>0</td>\n",
       "      <td>9</td>\n",
       "      <td>1</td>\n",
       "      <td>mp4upload.com</td>\n",
       "      <td>1</td>\n",
       "      <td>1</td>\n",
       "      <td>0</td>\n",
       "      <td>0.930028</td>\n",
       "      <td>-0.569565</td>\n",
       "      <td>...</td>\n",
       "      <td>7</td>\n",
       "      <td>0</td>\n",
       "      <td>0</td>\n",
       "      <td>0</td>\n",
       "      <td>1</td>\n",
       "      <td>0</td>\n",
       "      <td>0</td>\n",
       "      <td>0</td>\n",
       "      <td>0</td>\n",
       "      <td>0</td>\n",
       "    </tr>\n",
       "  </tbody>\n",
       "</table>\n",
       "<p>5 rows × 24 columns</p>\n",
       "</div>"
      ],
      "text/plain": [
       "        placement  position  browser  carrier             domain  supply_type  \\\n",
       "146472  -0.591600         1        8        1    myanimelist.net            1   \n",
       "3765     0.398746         1        8        1        cari.com.my            0   \n",
       "34450   -1.377952         1        8      284  russiadefence.net            1   \n",
       "87808   -0.734539         0       21      283      kissasian.com            1   \n",
       "80278   -0.469670         0        9        1      mp4upload.com            1   \n",
       "\n",
       "        language  region  os_extended  publisher   ...     domctr  \\\n",
       "146472         1       0     0.646695  -0.779363   ...         30   \n",
       "3765           0       0    -0.976030   0.373234   ...         22   \n",
       "34450          1       0     0.311847  -1.509724   ...          1   \n",
       "87808          1       0     0.672452  -0.569565   ...        376   \n",
       "80278          1       0     0.930028  -0.569565   ...          7   \n",
       "\n",
       "        pc & other devices  tablet  game console  set top box  tv  320x50  \\\n",
       "146472                   0       0             0            0   0       0   \n",
       "3765                     0       0             0            0   0       0   \n",
       "34450                    0       1             0            0   0       0   \n",
       "87808                    0       1             0            0   0       0   \n",
       "80278                    0       0             0            1   0       0   \n",
       "\n",
       "        160x600  728x90  300x600  \n",
       "146472        0       1        0  \n",
       "3765          0       0        0  \n",
       "34450         0       1        0  \n",
       "87808         0       1        0  \n",
       "80278         0       0        0  \n",
       "\n",
       "[5 rows x 24 columns]"
      ]
     },
     "execution_count": 27,
     "metadata": {},
     "output_type": "execute_result"
    }
   ],
   "source": [
    "dfx.head()"
   ]
  },
  {
   "cell_type": "code",
   "execution_count": 2251,
   "metadata": {
    "collapsed": true
   },
   "outputs": [],
   "source": [
    "#dropcols=['user_hour','carrier','position','placement','browser','domain','region','language','728x90','device_model','tablet']\n",
    "dropcols=['user_hour','carrier','position','placement',\n",
    "          'browser','domain','region','language','728x90',\n",
    "          'device_model','tablet','320x50','160x600','pc & other devices']\n",
    "keepcols=['placement','os_extended','domctr','publisher','user_day','device_model']"
   ]
  },
  {
   "cell_type": "code",
   "execution_count": 2252,
   "metadata": {
    "collapsed": true
   },
   "outputs": [],
   "source": [
    "df_train = df_train.drop('domain',1) #Training Sample\n",
    "df_test = df_test.drop('domain',1) #My Test Sample \n",
    "dfo_test = dfo_test.drop('domain',1) #Given Test Sample"
   ]
  },
  {
   "cell_type": "code",
   "execution_count": 2253,
   "metadata": {
    "collapsed": true
   },
   "outputs": [],
   "source": [
    "#Create the features data set\n",
    "T=dfy_train\n",
    "F=df_train"
   ]
  },
  {
   "cell_type": "code",
   "execution_count": 2254,
   "metadata": {
    "scrolled": true
   },
   "outputs": [
    {
     "name": "stdout",
     "output_type": "stream",
     "text": [
      "22\n",
      "Warning: Maximum number of iterations has been exceeded.\n",
      "         Current function value: 0.585296\n",
      "         Iterations: 35\n"
     ]
    },
    {
     "name": "stderr",
     "output_type": "stream",
     "text": [
      "C:\\ProgramData\\Anaconda3\\lib\\site-packages\\statsmodels\\base\\model.py:496: ConvergenceWarning: Maximum Likelihood optimization failed to converge. Check mle_retvals\n",
      "  \"Check mle_retvals\", ConvergenceWarning)\n"
     ]
    },
    {
     "data": {
      "text/html": [
       "<table class=\"simpletable\">\n",
       "<caption>Logit Regression Results</caption>\n",
       "<tr>\n",
       "  <th>Dep. Variable:</th>     <td>response</td>     <th>  No. Observations:  </th>  <td>  1472</td>  \n",
       "</tr>\n",
       "<tr>\n",
       "  <th>Model:</th>               <td>Logit</td>      <th>  Df Residuals:      </th>  <td>  1449</td>  \n",
       "</tr>\n",
       "<tr>\n",
       "  <th>Method:</th>               <td>MLE</td>       <th>  Df Model:          </th>  <td>    22</td>  \n",
       "</tr>\n",
       "<tr>\n",
       "  <th>Date:</th>          <td>Fri, 02 Feb 2018</td> <th>  Pseudo R-squ.:     </th>  <td>0.1297</td>  \n",
       "</tr>\n",
       "<tr>\n",
       "  <th>Time:</th>              <td>17:29:49</td>     <th>  Log-Likelihood:    </th> <td> -861.56</td> \n",
       "</tr>\n",
       "<tr>\n",
       "  <th>converged:</th>           <td>False</td>      <th>  LL-Null:           </th> <td> -989.94</td> \n",
       "</tr>\n",
       "<tr>\n",
       "  <th> </th>                      <td> </td>        <th>  LLR p-value:       </th> <td>6.367e-42</td>\n",
       "</tr>\n",
       "</table>\n",
       "<table class=\"simpletable\">\n",
       "<tr>\n",
       "           <td></td>             <th>coef</th>     <th>std err</th>      <th>z</th>      <th>P>|z|</th>  <th>[0.025</th>    <th>0.975]</th>  \n",
       "</tr>\n",
       "<tr>\n",
       "  <th>placement</th>          <td>    0.7491</td> <td>    0.117</td> <td>    6.392</td> <td> 0.000</td> <td>    0.519</td> <td>    0.979</td>\n",
       "</tr>\n",
       "<tr>\n",
       "  <th>position</th>           <td>   -0.3470</td> <td>    0.158</td> <td>   -2.198</td> <td> 0.028</td> <td>   -0.656</td> <td>   -0.038</td>\n",
       "</tr>\n",
       "<tr>\n",
       "  <th>browser</th>            <td>   -0.0354</td> <td>    0.013</td> <td>   -2.696</td> <td> 0.007</td> <td>   -0.061</td> <td>   -0.010</td>\n",
       "</tr>\n",
       "<tr>\n",
       "  <th>carrier</th>            <td>   -0.0002</td> <td>    0.001</td> <td>   -0.372</td> <td> 0.710</td> <td>   -0.001</td> <td>    0.001</td>\n",
       "</tr>\n",
       "<tr>\n",
       "  <th>supply_type</th>        <td>    0.4234</td> <td>    0.136</td> <td>    3.104</td> <td> 0.002</td> <td>    0.156</td> <td>    0.691</td>\n",
       "</tr>\n",
       "<tr>\n",
       "  <th>language</th>           <td>   -0.0339</td> <td>    0.022</td> <td>   -1.567</td> <td> 0.117</td> <td>   -0.076</td> <td>    0.009</td>\n",
       "</tr>\n",
       "<tr>\n",
       "  <th>region</th>             <td>    0.1105</td> <td>    0.081</td> <td>    1.371</td> <td> 0.170</td> <td>   -0.048</td> <td>    0.269</td>\n",
       "</tr>\n",
       "<tr>\n",
       "  <th>os_extended</th>        <td>   -0.1083</td> <td>    0.071</td> <td>   -1.530</td> <td> 0.126</td> <td>   -0.247</td> <td>    0.030</td>\n",
       "</tr>\n",
       "<tr>\n",
       "  <th>publisher</th>          <td>   -0.3254</td> <td>    0.118</td> <td>   -2.759</td> <td> 0.006</td> <td>   -0.557</td> <td>   -0.094</td>\n",
       "</tr>\n",
       "<tr>\n",
       "  <th>device_model</th>       <td> 8.006e-07</td> <td> 2.11e-06</td> <td>    0.379</td> <td> 0.705</td> <td>-3.34e-06</td> <td> 4.95e-06</td>\n",
       "</tr>\n",
       "<tr>\n",
       "  <th>user_day</th>           <td>    0.0836</td> <td>    0.032</td> <td>    2.647</td> <td> 0.008</td> <td>    0.022</td> <td>    0.146</td>\n",
       "</tr>\n",
       "<tr>\n",
       "  <th>user_hour</th>          <td>   -0.0219</td> <td>    0.404</td> <td>   -0.054</td> <td> 0.957</td> <td>   -0.813</td> <td>    0.769</td>\n",
       "</tr>\n",
       "<tr>\n",
       "  <th>domctr</th>             <td>    0.0004</td> <td>    0.000</td> <td>    0.912</td> <td> 0.362</td> <td>   -0.000</td> <td>    0.001</td>\n",
       "</tr>\n",
       "<tr>\n",
       "  <th>pc & other devices</th> <td>    0.0576</td> <td>    1.463</td> <td>    0.039</td> <td> 0.969</td> <td>   -2.809</td> <td>    2.924</td>\n",
       "</tr>\n",
       "<tr>\n",
       "  <th>tablet</th>             <td>    0.4288</td> <td>    0.147</td> <td>    2.911</td> <td> 0.004</td> <td>    0.140</td> <td>    0.718</td>\n",
       "</tr>\n",
       "<tr>\n",
       "  <th>game console</th>       <td>  -19.3196</td> <td> 1.22e+04</td> <td>   -0.002</td> <td> 0.999</td> <td> -2.4e+04</td> <td>  2.4e+04</td>\n",
       "</tr>\n",
       "<tr>\n",
       "  <th>set top box</th>        <td>   -0.1653</td> <td>    0.248</td> <td>   -0.667</td> <td> 0.505</td> <td>   -0.651</td> <td>    0.320</td>\n",
       "</tr>\n",
       "<tr>\n",
       "  <th>tv</th>                 <td>   -1.9774</td> <td>    0.824</td> <td>   -2.400</td> <td> 0.016</td> <td>   -3.593</td> <td>   -0.362</td>\n",
       "</tr>\n",
       "<tr>\n",
       "  <th>320x50</th>             <td>    0.7513</td> <td>    0.342</td> <td>    2.200</td> <td> 0.028</td> <td>    0.082</td> <td>    1.421</td>\n",
       "</tr>\n",
       "<tr>\n",
       "  <th>160x600</th>            <td>   -0.9470</td> <td>    0.778</td> <td>   -1.217</td> <td> 0.224</td> <td>   -2.473</td> <td>    0.578</td>\n",
       "</tr>\n",
       "<tr>\n",
       "  <th>728x90</th>             <td>    0.1068</td> <td>    0.134</td> <td>    0.797</td> <td> 0.425</td> <td>   -0.156</td> <td>    0.369</td>\n",
       "</tr>\n",
       "<tr>\n",
       "  <th>300x600</th>            <td>   -0.2136</td> <td>    0.289</td> <td>   -0.740</td> <td> 0.459</td> <td>   -0.780</td> <td>    0.352</td>\n",
       "</tr>\n",
       "<tr>\n",
       "  <th>intercept</th>          <td>   -0.8121</td> <td>    0.452</td> <td>   -1.798</td> <td> 0.072</td> <td>   -1.698</td> <td>    0.073</td>\n",
       "</tr>\n",
       "</table>"
      ],
      "text/plain": [
       "<class 'statsmodels.iolib.summary.Summary'>\n",
       "\"\"\"\n",
       "                           Logit Regression Results                           \n",
       "==============================================================================\n",
       "Dep. Variable:               response   No. Observations:                 1472\n",
       "Model:                          Logit   Df Residuals:                     1449\n",
       "Method:                           MLE   Df Model:                           22\n",
       "Date:                Fri, 02 Feb 2018   Pseudo R-squ.:                  0.1297\n",
       "Time:                        17:29:49   Log-Likelihood:                -861.56\n",
       "converged:                      False   LL-Null:                       -989.94\n",
       "                                        LLR p-value:                 6.367e-42\n",
       "======================================================================================\n",
       "                         coef    std err          z      P>|z|      [0.025      0.975]\n",
       "--------------------------------------------------------------------------------------\n",
       "placement              0.7491      0.117      6.392      0.000       0.519       0.979\n",
       "position              -0.3470      0.158     -2.198      0.028      -0.656      -0.038\n",
       "browser               -0.0354      0.013     -2.696      0.007      -0.061      -0.010\n",
       "carrier               -0.0002      0.001     -0.372      0.710      -0.001       0.001\n",
       "supply_type            0.4234      0.136      3.104      0.002       0.156       0.691\n",
       "language              -0.0339      0.022     -1.567      0.117      -0.076       0.009\n",
       "region                 0.1105      0.081      1.371      0.170      -0.048       0.269\n",
       "os_extended           -0.1083      0.071     -1.530      0.126      -0.247       0.030\n",
       "publisher             -0.3254      0.118     -2.759      0.006      -0.557      -0.094\n",
       "device_model        8.006e-07   2.11e-06      0.379      0.705   -3.34e-06    4.95e-06\n",
       "user_day               0.0836      0.032      2.647      0.008       0.022       0.146\n",
       "user_hour             -0.0219      0.404     -0.054      0.957      -0.813       0.769\n",
       "domctr                 0.0004      0.000      0.912      0.362      -0.000       0.001\n",
       "pc & other devices     0.0576      1.463      0.039      0.969      -2.809       2.924\n",
       "tablet                 0.4288      0.147      2.911      0.004       0.140       0.718\n",
       "game console         -19.3196   1.22e+04     -0.002      0.999    -2.4e+04     2.4e+04\n",
       "set top box           -0.1653      0.248     -0.667      0.505      -0.651       0.320\n",
       "tv                    -1.9774      0.824     -2.400      0.016      -3.593      -0.362\n",
       "320x50                 0.7513      0.342      2.200      0.028       0.082       1.421\n",
       "160x600               -0.9470      0.778     -1.217      0.224      -2.473       0.578\n",
       "728x90                 0.1068      0.134      0.797      0.425      -0.156       0.369\n",
       "300x600               -0.2136      0.289     -0.740      0.459      -0.780       0.352\n",
       "intercept             -0.8121      0.452     -1.798      0.072      -1.698       0.073\n",
       "======================================================================================\n",
       "\"\"\""
      ]
     },
     "execution_count": 2254,
     "metadata": {},
     "output_type": "execute_result"
    }
   ],
   "source": [
    "# A simple logistic Regression\n",
    "ind = len(F.columns)\n",
    "print(ind)\n",
    "F.insert(ind,'intercept',1)\n",
    "logit_mod = sm.Logit(T, F[F.columns])\n",
    "results = logit_mod.fit()\n",
    "results.summary()"
   ]
  },
  {
   "cell_type": "code",
   "execution_count": 2255,
   "metadata": {
    "collapsed": true
   },
   "outputs": [],
   "source": [
    "F = F.drop('intercept',1)"
   ]
  },
  {
   "cell_type": "code",
   "execution_count": 2256,
   "metadata": {
    "collapsed": true
   },
   "outputs": [],
   "source": [
    "#Decision Tree Classifieer\n",
    "y = T\n",
    "X = F"
   ]
  },
  {
   "cell_type": "code",
   "execution_count": 2257,
   "metadata": {},
   "outputs": [
    {
     "name": "stdout",
     "output_type": "stream",
     "text": [
      "0.703129805894\n"
     ]
    }
   ],
   "source": [
    "#X.replace([np.inf, -np.inf], np.nan)\n",
    "#print(np.array(X['domctr'][1:500]))\n",
    "#DecisionTreeClaissifer\n",
    "dt = DecisionTreeClassifier(min_samples_split=5, random_state=99)\n",
    "dt.fit(X, y)\n",
    "scores = cross_val_score(dt, X, y).mean()\n",
    "print(scores)"
   ]
  },
  {
   "cell_type": "code",
   "execution_count": 2258,
   "metadata": {},
   "outputs": [
    {
     "name": "stdout",
     "output_type": "stream",
     "text": [
      "0.690897377281\n"
     ]
    }
   ],
   "source": [
    "#Logistic Regression\n",
    "from sklearn.pipeline import make_pipeline\n",
    "rt = RandomTreesEmbedding(max_depth=5, n_estimators=10,\n",
    "    random_state=0)\n",
    "\n",
    "rt_lm = LogisticRegression()\n",
    "pipeline = make_pipeline(rt, rt_lm)\n",
    "pipeline.fit(X,y)\n",
    "scores = cross_val_score(rt_lm, X, y).mean()\n",
    "print(scores)"
   ]
  },
  {
   "cell_type": "code",
   "execution_count": 2259,
   "metadata": {
    "scrolled": true
   },
   "outputs": [
    {
     "name": "stdout",
     "output_type": "stream",
     "text": [
      "0.735734375216\n",
      "Index(['placement', 'position', 'browser', 'carrier', 'supply_type',\n",
      "       'language', 'region', 'os_extended', 'publisher', 'device_model',\n",
      "       'user_day', 'user_hour', 'domctr', 'pc & other devices', 'tablet',\n",
      "       'game console', 'set top box', 'tv', '320x50', '160x600', '728x90',\n",
      "       '300x600'],\n",
      "      dtype='object')\n",
      "Feature ranking:\n",
      "1. feature 0 (0.207498)\n",
      "2. feature 7 (0.164982)\n",
      "3. feature 12 (0.119850)\n",
      "4. feature 2 (0.064524)\n",
      "5. feature 9 (0.063515)\n",
      "6. feature 8 (0.061943)\n",
      "7. feature 10 (0.059666)\n",
      "8. feature 4 (0.054241)\n",
      "9. feature 3 (0.050490)\n",
      "10. feature 5 (0.034030)\n",
      "11. feature 20 (0.028098)\n",
      "12. feature 14 (0.017520)\n",
      "13. feature 6 (0.016225)\n",
      "14. feature 1 (0.016146)\n",
      "15. feature 16 (0.014597)\n",
      "16. feature 11 (0.010018)\n",
      "17. feature 21 (0.006428)\n",
      "18. feature 18 (0.005452)\n",
      "19. feature 19 (0.002255)\n",
      "20. feature 17 (0.001387)\n",
      "21. feature 13 (0.000654)\n",
      "22. feature 15 (0.000482)\n"
     ]
    },
    {
     "data": {
      "image/png": "[encoded data removed]",
      "text/plain": [
       "<matplotlib.figure.Figure at 0x19ea7cd1358>"
      ]
     },
     "metadata": {},
     "output_type": "display_data"
    }
   ],
   "source": [
    "#Random rf Classifier\n",
    "rf = RandomForestClassifier(min_samples_split=3)\n",
    "rf.fit(X,y)\n",
    "scores = cross_val_score(rf, X, y).mean()\n",
    "print(scores)\n",
    "\n",
    "print(X.columns)\n",
    "importances = rf.feature_importances_\n",
    "std = np.std([tree.feature_importances_ for tree in rf.estimators_],\n",
    "             axis=0)\n",
    "indices = np.argsort(importances)[::-1]\n",
    "\n",
    "# Print the feature ranking\n",
    "print(\"Feature ranking:\")\n",
    "\n",
    "for f in range(X.shape[1]):\n",
    "    print(\"%d. feature %d (%f)\" % (f + 1, indices[f], importances[indices[f]]))\n",
    "\n",
    "# Plot the feature importances of the rf\n",
    "plt.figure()\n",
    "plt.title(\"Feature importances\")\n",
    "plt.bar(range(X.shape[1]), importances[indices],\n",
    "       color=\"r\", yerr=std[indices], align=\"center\")\n",
    "plt.xticks(range(X.shape[1]), indices)\n",
    "plt.xlim([-1, X.shape[1]])\n",
    "plt.show()"
   ]
  },
  {
   "cell_type": "code",
   "execution_count": 2260,
   "metadata": {},
   "outputs": [
    {
     "name": "stdout",
     "output_type": "stream",
     "text": [
      "Index(['placement', 'position', 'browser', 'carrier', 'supply_type',\n",
      "       'language', 'region', 'os_extended', 'publisher', 'device_model',\n",
      "       'user_day', 'user_hour', 'domctr', 'pc & other devices', 'tablet',\n",
      "       'game console', 'set top box', 'tv', '320x50', '160x600', '728x90',\n",
      "       '300x600'],\n",
      "      dtype='object')\n",
      "[ 0.27612282  0.01435295  0.06025189  0.04249882  0.02192753  0.02602828\n",
      "  0.02436807  0.12820457  0.03164686  0.10119949  0.05750329  0.01004022\n",
      "  0.15028698  0.00230679  0.01685913  0.          0.00344928  0.00054876\n",
      "  0.00501192  0.00319267  0.01652915  0.00767052]\n"
     ]
    }
   ],
   "source": [
    "X_test=df_test\n",
    "#Feature Importance\n",
    "features=X_test.columns\n",
    "print(features)\n",
    "print(dt.feature_importances_)"
   ]
  },
  {
   "cell_type": "code",
   "execution_count": 2261,
   "metadata": {},
   "outputs": [
    {
     "name": "stdout",
     "output_type": "stream",
     "text": [
      "[[163  67]\n",
      " [ 40  99]]\n",
      "[[179  51]\n",
      " [ 38 101]]\n",
      "[[193  37]\n",
      " [ 69  70]]\n"
     ]
    }
   ],
   "source": [
    "#Predict and get the confusion Matrix\n",
    "X_test = df_test\n",
    "preds = dt.predict(X_test, check_input=True)\n",
    "print(confusion_matrix(y_test, preds))\n",
    "\n",
    "#RandomForest\n",
    "preds3 = rf.predict(X_test)\n",
    "print(confusion_matrix(y_test,preds3))\n",
    "\n",
    "#Logistcregression\n",
    "preds4 = pipeline.predict(X_test)\n",
    "print(confusion_matrix(y_test,preds4))"
   ]
  },
  {
   "cell_type": "code",
   "execution_count": 2262,
   "metadata": {},
   "outputs": [
    {
     "data": {
      "image/png": "[encoded data removed]",
      "text/plain": [
       "<matplotlib.figure.Figure at 0x19ea4e43940>"
      ]
     },
     "metadata": {},
     "output_type": "display_data"
    },
    {
     "data": {
      "image/png": "[encoded data removed]",
      "text/plain": [
       "<matplotlib.figure.Figure at 0x19ea4eacc88>"
      ]
     },
     "metadata": {},
     "output_type": "display_data"
    },
    {
     "data": {
      "image/png": "[encoded data removed]",
      "text/plain": [
       "<matplotlib.figure.Figure at 0x19ea7a32e48>"
      ]
     },
     "metadata": {},
     "output_type": "display_data"
    }
   ],
   "source": [
    "#Plot ROC curve and Precision-Recall\n",
    "from sklearn.metrics import roc_curve\n",
    "\n",
    "y_pred_rf = rf.predict_proba(X_test)[:, 1]\n",
    "y_pred_lg = pipeline.predict_proba(X_test)[:, 1]\n",
    "y_pred_dt = dt.predict_proba(X_test)[:, 1]\n",
    "\n",
    "fpr_rf, tpr_rf, _ = roc_curve(y_test, y_pred_rf)\n",
    "fpr_lg, tpr_lg, _ = roc_curve(y_test, y_pred_lg)\n",
    "fpr_dt, tpr_dt, _ = roc_curve(y_test, y_pred_dt)\n",
    "\n",
    "# The random forest model by itself\n",
    "plt.figure(1)\n",
    "plt.plot(fpr_rf, tpr_rf, label='RF')\n",
    "plt.plot(fpr_lg, tpr_lg, label='LR')\n",
    "plt.plot(fpr_dt, tpr_dt, label='DT')\n",
    "plt.xlabel('False positive rate')\n",
    "plt.ylabel('True positive rate')\n",
    "plt.title('ROC curve')\n",
    "plt.legend(loc='best')\n",
    "plt.show()\n",
    "\n",
    "plt.figure(2)\n",
    "plt.xlim(0.1, 0.3)\n",
    "plt.ylim(0.6, 0.9)\n",
    "plt.plot([0, 1], [0, 1], 'k--')\n",
    "plt.plot(fpr_rf, tpr_rf, label='RF')\n",
    "plt.plot(fpr_lg, tpr_lg, label='LR')\n",
    "plt.plot(fpr_dt, tpr_dt, label='DT')\n",
    "plt.xlabel('False positive rate')\n",
    "plt.ylabel('True positive rate')\n",
    "plt.title('ROC curve (zoomed in at top left)')\n",
    "plt.legend(loc='best')\n",
    "plt.show()\n",
    "\n",
    "y_score=y_pred_rf\n",
    "average_precision = average_precision_score(y_test, y_score)\n",
    "precision, recall, _ = precision_recall_curve(y_test, y_score)\n",
    "plt.step(recall, precision, color='b', alpha=0.2,where='post')\n",
    "plt.fill_between(recall, precision, step='post', alpha=0.2,color='b')\n",
    "\n",
    "plt.xlabel('Recall')\n",
    "plt.ylabel('Precision')\n",
    "plt.ylim([0.0, 1.05])\n",
    "plt.xlim([0.0, 1.0])\n",
    "plt.title('2-class Precision-Recall curve: AP={0:0.2f}'.format(average_precision))\n",
    "plt.show()"
   ]
  },
  {
   "cell_type": "code",
   "execution_count": 2263,
   "metadata": {},
   "outputs": [
    {
     "name": "stdout",
     "output_type": "stream",
     "text": [
      "Precision: 0.664473684211\n",
      "Recall: 0.726618705036\n",
      "Accuracy: 0.758807588076\n"
     ]
    }
   ],
   "source": [
    "print('Precision:',precision_score(y_test, preds3))\n",
    "print('Recall:',recall_score(y_test, preds3))\n",
    "print('Accuracy:',accuracy_score(y_test,preds3))"
   ]
  },
  {
   "cell_type": "code",
   "execution_count": 2283,
   "metadata": {
    "collapsed": true,
    "scrolled": true
   },
   "outputs": [],
   "source": [
    "def write(data):\n",
    "    final = data\n",
    "    final['prob']=0.0\n",
    "    final['prob']=y_pred_axis\n",
    "    final.head()\n",
    "    final.to_csv('test_prob.csv',index=False)\n",
    "#final = pd.concat([dfo_test,yarr],axis=1)"
   ]
  },
  {
   "cell_type": "code",
   "execution_count": 2266,
   "metadata": {
    "collapsed": true
   },
   "outputs": [],
   "source": [
    "#plt.hist(y_pred_grd)\n",
    "X_test2 = dfo_test\n",
    "y_pred_axis = rf.predict_proba(X_test2)[:,1]"
   ]
  },
  {
   "cell_type": "code",
   "execution_count": 2279,
   "metadata": {},
   "outputs": [
    {
     "data": {
      "image/png": "[encoded data removed]",
      "text/plain": [
       "<matplotlib.figure.Figure at 0x19ea764a128>"
      ]
     },
     "metadata": {},
     "output_type": "display_data"
    }
   ],
   "source": [
    "plt.hist(y_pred_axis,alpha=0.3,normed=1)\n",
    "plt.hist(y_pred_rf,color='r',alpha=0.2,normed=1)\n",
    "plt.xlabel('Predicted Response')\n",
    "plt.title('Predicted Response R:My Test Sample, B: Axis Test Sample')\n",
    "plt.show()\n"
   ]
  },
  {
   "cell_type": "code",
   "execution_count": 2284,
   "metadata": {
    "collapsed": true
   },
   "outputs": [],
   "source": [
    "write(dfo_test)"
   ]
  },
  {
   "cell_type": "code",
   "execution_count": 2285,
   "metadata": {},
   "outputs": [
    {
     "data": {
      "text/html": [
       "<div>\n",
       "<style>\n",
       "    .dataframe thead tr:only-child th {\n",
       "        text-align: right;\n",
       "    }\n",
       "\n",
       "    .dataframe thead th {\n",
       "        text-align: left;\n",
       "    }\n",
       "\n",
       "    .dataframe tbody tr th {\n",
       "        vertical-align: top;\n",
       "    }\n",
       "</style>\n",
       "<table border=\"1\" class=\"dataframe\">\n",
       "  <thead>\n",
       "    <tr style=\"text-align: right;\">\n",
       "      <th></th>\n",
       "      <th>placement</th>\n",
       "      <th>position</th>\n",
       "      <th>browser</th>\n",
       "      <th>carrier</th>\n",
       "      <th>supply_type</th>\n",
       "      <th>language</th>\n",
       "      <th>region</th>\n",
       "      <th>os_extended</th>\n",
       "      <th>publisher</th>\n",
       "      <th>device_model</th>\n",
       "      <th>...</th>\n",
       "      <th>pc &amp; other devices</th>\n",
       "      <th>set top box</th>\n",
       "      <th>tv</th>\n",
       "      <th>game console</th>\n",
       "      <th>tablet</th>\n",
       "      <th>320x50</th>\n",
       "      <th>160x600</th>\n",
       "      <th>728x90</th>\n",
       "      <th>300x600</th>\n",
       "      <th>prob</th>\n",
       "    </tr>\n",
       "  </thead>\n",
       "  <tbody>\n",
       "    <tr>\n",
       "      <th>0</th>\n",
       "      <td>-0.391414</td>\n",
       "      <td>1</td>\n",
       "      <td>9</td>\n",
       "      <td>1</td>\n",
       "      <td>1</td>\n",
       "      <td>1</td>\n",
       "      <td>0</td>\n",
       "      <td>0.861971</td>\n",
       "      <td>-0.074557</td>\n",
       "      <td>301</td>\n",
       "      <td>...</td>\n",
       "      <td>0</td>\n",
       "      <td>1</td>\n",
       "      <td>0</td>\n",
       "      <td>0</td>\n",
       "      <td>0</td>\n",
       "      <td>0</td>\n",
       "      <td>0</td>\n",
       "      <td>1</td>\n",
       "      <td>0</td>\n",
       "      <td>0.566667</td>\n",
       "    </tr>\n",
       "    <tr>\n",
       "      <th>1</th>\n",
       "      <td>0.670259</td>\n",
       "      <td>2</td>\n",
       "      <td>8</td>\n",
       "      <td>282</td>\n",
       "      <td>0</td>\n",
       "      <td>0</td>\n",
       "      <td>0</td>\n",
       "      <td>0.583132</td>\n",
       "      <td>0.590764</td>\n",
       "      <td>100234</td>\n",
       "      <td>...</td>\n",
       "      <td>0</td>\n",
       "      <td>1</td>\n",
       "      <td>0</td>\n",
       "      <td>0</td>\n",
       "      <td>0</td>\n",
       "      <td>0</td>\n",
       "      <td>0</td>\n",
       "      <td>0</td>\n",
       "      <td>0</td>\n",
       "      <td>0.400000</td>\n",
       "    </tr>\n",
       "    <tr>\n",
       "      <th>2</th>\n",
       "      <td>0.825863</td>\n",
       "      <td>0</td>\n",
       "      <td>8</td>\n",
       "      <td>1</td>\n",
       "      <td>0</td>\n",
       "      <td>1</td>\n",
       "      <td>0</td>\n",
       "      <td>-0.988505</td>\n",
       "      <td>0.700774</td>\n",
       "      <td>0</td>\n",
       "      <td>...</td>\n",
       "      <td>1</td>\n",
       "      <td>0</td>\n",
       "      <td>0</td>\n",
       "      <td>0</td>\n",
       "      <td>0</td>\n",
       "      <td>1</td>\n",
       "      <td>0</td>\n",
       "      <td>0</td>\n",
       "      <td>0</td>\n",
       "      <td>0.516667</td>\n",
       "    </tr>\n",
       "    <tr>\n",
       "      <th>3</th>\n",
       "      <td>-0.544617</td>\n",
       "      <td>0</td>\n",
       "      <td>14</td>\n",
       "      <td>1</td>\n",
       "      <td>1</td>\n",
       "      <td>1</td>\n",
       "      <td>0</td>\n",
       "      <td>-0.456176</td>\n",
       "      <td>-0.400001</td>\n",
       "      <td>100499</td>\n",
       "      <td>...</td>\n",
       "      <td>0</td>\n",
       "      <td>0</td>\n",
       "      <td>1</td>\n",
       "      <td>0</td>\n",
       "      <td>0</td>\n",
       "      <td>0</td>\n",
       "      <td>0</td>\n",
       "      <td>1</td>\n",
       "      <td>0</td>\n",
       "      <td>0.300000</td>\n",
       "    </tr>\n",
       "    <tr>\n",
       "      <th>4</th>\n",
       "      <td>0.670259</td>\n",
       "      <td>0</td>\n",
       "      <td>8</td>\n",
       "      <td>1</td>\n",
       "      <td>0</td>\n",
       "      <td>2</td>\n",
       "      <td>0</td>\n",
       "      <td>0.228246</td>\n",
       "      <td>0.590764</td>\n",
       "      <td>0</td>\n",
       "      <td>...</td>\n",
       "      <td>1</td>\n",
       "      <td>0</td>\n",
       "      <td>0</td>\n",
       "      <td>0</td>\n",
       "      <td>0</td>\n",
       "      <td>0</td>\n",
       "      <td>0</td>\n",
       "      <td>0</td>\n",
       "      <td>0</td>\n",
       "      <td>0.183333</td>\n",
       "    </tr>\n",
       "  </tbody>\n",
       "</table>\n",
       "<p>5 rows × 23 columns</p>\n",
       "</div>"
      ],
      "text/plain": [
       "   placement  position  browser  carrier  supply_type  language  region  \\\n",
       "0  -0.391414         1        9        1            1         1       0   \n",
       "1   0.670259         2        8      282            0         0       0   \n",
       "2   0.825863         0        8        1            0         1       0   \n",
       "3  -0.544617         0       14        1            1         1       0   \n",
       "4   0.670259         0        8        1            0         2       0   \n",
       "\n",
       "   os_extended  publisher  device_model    ...     pc & other devices  \\\n",
       "0     0.861971  -0.074557           301    ...                      0   \n",
       "1     0.583132   0.590764        100234    ...                      0   \n",
       "2    -0.988505   0.700774             0    ...                      1   \n",
       "3    -0.456176  -0.400001        100499    ...                      0   \n",
       "4     0.228246   0.590764             0    ...                      1   \n",
       "\n",
       "   set top box  tv  game console  tablet  320x50  160x600  728x90  300x600  \\\n",
       "0            1   0             0       0       0        0       1        0   \n",
       "1            1   0             0       0       0        0       0        0   \n",
       "2            0   0             0       0       1        0       0        0   \n",
       "3            0   1             0       0       0        0       1        0   \n",
       "4            0   0             0       0       0        0       0        0   \n",
       "\n",
       "       prob  \n",
       "0  0.566667  \n",
       "1  0.400000  \n",
       "2  0.516667  \n",
       "3  0.300000  \n",
       "4  0.183333  \n",
       "\n",
       "[5 rows x 23 columns]"
      ]
     },
     "execution_count": 2285,
     "metadata": {},
     "output_type": "execute_result"
    }
   ],
   "source": [
    "check = pd.read_csv('./test_prob.csv')\n",
    "check.head()"
   ]
  }
 ],
 "metadata": {
  "kernelspec": {
   "display_name": "Python 3",
   "language": "python",
   "name": "python3"
  },
  "language_info": {
   "codemirror_mode": {
    "name": "ipython",
    "version": 3
   },
   "file_extension": ".py",
   "mimetype": "text/x-python",
   "name": "python",
   "nbconvert_exporter": "python",
   "pygments_lexer": "ipython3",
   "version": "3.6.2"
  }
 },
 "nbformat": 4,
 "nbformat_minor": 2
}
